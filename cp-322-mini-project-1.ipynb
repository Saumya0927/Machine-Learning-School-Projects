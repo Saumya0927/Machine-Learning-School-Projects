{
 "cells": [
  {
   "cell_type": "markdown",
   "id": "f00aa4b5",
   "metadata": {
    "papermill": {
     "duration": 0.01055,
     "end_time": "2023-10-23T01:05:44.792831",
     "exception": false,
     "start_time": "2023-10-23T01:05:44.782281",
     "status": "completed"
    },
    "tags": []
   },
   "source": [
    "# CP-322 Mini Project 1"
   ]
  },
  {
   "cell_type": "markdown",
   "id": "b51bdb95",
   "metadata": {
    "papermill": {
     "duration": 0.009955,
     "end_time": "2023-10-23T01:05:44.814133",
     "exception": false,
     "start_time": "2023-10-23T01:05:44.804178",
     "status": "completed"
    },
    "tags": []
   },
   "source": [
    "# Imports\n"
   ]
  },
  {
   "cell_type": "code",
   "execution_count": 1,
   "id": "3554e4e5",
   "metadata": {
    "execution": {
     "iopub.execute_input": "2023-10-23T01:05:44.836460Z",
     "iopub.status.busy": "2023-10-23T01:05:44.836079Z",
     "iopub.status.idle": "2023-10-23T01:05:46.627001Z",
     "shell.execute_reply": "2023-10-23T01:05:46.625719Z"
    },
    "papermill": {
     "duration": 1.804868,
     "end_time": "2023-10-23T01:05:46.629469",
     "exception": false,
     "start_time": "2023-10-23T01:05:44.824601",
     "status": "completed"
    },
    "tags": []
   },
   "outputs": [],
   "source": [
    "import numpy as np\n",
    "import pandas as pd\n",
    "import matplotlib.pyplot as plt\n",
    "import seaborn as sns"
   ]
  },
  {
   "cell_type": "markdown",
   "id": "8367791f",
   "metadata": {
    "papermill": {
     "duration": 0.00978,
     "end_time": "2023-10-23T01:05:46.650233",
     "exception": false,
     "start_time": "2023-10-23T01:05:46.640453",
     "status": "completed"
    },
    "tags": []
   },
   "source": [
    "# Task 1"
   ]
  },
  {
   "cell_type": "code",
   "execution_count": 2,
   "id": "1ce99520",
   "metadata": {
    "execution": {
     "iopub.execute_input": "2023-10-23T01:05:46.672174Z",
     "iopub.status.busy": "2023-10-23T01:05:46.671643Z",
     "iopub.status.idle": "2023-10-23T01:05:46.864214Z",
     "shell.execute_reply": "2023-10-23T01:05:46.862624Z"
    },
    "papermill": {
     "duration": 0.206387,
     "end_time": "2023-10-23T01:05:46.866581",
     "exception": false,
     "start_time": "2023-10-23T01:05:46.660194",
     "status": "completed"
    },
    "tags": []
   },
   "outputs": [
    {
     "data": {
      "text/plain": [
       "{'dataAdult':    age workclass  fnlwgt     education  education.num marital.status  \\\n",
       " 0   90         ?   77053       HS-grad              9        Widowed   \n",
       " 1   82   Private  132870       HS-grad              9        Widowed   \n",
       " 2   66         ?  186061  Some-college             10        Widowed   \n",
       " 3   54   Private  140359       7th-8th              4       Divorced   \n",
       " 4   41   Private  264663  Some-college             10      Separated   \n",
       " \n",
       "           occupation   relationship   race     sex  capital.gain  \\\n",
       " 0                  ?  Not-in-family  White  Female             0   \n",
       " 1    Exec-managerial  Not-in-family  White  Female             0   \n",
       " 2                  ?      Unmarried  Black  Female             0   \n",
       " 3  Machine-op-inspct      Unmarried  White  Female             0   \n",
       " 4     Prof-specialty      Own-child  White  Female             0   \n",
       " \n",
       "    capital.loss  hours.per.week native.country income  \n",
       " 0          4356              40  United-States  <=50K  \n",
       " 1          4356              18  United-States  <=50K  \n",
       " 2          4356              40  United-States  <=50K  \n",
       " 3          3900              40  United-States  <=50K  \n",
       " 4          3900              40  United-States  <=50K  ,\n",
       " 'ionosphere':    feature1  feature2  feature3  feature4  feature5  feature6  feature7  \\\n",
       " 0         1         0   0.99539  -0.05889   0.85243   0.02306   0.83398   \n",
       " 1         1         0   1.00000  -0.18829   0.93035  -0.36156  -0.10868   \n",
       " 2         1         0   1.00000  -0.03365   1.00000   0.00485   1.00000   \n",
       " 3         1         0   1.00000  -0.45161   1.00000   1.00000   0.71216   \n",
       " 4         1         0   1.00000  -0.02401   0.94140   0.06531   0.92106   \n",
       " \n",
       "    feature8  feature9  feature10  ...  feature26  feature27  feature28  \\\n",
       " 0  -0.37708   1.00000    0.03760  ...   -0.51171    0.41078   -0.46168   \n",
       " 1  -0.93597   1.00000   -0.04549  ...   -0.26569   -0.20468   -0.18401   \n",
       " 2  -0.12062   0.88965    0.01198  ...   -0.40220    0.58984   -0.22145   \n",
       " 3  -1.00000   0.00000    0.00000  ...    0.90695    0.51613    1.00000   \n",
       " 4  -0.23255   0.77152   -0.16399  ...   -0.65158    0.13290   -0.53206   \n",
       " \n",
       "    feature29  feature30  feature31  feature32  feature33  feature34  label  \n",
       " 0    0.21266   -0.34090    0.42267   -0.54487    0.18641   -0.45300      g  \n",
       " 1   -0.19040   -0.11593   -0.16626   -0.06288   -0.13738   -0.02447      b  \n",
       " 2    0.43100   -0.17365    0.60436   -0.24180    0.56045   -0.38238      g  \n",
       " 3    1.00000   -0.20099    0.25682    1.00000   -0.32382    1.00000      b  \n",
       " 4    0.02431   -0.62197   -0.05707   -0.59573   -0.04608   -0.65697      g  \n",
       " \n",
       " [5 rows x 35 columns],\n",
       " 'iris':    Id  SepalLengthCm  SepalWidthCm  PetalLengthCm  PetalWidthCm      Species\n",
       " 0   1            5.1           3.5            1.4           0.2  Iris-setosa\n",
       " 1   2            4.9           3.0            1.4           0.2  Iris-setosa\n",
       " 2   3            4.7           3.2            1.3           0.2  Iris-setosa\n",
       " 3   4            4.6           3.1            1.5           0.2  Iris-setosa\n",
       " 4   5            5.0           3.6            1.4           0.2  Iris-setosa,\n",
       " 'us_cars':    Unnamed: 0  price      brand    model  year   title_status   mileage  \\\n",
       " 0           0   6300     toyota  cruiser  2008  clean vehicle  274117.0   \n",
       " 1           1   2899       ford       se  2011  clean vehicle  190552.0   \n",
       " 2           2   5350      dodge      mpv  2018  clean vehicle   39590.0   \n",
       " 3           3  25000       ford     door  2014  clean vehicle   64146.0   \n",
       " 4           4  27700  chevrolet     1500  2018  clean vehicle    6654.0   \n",
       " \n",
       "     color                  vin        lot       state country      condition  \n",
       " 0   black    jtezu11f88k007763  159348797  new jersey     usa   10 days left  \n",
       " 1  silver    2fmdk3gc4bbb02217  166951262   tennessee     usa    6 days left  \n",
       " 2  silver    3c4pdcgg5jt346413  167655728     georgia     usa    2 days left  \n",
       " 3    blue    1ftfw1et4efc23745  167753855    virginia     usa  22 hours left  \n",
       " 4     red    3gcpcrec2jg473991  167763266     florida     usa  22 hours left  }"
      ]
     },
     "execution_count": 2,
     "metadata": {},
     "output_type": "execute_result"
    }
   ],
   "source": [
    "# Importing the data\n",
    "# If you want to run it, change the path to what ever works for your computer\n",
    "# Will also put the datasets in the zip folder with the code. \n",
    "# From our testing, it takes around 10 to 13 minutes to run the full code. Be patient when you're going to run it.\n",
    "\n",
    "# Adult data\n",
    "dataAdult = pd.read_csv('/kaggle/input/adult-data-csv-2/adult.csv')\n",
    "\n",
    "# Ionosphere\n",
    "ionosphere = pd.read_csv('/kaggle/input/ionosphere-data-csv/ionosphere_data_kaggle.csv')\n",
    "\n",
    "# Iris data\n",
    "iris = pd.read_csv('/kaggle/input/iris-data/Iris.csv')\n",
    "\n",
    "# US cars data\n",
    "us_cars = pd.read_csv('/kaggle/input/us-cars/USA_cars_datasets.csv')\n",
    "\n",
    "datasets = {\n",
    "    'dataAdult': dataAdult.head(),\n",
    "    'ionosphere': ionosphere.head(),\n",
    "    'iris': iris.head(),\n",
    "    'us_cars': us_cars.head()\n",
    "}\n",
    "\n",
    "datasets"
   ]
  },
  {
   "cell_type": "markdown",
   "id": "d48731ec",
   "metadata": {
    "papermill": {
     "duration": 0.010651,
     "end_time": "2023-10-23T01:05:46.888675",
     "exception": false,
     "start_time": "2023-10-23T01:05:46.878024",
     "status": "completed"
    },
    "tags": []
   },
   "source": [
    "**Adult Data**"
   ]
  },
  {
   "cell_type": "code",
   "execution_count": 3,
   "id": "34f07627",
   "metadata": {
    "execution": {
     "iopub.execute_input": "2023-10-23T01:05:46.912639Z",
     "iopub.status.busy": "2023-10-23T01:05:46.912261Z",
     "iopub.status.idle": "2023-10-23T01:05:47.033136Z",
     "shell.execute_reply": "2023-10-23T01:05:47.031121Z"
    },
    "papermill": {
     "duration": 0.136525,
     "end_time": "2023-10-23T01:05:47.036333",
     "exception": false,
     "start_time": "2023-10-23T01:05:46.899808",
     "status": "completed"
    },
    "tags": []
   },
   "outputs": [
    {
     "name": "stdout",
     "output_type": "stream",
     "text": [
      "Index(['age', 'workclass', 'fnlwgt', 'education', 'education.num',\n",
      "       'marital.status', 'occupation', 'relationship', 'race', 'sex',\n",
      "       'capital.gain', 'capital.loss', 'hours.per.week', 'native.country',\n",
      "       'income'],\n",
      "      dtype='object')\n"
     ]
    },
    {
     "data": {
      "text/plain": [
       "workclass           0\n",
       "education           0\n",
       "marital.status      0\n",
       "occupation        644\n",
       "relationship        0\n",
       "race                0\n",
       "sex                 0\n",
       "income              0\n",
       "dtype: int64"
      ]
     },
     "execution_count": 3,
     "metadata": {},
     "output_type": "execute_result"
    }
   ],
   "source": [
    "dataAdult.isin(['?']).sum()\n",
    "\n",
    "dataAdult['workclass']=dataAdult['workclass'].replace('?',np.nan)    \n",
    "dataAdult['occupation']=dataAdult['occupation'].replace('?',np.nan)  \n",
    "dataAdult['native.country']=dataAdult['native.country'].replace('?',np.nan)  \n",
    "# Drop the rows which has NaN rows \n",
    "dataAdult.dropna(how='any',inplace=True)\n",
    "dataAdult.dropna()\n",
    "print(dataAdult.columns)\n",
    "\n",
    "dataAdult = dataAdult.drop(['education.num','age', 'hours.per.week', 'fnlwgt', 'capital.gain','capital.loss', 'native.country'], axis=1)\n",
    "\n",
    "#income\n",
    "dataAdult['income'] = dataAdult['income'].map({'<=50K': 0, '>50K': 1}).astype(int, errors='ignore')\n",
    "\n",
    "#gender\n",
    "dataAdult['sex'] = dataAdult['sex'].map({'Male': 0, 'Female': 1}).astype(int, errors='ignore')\n",
    "\n",
    "#race\n",
    "dataAdult['race'] = dataAdult['race'].map({'Black': 0, 'Asian-Pac-Islander': 1, 'Other': 2, 'White': 3, 'Amer-Indian-Eskimo': 4}).astype(int, errors='ignore')\n",
    "\n",
    "#marital\n",
    "dataAdult['marital.status'] = dataAdult['marital.status'].map({'Married-spouse-absent': 0, 'Widowed': 1, 'Married-civ-spouse': 2, 'Separated': 3, 'Divorced': 4,'Never-married': 5, 'Married-AF-spouse': 6}).astype(int, errors='ignore')\n",
    "\n",
    "#workclass\n",
    "dataAdult['workclass'] = dataAdult['workclass'].map({'Self-emp-inc': 0, 'State-gov': 1,'Federal-gov': 2, 'Without-pay': 3, 'Local-gov': 4,'Private': 5, 'Self-emp-not-inc': 6}).astype(int, errors='ignore')\n",
    "\n",
    "#education\n",
    "dataAdult['education'] = dataAdult['education'].map({'Some-college': 0, 'Preschool': 1, '5th-6th': 2, 'HS-grad': 3, 'Masters': 4, '12th': 5, '7th-8th': 6, 'Prof-school': 7,'1st-4th': 8, 'Assoc-acdm': 9, 'Doctorate': 10, '11th': 11,'Bachelors': 12, '10th': 13,'Assoc-voc': 14,'9th': 15}).astype(int, errors='ignore')\n",
    "\n",
    "#occupation\n",
    "dataAdult['occupation'] = dataAdult['occupation'].map({ 'Farming-fishing': 1, 'Tech-support': 2, 'Adm-clerical': 3, 'Handlers-cleaners': 4, \n",
    " 'Prof-specialty': 5,'Machine-op-inspct': 6, 'Exec-managerial': 7,'Priv-house-serv': 8,'Craft-repair': 9,'Sales': 10, 'Transport-moving': 11, 'Armed-Forces': 12, 'Other-service': 13,'Protective-     serv':14}).astype(int, errors='ignore')\n",
    "\n",
    "#relationship\n",
    "dataAdult['relationship'] = dataAdult['relationship'].map({'Not-in-family': 0, 'Wife': 1, 'Other-relative': 2, 'Unmarried': 3,'Husband': 4,'Own-child': 5}).astype(int, errors='ignore')\n",
    "\n",
    "dataAdult.dropna()\n",
    "dataAdult.columns\n",
    "dataAdult.isnull().sum()"
   ]
  },
  {
   "cell_type": "markdown",
   "id": "28f76ef2",
   "metadata": {
    "papermill": {
     "duration": 0.01063,
     "end_time": "2023-10-23T01:05:47.058234",
     "exception": false,
     "start_time": "2023-10-23T01:05:47.047604",
     "status": "completed"
    },
    "tags": []
   },
   "source": [
    "**Ionosphere**"
   ]
  },
  {
   "cell_type": "code",
   "execution_count": 4,
   "id": "03a1bed2",
   "metadata": {
    "execution": {
     "iopub.execute_input": "2023-10-23T01:05:47.081520Z",
     "iopub.status.busy": "2023-10-23T01:05:47.081143Z",
     "iopub.status.idle": "2023-10-23T01:05:47.113903Z",
     "shell.execute_reply": "2023-10-23T01:05:47.112449Z"
    },
    "papermill": {
     "duration": 0.047283,
     "end_time": "2023-10-23T01:05:47.116557",
     "exception": false,
     "start_time": "2023-10-23T01:05:47.069274",
     "status": "completed"
    },
    "tags": []
   },
   "outputs": [
    {
     "data": {
      "text/html": [
       "<div>\n",
       "<style scoped>\n",
       "    .dataframe tbody tr th:only-of-type {\n",
       "        vertical-align: middle;\n",
       "    }\n",
       "\n",
       "    .dataframe tbody tr th {\n",
       "        vertical-align: top;\n",
       "    }\n",
       "\n",
       "    .dataframe thead th {\n",
       "        text-align: right;\n",
       "    }\n",
       "</style>\n",
       "<table border=\"1\" class=\"dataframe\">\n",
       "  <thead>\n",
       "    <tr style=\"text-align: right;\">\n",
       "      <th></th>\n",
       "      <th>feature1</th>\n",
       "      <th>feature2</th>\n",
       "      <th>feature3</th>\n",
       "      <th>feature4</th>\n",
       "      <th>feature5</th>\n",
       "      <th>feature6</th>\n",
       "      <th>feature7</th>\n",
       "      <th>feature8</th>\n",
       "      <th>feature9</th>\n",
       "      <th>feature10</th>\n",
       "      <th>...</th>\n",
       "      <th>feature26</th>\n",
       "      <th>feature27</th>\n",
       "      <th>feature28</th>\n",
       "      <th>feature29</th>\n",
       "      <th>feature30</th>\n",
       "      <th>feature31</th>\n",
       "      <th>feature32</th>\n",
       "      <th>feature33</th>\n",
       "      <th>feature34</th>\n",
       "      <th>label</th>\n",
       "    </tr>\n",
       "  </thead>\n",
       "  <tbody>\n",
       "    <tr>\n",
       "      <th>0</th>\n",
       "      <td>1</td>\n",
       "      <td>0</td>\n",
       "      <td>0.99539</td>\n",
       "      <td>-0.05889</td>\n",
       "      <td>0.85243</td>\n",
       "      <td>0.02306</td>\n",
       "      <td>0.83398</td>\n",
       "      <td>-0.37708</td>\n",
       "      <td>1.00000</td>\n",
       "      <td>0.03760</td>\n",
       "      <td>...</td>\n",
       "      <td>-0.51171</td>\n",
       "      <td>0.41078</td>\n",
       "      <td>-0.46168</td>\n",
       "      <td>0.21266</td>\n",
       "      <td>-0.34090</td>\n",
       "      <td>0.42267</td>\n",
       "      <td>-0.54487</td>\n",
       "      <td>0.18641</td>\n",
       "      <td>-0.45300</td>\n",
       "      <td>1</td>\n",
       "    </tr>\n",
       "    <tr>\n",
       "      <th>1</th>\n",
       "      <td>1</td>\n",
       "      <td>0</td>\n",
       "      <td>1.00000</td>\n",
       "      <td>-0.18829</td>\n",
       "      <td>0.93035</td>\n",
       "      <td>-0.36156</td>\n",
       "      <td>-0.10868</td>\n",
       "      <td>-0.93597</td>\n",
       "      <td>1.00000</td>\n",
       "      <td>-0.04549</td>\n",
       "      <td>...</td>\n",
       "      <td>-0.26569</td>\n",
       "      <td>-0.20468</td>\n",
       "      <td>-0.18401</td>\n",
       "      <td>-0.19040</td>\n",
       "      <td>-0.11593</td>\n",
       "      <td>-0.16626</td>\n",
       "      <td>-0.06288</td>\n",
       "      <td>-0.13738</td>\n",
       "      <td>-0.02447</td>\n",
       "      <td>0</td>\n",
       "    </tr>\n",
       "    <tr>\n",
       "      <th>2</th>\n",
       "      <td>1</td>\n",
       "      <td>0</td>\n",
       "      <td>1.00000</td>\n",
       "      <td>-0.03365</td>\n",
       "      <td>1.00000</td>\n",
       "      <td>0.00485</td>\n",
       "      <td>1.00000</td>\n",
       "      <td>-0.12062</td>\n",
       "      <td>0.88965</td>\n",
       "      <td>0.01198</td>\n",
       "      <td>...</td>\n",
       "      <td>-0.40220</td>\n",
       "      <td>0.58984</td>\n",
       "      <td>-0.22145</td>\n",
       "      <td>0.43100</td>\n",
       "      <td>-0.17365</td>\n",
       "      <td>0.60436</td>\n",
       "      <td>-0.24180</td>\n",
       "      <td>0.56045</td>\n",
       "      <td>-0.38238</td>\n",
       "      <td>1</td>\n",
       "    </tr>\n",
       "    <tr>\n",
       "      <th>3</th>\n",
       "      <td>1</td>\n",
       "      <td>0</td>\n",
       "      <td>1.00000</td>\n",
       "      <td>-0.45161</td>\n",
       "      <td>1.00000</td>\n",
       "      <td>1.00000</td>\n",
       "      <td>0.71216</td>\n",
       "      <td>-1.00000</td>\n",
       "      <td>0.00000</td>\n",
       "      <td>0.00000</td>\n",
       "      <td>...</td>\n",
       "      <td>0.90695</td>\n",
       "      <td>0.51613</td>\n",
       "      <td>1.00000</td>\n",
       "      <td>1.00000</td>\n",
       "      <td>-0.20099</td>\n",
       "      <td>0.25682</td>\n",
       "      <td>1.00000</td>\n",
       "      <td>-0.32382</td>\n",
       "      <td>1.00000</td>\n",
       "      <td>0</td>\n",
       "    </tr>\n",
       "    <tr>\n",
       "      <th>4</th>\n",
       "      <td>1</td>\n",
       "      <td>0</td>\n",
       "      <td>1.00000</td>\n",
       "      <td>-0.02401</td>\n",
       "      <td>0.94140</td>\n",
       "      <td>0.06531</td>\n",
       "      <td>0.92106</td>\n",
       "      <td>-0.23255</td>\n",
       "      <td>0.77152</td>\n",
       "      <td>-0.16399</td>\n",
       "      <td>...</td>\n",
       "      <td>-0.65158</td>\n",
       "      <td>0.13290</td>\n",
       "      <td>-0.53206</td>\n",
       "      <td>0.02431</td>\n",
       "      <td>-0.62197</td>\n",
       "      <td>-0.05707</td>\n",
       "      <td>-0.59573</td>\n",
       "      <td>-0.04608</td>\n",
       "      <td>-0.65697</td>\n",
       "      <td>1</td>\n",
       "    </tr>\n",
       "    <tr>\n",
       "      <th>...</th>\n",
       "      <td>...</td>\n",
       "      <td>...</td>\n",
       "      <td>...</td>\n",
       "      <td>...</td>\n",
       "      <td>...</td>\n",
       "      <td>...</td>\n",
       "      <td>...</td>\n",
       "      <td>...</td>\n",
       "      <td>...</td>\n",
       "      <td>...</td>\n",
       "      <td>...</td>\n",
       "      <td>...</td>\n",
       "      <td>...</td>\n",
       "      <td>...</td>\n",
       "      <td>...</td>\n",
       "      <td>...</td>\n",
       "      <td>...</td>\n",
       "      <td>...</td>\n",
       "      <td>...</td>\n",
       "      <td>...</td>\n",
       "      <td>...</td>\n",
       "    </tr>\n",
       "    <tr>\n",
       "      <th>346</th>\n",
       "      <td>1</td>\n",
       "      <td>0</td>\n",
       "      <td>0.83508</td>\n",
       "      <td>0.08298</td>\n",
       "      <td>0.73739</td>\n",
       "      <td>-0.14706</td>\n",
       "      <td>0.84349</td>\n",
       "      <td>-0.05567</td>\n",
       "      <td>0.90441</td>\n",
       "      <td>-0.04622</td>\n",
       "      <td>...</td>\n",
       "      <td>-0.04202</td>\n",
       "      <td>0.83479</td>\n",
       "      <td>0.00123</td>\n",
       "      <td>1.00000</td>\n",
       "      <td>0.12815</td>\n",
       "      <td>0.86660</td>\n",
       "      <td>-0.10714</td>\n",
       "      <td>0.90546</td>\n",
       "      <td>-0.04307</td>\n",
       "      <td>1</td>\n",
       "    </tr>\n",
       "    <tr>\n",
       "      <th>347</th>\n",
       "      <td>1</td>\n",
       "      <td>0</td>\n",
       "      <td>0.95113</td>\n",
       "      <td>0.00419</td>\n",
       "      <td>0.95183</td>\n",
       "      <td>-0.02723</td>\n",
       "      <td>0.93438</td>\n",
       "      <td>-0.01920</td>\n",
       "      <td>0.94590</td>\n",
       "      <td>0.01606</td>\n",
       "      <td>...</td>\n",
       "      <td>0.01361</td>\n",
       "      <td>0.93522</td>\n",
       "      <td>0.04925</td>\n",
       "      <td>0.93159</td>\n",
       "      <td>0.08168</td>\n",
       "      <td>0.94066</td>\n",
       "      <td>-0.00035</td>\n",
       "      <td>0.91483</td>\n",
       "      <td>0.04712</td>\n",
       "      <td>1</td>\n",
       "    </tr>\n",
       "    <tr>\n",
       "      <th>348</th>\n",
       "      <td>1</td>\n",
       "      <td>0</td>\n",
       "      <td>0.94701</td>\n",
       "      <td>-0.00034</td>\n",
       "      <td>0.93207</td>\n",
       "      <td>-0.03227</td>\n",
       "      <td>0.95177</td>\n",
       "      <td>-0.03431</td>\n",
       "      <td>0.95584</td>\n",
       "      <td>0.02446</td>\n",
       "      <td>...</td>\n",
       "      <td>0.03193</td>\n",
       "      <td>0.92489</td>\n",
       "      <td>0.02542</td>\n",
       "      <td>0.92120</td>\n",
       "      <td>0.02242</td>\n",
       "      <td>0.92459</td>\n",
       "      <td>0.00442</td>\n",
       "      <td>0.92697</td>\n",
       "      <td>-0.00577</td>\n",
       "      <td>1</td>\n",
       "    </tr>\n",
       "    <tr>\n",
       "      <th>349</th>\n",
       "      <td>1</td>\n",
       "      <td>0</td>\n",
       "      <td>0.90608</td>\n",
       "      <td>-0.01657</td>\n",
       "      <td>0.98122</td>\n",
       "      <td>-0.01989</td>\n",
       "      <td>0.95691</td>\n",
       "      <td>-0.03646</td>\n",
       "      <td>0.85746</td>\n",
       "      <td>0.00110</td>\n",
       "      <td>...</td>\n",
       "      <td>-0.02099</td>\n",
       "      <td>0.89147</td>\n",
       "      <td>-0.07760</td>\n",
       "      <td>0.82983</td>\n",
       "      <td>-0.17238</td>\n",
       "      <td>0.96022</td>\n",
       "      <td>-0.03757</td>\n",
       "      <td>0.87403</td>\n",
       "      <td>-0.16243</td>\n",
       "      <td>1</td>\n",
       "    </tr>\n",
       "    <tr>\n",
       "      <th>350</th>\n",
       "      <td>1</td>\n",
       "      <td>0</td>\n",
       "      <td>0.84710</td>\n",
       "      <td>0.13533</td>\n",
       "      <td>0.73638</td>\n",
       "      <td>-0.06151</td>\n",
       "      <td>0.87873</td>\n",
       "      <td>0.08260</td>\n",
       "      <td>0.88928</td>\n",
       "      <td>-0.09139</td>\n",
       "      <td>...</td>\n",
       "      <td>-0.15114</td>\n",
       "      <td>0.81147</td>\n",
       "      <td>-0.04822</td>\n",
       "      <td>0.78207</td>\n",
       "      <td>-0.00703</td>\n",
       "      <td>0.75747</td>\n",
       "      <td>-0.06678</td>\n",
       "      <td>0.85764</td>\n",
       "      <td>-0.06151</td>\n",
       "      <td>1</td>\n",
       "    </tr>\n",
       "  </tbody>\n",
       "</table>\n",
       "<p>351 rows × 35 columns</p>\n",
       "</div>"
      ],
      "text/plain": [
       "     feature1  feature2  feature3  feature4  feature5  feature6  feature7  \\\n",
       "0           1         0   0.99539  -0.05889   0.85243   0.02306   0.83398   \n",
       "1           1         0   1.00000  -0.18829   0.93035  -0.36156  -0.10868   \n",
       "2           1         0   1.00000  -0.03365   1.00000   0.00485   1.00000   \n",
       "3           1         0   1.00000  -0.45161   1.00000   1.00000   0.71216   \n",
       "4           1         0   1.00000  -0.02401   0.94140   0.06531   0.92106   \n",
       "..        ...       ...       ...       ...       ...       ...       ...   \n",
       "346         1         0   0.83508   0.08298   0.73739  -0.14706   0.84349   \n",
       "347         1         0   0.95113   0.00419   0.95183  -0.02723   0.93438   \n",
       "348         1         0   0.94701  -0.00034   0.93207  -0.03227   0.95177   \n",
       "349         1         0   0.90608  -0.01657   0.98122  -0.01989   0.95691   \n",
       "350         1         0   0.84710   0.13533   0.73638  -0.06151   0.87873   \n",
       "\n",
       "     feature8  feature9  feature10  ...  feature26  feature27  feature28  \\\n",
       "0    -0.37708   1.00000    0.03760  ...   -0.51171    0.41078   -0.46168   \n",
       "1    -0.93597   1.00000   -0.04549  ...   -0.26569   -0.20468   -0.18401   \n",
       "2    -0.12062   0.88965    0.01198  ...   -0.40220    0.58984   -0.22145   \n",
       "3    -1.00000   0.00000    0.00000  ...    0.90695    0.51613    1.00000   \n",
       "4    -0.23255   0.77152   -0.16399  ...   -0.65158    0.13290   -0.53206   \n",
       "..        ...       ...        ...  ...        ...        ...        ...   \n",
       "346  -0.05567   0.90441   -0.04622  ...   -0.04202    0.83479    0.00123   \n",
       "347  -0.01920   0.94590    0.01606  ...    0.01361    0.93522    0.04925   \n",
       "348  -0.03431   0.95584    0.02446  ...    0.03193    0.92489    0.02542   \n",
       "349  -0.03646   0.85746    0.00110  ...   -0.02099    0.89147   -0.07760   \n",
       "350   0.08260   0.88928   -0.09139  ...   -0.15114    0.81147   -0.04822   \n",
       "\n",
       "     feature29  feature30  feature31  feature32  feature33  feature34  label  \n",
       "0      0.21266   -0.34090    0.42267   -0.54487    0.18641   -0.45300      1  \n",
       "1     -0.19040   -0.11593   -0.16626   -0.06288   -0.13738   -0.02447      0  \n",
       "2      0.43100   -0.17365    0.60436   -0.24180    0.56045   -0.38238      1  \n",
       "3      1.00000   -0.20099    0.25682    1.00000   -0.32382    1.00000      0  \n",
       "4      0.02431   -0.62197   -0.05707   -0.59573   -0.04608   -0.65697      1  \n",
       "..         ...        ...        ...        ...        ...        ...    ...  \n",
       "346    1.00000    0.12815    0.86660   -0.10714    0.90546   -0.04307      1  \n",
       "347    0.93159    0.08168    0.94066   -0.00035    0.91483    0.04712      1  \n",
       "348    0.92120    0.02242    0.92459    0.00442    0.92697   -0.00577      1  \n",
       "349    0.82983   -0.17238    0.96022   -0.03757    0.87403   -0.16243      1  \n",
       "350    0.78207   -0.00703    0.75747   -0.06678    0.85764   -0.06151      1  \n",
       "\n",
       "[351 rows x 35 columns]"
      ]
     },
     "execution_count": 4,
     "metadata": {},
     "output_type": "execute_result"
    }
   ],
   "source": [
    "# Cleaned ionosphere data\n",
    "\n",
    "#rename last column from g and b to 1 and 0\n",
    "ionosphere['label'].replace('b', 0, inplace = True)\n",
    "ionosphere['label'].replace('g', 1, inplace = True)\n",
    "ionosphere\n",
    "#print(ionosphere.columns)"
   ]
  },
  {
   "cell_type": "markdown",
   "id": "412b4ed0",
   "metadata": {
    "papermill": {
     "duration": 0.010636,
     "end_time": "2023-10-23T01:05:47.138226",
     "exception": false,
     "start_time": "2023-10-23T01:05:47.127590",
     "status": "completed"
    },
    "tags": []
   },
   "source": [
    "**US Cars Data**"
   ]
  },
  {
   "cell_type": "code",
   "execution_count": 5,
   "id": "27fed4f4",
   "metadata": {
    "execution": {
     "iopub.execute_input": "2023-10-23T01:05:47.164461Z",
     "iopub.status.busy": "2023-10-23T01:05:47.163073Z",
     "iopub.status.idle": "2023-10-23T01:05:47.186179Z",
     "shell.execute_reply": "2023-10-23T01:05:47.185266Z"
    },
    "papermill": {
     "duration": 0.039174,
     "end_time": "2023-10-23T01:05:47.188561",
     "exception": false,
     "start_time": "2023-10-23T01:05:47.149387",
     "status": "completed"
    },
    "tags": []
   },
   "outputs": [
    {
     "data": {
      "text/html": [
       "<div>\n",
       "<style scoped>\n",
       "    .dataframe tbody tr th:only-of-type {\n",
       "        vertical-align: middle;\n",
       "    }\n",
       "\n",
       "    .dataframe tbody tr th {\n",
       "        vertical-align: top;\n",
       "    }\n",
       "\n",
       "    .dataframe thead th {\n",
       "        text-align: right;\n",
       "    }\n",
       "</style>\n",
       "<table border=\"1\" class=\"dataframe\">\n",
       "  <thead>\n",
       "    <tr style=\"text-align: right;\">\n",
       "      <th></th>\n",
       "      <th>price</th>\n",
       "      <th>brand</th>\n",
       "      <th>model</th>\n",
       "      <th>year</th>\n",
       "      <th>title_status</th>\n",
       "      <th>mileage</th>\n",
       "      <th>color</th>\n",
       "      <th>vin</th>\n",
       "      <th>lot</th>\n",
       "      <th>state</th>\n",
       "      <th>country</th>\n",
       "      <th>condition</th>\n",
       "    </tr>\n",
       "  </thead>\n",
       "  <tbody>\n",
       "    <tr>\n",
       "      <th>0</th>\n",
       "      <td>6300</td>\n",
       "      <td>toyota</td>\n",
       "      <td>cruiser</td>\n",
       "      <td>2008</td>\n",
       "      <td>clean vehicle</td>\n",
       "      <td>274117</td>\n",
       "      <td>black</td>\n",
       "      <td>jtezu11f88k007763</td>\n",
       "      <td>159348797</td>\n",
       "      <td>new jersey</td>\n",
       "      <td>usa</td>\n",
       "      <td>10 days left</td>\n",
       "    </tr>\n",
       "    <tr>\n",
       "      <th>1</th>\n",
       "      <td>2899</td>\n",
       "      <td>ford</td>\n",
       "      <td>se</td>\n",
       "      <td>2011</td>\n",
       "      <td>clean vehicle</td>\n",
       "      <td>190552</td>\n",
       "      <td>silver</td>\n",
       "      <td>2fmdk3gc4bbb02217</td>\n",
       "      <td>166951262</td>\n",
       "      <td>tennessee</td>\n",
       "      <td>usa</td>\n",
       "      <td>6 days left</td>\n",
       "    </tr>\n",
       "    <tr>\n",
       "      <th>2</th>\n",
       "      <td>5350</td>\n",
       "      <td>dodge</td>\n",
       "      <td>mpv</td>\n",
       "      <td>2018</td>\n",
       "      <td>clean vehicle</td>\n",
       "      <td>39590</td>\n",
       "      <td>silver</td>\n",
       "      <td>3c4pdcgg5jt346413</td>\n",
       "      <td>167655728</td>\n",
       "      <td>georgia</td>\n",
       "      <td>usa</td>\n",
       "      <td>2 days left</td>\n",
       "    </tr>\n",
       "    <tr>\n",
       "      <th>3</th>\n",
       "      <td>25000</td>\n",
       "      <td>ford</td>\n",
       "      <td>door</td>\n",
       "      <td>2014</td>\n",
       "      <td>clean vehicle</td>\n",
       "      <td>64146</td>\n",
       "      <td>blue</td>\n",
       "      <td>1ftfw1et4efc23745</td>\n",
       "      <td>167753855</td>\n",
       "      <td>virginia</td>\n",
       "      <td>usa</td>\n",
       "      <td>22 hours left</td>\n",
       "    </tr>\n",
       "    <tr>\n",
       "      <th>4</th>\n",
       "      <td>27700</td>\n",
       "      <td>chevrolet</td>\n",
       "      <td>1500</td>\n",
       "      <td>2018</td>\n",
       "      <td>clean vehicle</td>\n",
       "      <td>6654</td>\n",
       "      <td>red</td>\n",
       "      <td>3gcpcrec2jg473991</td>\n",
       "      <td>167763266</td>\n",
       "      <td>florida</td>\n",
       "      <td>usa</td>\n",
       "      <td>22 hours left</td>\n",
       "    </tr>\n",
       "    <tr>\n",
       "      <th>...</th>\n",
       "      <td>...</td>\n",
       "      <td>...</td>\n",
       "      <td>...</td>\n",
       "      <td>...</td>\n",
       "      <td>...</td>\n",
       "      <td>...</td>\n",
       "      <td>...</td>\n",
       "      <td>...</td>\n",
       "      <td>...</td>\n",
       "      <td>...</td>\n",
       "      <td>...</td>\n",
       "      <td>...</td>\n",
       "    </tr>\n",
       "    <tr>\n",
       "      <th>2494</th>\n",
       "      <td>7800</td>\n",
       "      <td>nissan</td>\n",
       "      <td>versa</td>\n",
       "      <td>2019</td>\n",
       "      <td>clean vehicle</td>\n",
       "      <td>23609</td>\n",
       "      <td>red</td>\n",
       "      <td>3n1cn7ap9kl880319</td>\n",
       "      <td>167722715</td>\n",
       "      <td>california</td>\n",
       "      <td>usa</td>\n",
       "      <td>1 days left</td>\n",
       "    </tr>\n",
       "    <tr>\n",
       "      <th>2495</th>\n",
       "      <td>9200</td>\n",
       "      <td>nissan</td>\n",
       "      <td>versa</td>\n",
       "      <td>2018</td>\n",
       "      <td>clean vehicle</td>\n",
       "      <td>34553</td>\n",
       "      <td>silver</td>\n",
       "      <td>3n1cn7ap5jl884088</td>\n",
       "      <td>167762225</td>\n",
       "      <td>florida</td>\n",
       "      <td>usa</td>\n",
       "      <td>21 hours left</td>\n",
       "    </tr>\n",
       "    <tr>\n",
       "      <th>2496</th>\n",
       "      <td>9200</td>\n",
       "      <td>nissan</td>\n",
       "      <td>versa</td>\n",
       "      <td>2018</td>\n",
       "      <td>clean vehicle</td>\n",
       "      <td>31594</td>\n",
       "      <td>silver</td>\n",
       "      <td>3n1cn7ap9jl884191</td>\n",
       "      <td>167762226</td>\n",
       "      <td>florida</td>\n",
       "      <td>usa</td>\n",
       "      <td>21 hours left</td>\n",
       "    </tr>\n",
       "    <tr>\n",
       "      <th>2497</th>\n",
       "      <td>9200</td>\n",
       "      <td>nissan</td>\n",
       "      <td>versa</td>\n",
       "      <td>2018</td>\n",
       "      <td>clean vehicle</td>\n",
       "      <td>32557</td>\n",
       "      <td>black</td>\n",
       "      <td>3n1cn7ap3jl883263</td>\n",
       "      <td>167762227</td>\n",
       "      <td>florida</td>\n",
       "      <td>usa</td>\n",
       "      <td>2 days left</td>\n",
       "    </tr>\n",
       "    <tr>\n",
       "      <th>2498</th>\n",
       "      <td>9200</td>\n",
       "      <td>nissan</td>\n",
       "      <td>versa</td>\n",
       "      <td>2018</td>\n",
       "      <td>clean vehicle</td>\n",
       "      <td>31371</td>\n",
       "      <td>silver</td>\n",
       "      <td>3n1cn7ap4jl884311</td>\n",
       "      <td>167762228</td>\n",
       "      <td>florida</td>\n",
       "      <td>usa</td>\n",
       "      <td>21 hours left</td>\n",
       "    </tr>\n",
       "  </tbody>\n",
       "</table>\n",
       "<p>2499 rows × 12 columns</p>\n",
       "</div>"
      ],
      "text/plain": [
       "      price      brand    model  year   title_status  mileage   color  \\\n",
       "0      6300     toyota  cruiser  2008  clean vehicle   274117   black   \n",
       "1      2899       ford       se  2011  clean vehicle   190552  silver   \n",
       "2      5350      dodge      mpv  2018  clean vehicle    39590  silver   \n",
       "3     25000       ford     door  2014  clean vehicle    64146    blue   \n",
       "4     27700  chevrolet     1500  2018  clean vehicle     6654     red   \n",
       "...     ...        ...      ...   ...            ...      ...     ...   \n",
       "2494   7800     nissan    versa  2019  clean vehicle    23609     red   \n",
       "2495   9200     nissan    versa  2018  clean vehicle    34553  silver   \n",
       "2496   9200     nissan    versa  2018  clean vehicle    31594  silver   \n",
       "2497   9200     nissan    versa  2018  clean vehicle    32557   black   \n",
       "2498   9200     nissan    versa  2018  clean vehicle    31371  silver   \n",
       "\n",
       "                      vin        lot       state country      condition  \n",
       "0       jtezu11f88k007763  159348797  new jersey     usa   10 days left  \n",
       "1       2fmdk3gc4bbb02217  166951262   tennessee     usa    6 days left  \n",
       "2       3c4pdcgg5jt346413  167655728     georgia     usa    2 days left  \n",
       "3       1ftfw1et4efc23745  167753855    virginia     usa  22 hours left  \n",
       "4       3gcpcrec2jg473991  167763266     florida     usa  22 hours left  \n",
       "...                   ...        ...         ...     ...            ...  \n",
       "2494    3n1cn7ap9kl880319  167722715  california     usa    1 days left  \n",
       "2495    3n1cn7ap5jl884088  167762225     florida     usa  21 hours left  \n",
       "2496    3n1cn7ap9jl884191  167762226     florida     usa  21 hours left  \n",
       "2497    3n1cn7ap3jl883263  167762227     florida     usa    2 days left  \n",
       "2498    3n1cn7ap4jl884311  167762228     florida     usa  21 hours left  \n",
       "\n",
       "[2499 rows x 12 columns]"
      ]
     },
     "execution_count": 5,
     "metadata": {},
     "output_type": "execute_result"
    }
   ],
   "source": [
    "# Cleaned US cars data\n",
    "#dropping an extra column\n",
    "cars_df = pd.DataFrame(us_cars)\n",
    "cars_df = cars_df.drop('Unnamed: 0', axis = 1)\n",
    "\n",
    "# Makes mileage float into an int\n",
    "for i in cars_df['mileage']:\n",
    "    a = str(i)\n",
    "    if a[-1] != str(0):\n",
    "        print(a)       \n",
    "cars_df['mileage'] = cars_df['mileage'].astype(int)\n",
    "\n",
    "cars_df"
   ]
  },
  {
   "cell_type": "markdown",
   "id": "5a6b0e10",
   "metadata": {
    "papermill": {
     "duration": 0.011331,
     "end_time": "2023-10-23T01:05:47.211420",
     "exception": false,
     "start_time": "2023-10-23T01:05:47.200089",
     "status": "completed"
    },
    "tags": []
   },
   "source": [
    "**Iris Data**"
   ]
  },
  {
   "cell_type": "code",
   "execution_count": 6,
   "id": "64eb513a",
   "metadata": {
    "execution": {
     "iopub.execute_input": "2023-10-23T01:05:47.291956Z",
     "iopub.status.busy": "2023-10-23T01:05:47.291272Z",
     "iopub.status.idle": "2023-10-23T01:05:47.305282Z",
     "shell.execute_reply": "2023-10-23T01:05:47.304574Z"
    },
    "papermill": {
     "duration": 0.028616,
     "end_time": "2023-10-23T01:05:47.306967",
     "exception": false,
     "start_time": "2023-10-23T01:05:47.278351",
     "status": "completed"
    },
    "tags": []
   },
   "outputs": [
    {
     "data": {
      "text/html": [
       "<div>\n",
       "<style scoped>\n",
       "    .dataframe tbody tr th:only-of-type {\n",
       "        vertical-align: middle;\n",
       "    }\n",
       "\n",
       "    .dataframe tbody tr th {\n",
       "        vertical-align: top;\n",
       "    }\n",
       "\n",
       "    .dataframe thead th {\n",
       "        text-align: right;\n",
       "    }\n",
       "</style>\n",
       "<table border=\"1\" class=\"dataframe\">\n",
       "  <thead>\n",
       "    <tr style=\"text-align: right;\">\n",
       "      <th></th>\n",
       "      <th>Id</th>\n",
       "      <th>SepalLengthCm</th>\n",
       "      <th>SepalWidthCm</th>\n",
       "      <th>PetalLengthCm</th>\n",
       "      <th>PetalWidthCm</th>\n",
       "      <th>Species</th>\n",
       "    </tr>\n",
       "  </thead>\n",
       "  <tbody>\n",
       "    <tr>\n",
       "      <th>0</th>\n",
       "      <td>1</td>\n",
       "      <td>5.1</td>\n",
       "      <td>3.5</td>\n",
       "      <td>1.4</td>\n",
       "      <td>0.2</td>\n",
       "      <td>Iris-setosa</td>\n",
       "    </tr>\n",
       "    <tr>\n",
       "      <th>1</th>\n",
       "      <td>2</td>\n",
       "      <td>4.9</td>\n",
       "      <td>3.0</td>\n",
       "      <td>1.4</td>\n",
       "      <td>0.2</td>\n",
       "      <td>Iris-setosa</td>\n",
       "    </tr>\n",
       "    <tr>\n",
       "      <th>2</th>\n",
       "      <td>3</td>\n",
       "      <td>4.7</td>\n",
       "      <td>3.2</td>\n",
       "      <td>1.3</td>\n",
       "      <td>0.2</td>\n",
       "      <td>Iris-setosa</td>\n",
       "    </tr>\n",
       "    <tr>\n",
       "      <th>3</th>\n",
       "      <td>4</td>\n",
       "      <td>4.6</td>\n",
       "      <td>3.1</td>\n",
       "      <td>1.5</td>\n",
       "      <td>0.2</td>\n",
       "      <td>Iris-setosa</td>\n",
       "    </tr>\n",
       "    <tr>\n",
       "      <th>4</th>\n",
       "      <td>5</td>\n",
       "      <td>5.0</td>\n",
       "      <td>3.6</td>\n",
       "      <td>1.4</td>\n",
       "      <td>0.2</td>\n",
       "      <td>Iris-setosa</td>\n",
       "    </tr>\n",
       "    <tr>\n",
       "      <th>...</th>\n",
       "      <td>...</td>\n",
       "      <td>...</td>\n",
       "      <td>...</td>\n",
       "      <td>...</td>\n",
       "      <td>...</td>\n",
       "      <td>...</td>\n",
       "    </tr>\n",
       "    <tr>\n",
       "      <th>145</th>\n",
       "      <td>146</td>\n",
       "      <td>6.7</td>\n",
       "      <td>3.0</td>\n",
       "      <td>5.2</td>\n",
       "      <td>2.3</td>\n",
       "      <td>Iris-virginica</td>\n",
       "    </tr>\n",
       "    <tr>\n",
       "      <th>146</th>\n",
       "      <td>147</td>\n",
       "      <td>6.3</td>\n",
       "      <td>2.5</td>\n",
       "      <td>5.0</td>\n",
       "      <td>1.9</td>\n",
       "      <td>Iris-virginica</td>\n",
       "    </tr>\n",
       "    <tr>\n",
       "      <th>147</th>\n",
       "      <td>148</td>\n",
       "      <td>6.5</td>\n",
       "      <td>3.0</td>\n",
       "      <td>5.2</td>\n",
       "      <td>2.0</td>\n",
       "      <td>Iris-virginica</td>\n",
       "    </tr>\n",
       "    <tr>\n",
       "      <th>148</th>\n",
       "      <td>149</td>\n",
       "      <td>6.2</td>\n",
       "      <td>3.4</td>\n",
       "      <td>5.4</td>\n",
       "      <td>2.3</td>\n",
       "      <td>Iris-virginica</td>\n",
       "    </tr>\n",
       "    <tr>\n",
       "      <th>149</th>\n",
       "      <td>150</td>\n",
       "      <td>5.9</td>\n",
       "      <td>3.0</td>\n",
       "      <td>5.1</td>\n",
       "      <td>1.8</td>\n",
       "      <td>Iris-virginica</td>\n",
       "    </tr>\n",
       "  </tbody>\n",
       "</table>\n",
       "<p>150 rows × 6 columns</p>\n",
       "</div>"
      ],
      "text/plain": [
       "      Id  SepalLengthCm  SepalWidthCm  PetalLengthCm  PetalWidthCm  \\\n",
       "0      1            5.1           3.5            1.4           0.2   \n",
       "1      2            4.9           3.0            1.4           0.2   \n",
       "2      3            4.7           3.2            1.3           0.2   \n",
       "3      4            4.6           3.1            1.5           0.2   \n",
       "4      5            5.0           3.6            1.4           0.2   \n",
       "..   ...            ...           ...            ...           ...   \n",
       "145  146            6.7           3.0            5.2           2.3   \n",
       "146  147            6.3           2.5            5.0           1.9   \n",
       "147  148            6.5           3.0            5.2           2.0   \n",
       "148  149            6.2           3.4            5.4           2.3   \n",
       "149  150            5.9           3.0            5.1           1.8   \n",
       "\n",
       "            Species  \n",
       "0       Iris-setosa  \n",
       "1       Iris-setosa  \n",
       "2       Iris-setosa  \n",
       "3       Iris-setosa  \n",
       "4       Iris-setosa  \n",
       "..              ...  \n",
       "145  Iris-virginica  \n",
       "146  Iris-virginica  \n",
       "147  Iris-virginica  \n",
       "148  Iris-virginica  \n",
       "149  Iris-virginica  \n",
       "\n",
       "[150 rows x 6 columns]"
      ]
     },
     "execution_count": 6,
     "metadata": {},
     "output_type": "execute_result"
    }
   ],
   "source": [
    "iris"
   ]
  },
  {
   "cell_type": "code",
   "execution_count": 7,
   "id": "bf3688b1",
   "metadata": {
    "execution": {
     "iopub.execute_input": "2023-10-23T01:05:47.332545Z",
     "iopub.status.busy": "2023-10-23T01:05:47.331395Z",
     "iopub.status.idle": "2023-10-23T01:05:47.355815Z",
     "shell.execute_reply": "2023-10-23T01:05:47.354504Z"
    },
    "papermill": {
     "duration": 0.039588,
     "end_time": "2023-10-23T01:05:47.358258",
     "exception": false,
     "start_time": "2023-10-23T01:05:47.318670",
     "status": "completed"
    },
    "tags": []
   },
   "outputs": [
    {
     "data": {
      "text/html": [
       "<div>\n",
       "<style scoped>\n",
       "    .dataframe tbody tr th:only-of-type {\n",
       "        vertical-align: middle;\n",
       "    }\n",
       "\n",
       "    .dataframe tbody tr th {\n",
       "        vertical-align: top;\n",
       "    }\n",
       "\n",
       "    .dataframe thead th {\n",
       "        text-align: right;\n",
       "    }\n",
       "</style>\n",
       "<table border=\"1\" class=\"dataframe\">\n",
       "  <thead>\n",
       "    <tr style=\"text-align: right;\">\n",
       "      <th></th>\n",
       "      <th>SepalLengthCm</th>\n",
       "      <th>SepalWidthCm</th>\n",
       "      <th>PetalLengthCm</th>\n",
       "      <th>PetalWidthCm</th>\n",
       "      <th>Species</th>\n",
       "    </tr>\n",
       "  </thead>\n",
       "  <tbody>\n",
       "    <tr>\n",
       "      <th>0</th>\n",
       "      <td>5.1</td>\n",
       "      <td>3.5</td>\n",
       "      <td>1.4</td>\n",
       "      <td>0.2</td>\n",
       "      <td>1</td>\n",
       "    </tr>\n",
       "    <tr>\n",
       "      <th>1</th>\n",
       "      <td>4.9</td>\n",
       "      <td>3.0</td>\n",
       "      <td>1.4</td>\n",
       "      <td>0.2</td>\n",
       "      <td>1</td>\n",
       "    </tr>\n",
       "    <tr>\n",
       "      <th>2</th>\n",
       "      <td>4.7</td>\n",
       "      <td>3.2</td>\n",
       "      <td>1.3</td>\n",
       "      <td>0.2</td>\n",
       "      <td>1</td>\n",
       "    </tr>\n",
       "    <tr>\n",
       "      <th>3</th>\n",
       "      <td>4.6</td>\n",
       "      <td>3.1</td>\n",
       "      <td>1.5</td>\n",
       "      <td>0.2</td>\n",
       "      <td>1</td>\n",
       "    </tr>\n",
       "    <tr>\n",
       "      <th>4</th>\n",
       "      <td>5.0</td>\n",
       "      <td>3.6</td>\n",
       "      <td>1.4</td>\n",
       "      <td>0.2</td>\n",
       "      <td>1</td>\n",
       "    </tr>\n",
       "    <tr>\n",
       "      <th>...</th>\n",
       "      <td>...</td>\n",
       "      <td>...</td>\n",
       "      <td>...</td>\n",
       "      <td>...</td>\n",
       "      <td>...</td>\n",
       "    </tr>\n",
       "    <tr>\n",
       "      <th>145</th>\n",
       "      <td>6.7</td>\n",
       "      <td>3.0</td>\n",
       "      <td>5.2</td>\n",
       "      <td>2.3</td>\n",
       "      <td>3</td>\n",
       "    </tr>\n",
       "    <tr>\n",
       "      <th>146</th>\n",
       "      <td>6.3</td>\n",
       "      <td>2.5</td>\n",
       "      <td>5.0</td>\n",
       "      <td>1.9</td>\n",
       "      <td>3</td>\n",
       "    </tr>\n",
       "    <tr>\n",
       "      <th>147</th>\n",
       "      <td>6.5</td>\n",
       "      <td>3.0</td>\n",
       "      <td>5.2</td>\n",
       "      <td>2.0</td>\n",
       "      <td>3</td>\n",
       "    </tr>\n",
       "    <tr>\n",
       "      <th>148</th>\n",
       "      <td>6.2</td>\n",
       "      <td>3.4</td>\n",
       "      <td>5.4</td>\n",
       "      <td>2.3</td>\n",
       "      <td>3</td>\n",
       "    </tr>\n",
       "    <tr>\n",
       "      <th>149</th>\n",
       "      <td>5.9</td>\n",
       "      <td>3.0</td>\n",
       "      <td>5.1</td>\n",
       "      <td>1.8</td>\n",
       "      <td>3</td>\n",
       "    </tr>\n",
       "  </tbody>\n",
       "</table>\n",
       "<p>150 rows × 5 columns</p>\n",
       "</div>"
      ],
      "text/plain": [
       "     SepalLengthCm  SepalWidthCm  PetalLengthCm  PetalWidthCm  Species\n",
       "0              5.1           3.5            1.4           0.2        1\n",
       "1              4.9           3.0            1.4           0.2        1\n",
       "2              4.7           3.2            1.3           0.2        1\n",
       "3              4.6           3.1            1.5           0.2        1\n",
       "4              5.0           3.6            1.4           0.2        1\n",
       "..             ...           ...            ...           ...      ...\n",
       "145            6.7           3.0            5.2           2.3        3\n",
       "146            6.3           2.5            5.0           1.9        3\n",
       "147            6.5           3.0            5.2           2.0        3\n",
       "148            6.2           3.4            5.4           2.3        3\n",
       "149            5.9           3.0            5.1           1.8        3\n",
       "\n",
       "[150 rows x 5 columns]"
      ]
     },
     "execution_count": 7,
     "metadata": {},
     "output_type": "execute_result"
    }
   ],
   "source": [
    "iris.drop_duplicates(inplace=True)\n",
    "#replace species name with ints\n",
    "iris['Species'].replace('Iris-setosa', 1, inplace = True)\n",
    "iris['Species'].replace('Iris-versicolor', 2, inplace = True)\n",
    "iris['Species'].replace('Iris-virginica', 3, inplace = True)\n",
    "# iris = iris[iris['Species'] != 'Iris-virginica']\n",
    "\n",
    "iris.drop('Id', axis=1, inplace=True)\n",
    "\n",
    "iris"
   ]
  },
  {
   "cell_type": "markdown",
   "id": "019e9d33",
   "metadata": {
    "papermill": {
     "duration": 0.011707,
     "end_time": "2023-10-23T01:05:47.381786",
     "exception": false,
     "start_time": "2023-10-23T01:05:47.370079",
     "status": "completed"
    },
    "tags": []
   },
   "source": [
    "# Statistics on the data sets"
   ]
  },
  {
   "cell_type": "code",
   "execution_count": 8,
   "id": "c3555c35",
   "metadata": {
    "execution": {
     "iopub.execute_input": "2023-10-23T01:05:47.408317Z",
     "iopub.status.busy": "2023-10-23T01:05:47.407622Z",
     "iopub.status.idle": "2023-10-23T01:05:47.443488Z",
     "shell.execute_reply": "2023-10-23T01:05:47.442484Z"
    },
    "papermill": {
     "duration": 0.052507,
     "end_time": "2023-10-23T01:05:47.446072",
     "exception": false,
     "start_time": "2023-10-23T01:05:47.393565",
     "status": "completed"
    },
    "tags": []
   },
   "outputs": [
    {
     "data": {
      "text/html": [
       "<div>\n",
       "<style scoped>\n",
       "    .dataframe tbody tr th:only-of-type {\n",
       "        vertical-align: middle;\n",
       "    }\n",
       "\n",
       "    .dataframe tbody tr th {\n",
       "        vertical-align: top;\n",
       "    }\n",
       "\n",
       "    .dataframe thead th {\n",
       "        text-align: right;\n",
       "    }\n",
       "</style>\n",
       "<table border=\"1\" class=\"dataframe\">\n",
       "  <thead>\n",
       "    <tr style=\"text-align: right;\">\n",
       "      <th></th>\n",
       "      <th>workclass</th>\n",
       "      <th>education</th>\n",
       "      <th>marital.status</th>\n",
       "      <th>occupation</th>\n",
       "      <th>relationship</th>\n",
       "      <th>race</th>\n",
       "      <th>sex</th>\n",
       "      <th>income</th>\n",
       "    </tr>\n",
       "  </thead>\n",
       "  <tbody>\n",
       "    <tr>\n",
       "      <th>count</th>\n",
       "      <td>30162.000000</td>\n",
       "      <td>30162.000000</td>\n",
       "      <td>30162.000000</td>\n",
       "      <td>29518.000000</td>\n",
       "      <td>30162.000000</td>\n",
       "      <td>30162.000000</td>\n",
       "      <td>30162.000000</td>\n",
       "      <td>30162.000000</td>\n",
       "    </tr>\n",
       "    <tr>\n",
       "      <th>mean</th>\n",
       "      <td>4.571945</td>\n",
       "      <td>5.554638</td>\n",
       "      <td>3.228765</td>\n",
       "      <td>7.172437</td>\n",
       "      <td>2.818182</td>\n",
       "      <td>2.662290</td>\n",
       "      <td>0.324315</td>\n",
       "      <td>0.248922</td>\n",
       "    </tr>\n",
       "    <tr>\n",
       "      <th>std</th>\n",
       "      <td>1.349115</td>\n",
       "      <td>4.886865</td>\n",
       "      <td>1.438729</td>\n",
       "      <td>3.378217</td>\n",
       "      <td>1.869175</td>\n",
       "      <td>0.928641</td>\n",
       "      <td>0.468126</td>\n",
       "      <td>0.432396</td>\n",
       "    </tr>\n",
       "    <tr>\n",
       "      <th>min</th>\n",
       "      <td>0.000000</td>\n",
       "      <td>0.000000</td>\n",
       "      <td>0.000000</td>\n",
       "      <td>1.000000</td>\n",
       "      <td>0.000000</td>\n",
       "      <td>0.000000</td>\n",
       "      <td>0.000000</td>\n",
       "      <td>0.000000</td>\n",
       "    </tr>\n",
       "    <tr>\n",
       "      <th>25%</th>\n",
       "      <td>5.000000</td>\n",
       "      <td>3.000000</td>\n",
       "      <td>2.000000</td>\n",
       "      <td>5.000000</td>\n",
       "      <td>0.000000</td>\n",
       "      <td>3.000000</td>\n",
       "      <td>0.000000</td>\n",
       "      <td>0.000000</td>\n",
       "    </tr>\n",
       "    <tr>\n",
       "      <th>50%</th>\n",
       "      <td>5.000000</td>\n",
       "      <td>3.000000</td>\n",
       "      <td>2.000000</td>\n",
       "      <td>7.000000</td>\n",
       "      <td>4.000000</td>\n",
       "      <td>3.000000</td>\n",
       "      <td>0.000000</td>\n",
       "      <td>0.000000</td>\n",
       "    </tr>\n",
       "    <tr>\n",
       "      <th>75%</th>\n",
       "      <td>5.000000</td>\n",
       "      <td>12.000000</td>\n",
       "      <td>5.000000</td>\n",
       "      <td>10.000000</td>\n",
       "      <td>4.000000</td>\n",
       "      <td>3.000000</td>\n",
       "      <td>1.000000</td>\n",
       "      <td>0.000000</td>\n",
       "    </tr>\n",
       "    <tr>\n",
       "      <th>max</th>\n",
       "      <td>6.000000</td>\n",
       "      <td>15.000000</td>\n",
       "      <td>6.000000</td>\n",
       "      <td>13.000000</td>\n",
       "      <td>5.000000</td>\n",
       "      <td>4.000000</td>\n",
       "      <td>1.000000</td>\n",
       "      <td>1.000000</td>\n",
       "    </tr>\n",
       "  </tbody>\n",
       "</table>\n",
       "</div>"
      ],
      "text/plain": [
       "          workclass     education  marital.status    occupation  relationship  \\\n",
       "count  30162.000000  30162.000000    30162.000000  29518.000000  30162.000000   \n",
       "mean       4.571945      5.554638        3.228765      7.172437      2.818182   \n",
       "std        1.349115      4.886865        1.438729      3.378217      1.869175   \n",
       "min        0.000000      0.000000        0.000000      1.000000      0.000000   \n",
       "25%        5.000000      3.000000        2.000000      5.000000      0.000000   \n",
       "50%        5.000000      3.000000        2.000000      7.000000      4.000000   \n",
       "75%        5.000000     12.000000        5.000000     10.000000      4.000000   \n",
       "max        6.000000     15.000000        6.000000     13.000000      5.000000   \n",
       "\n",
       "               race           sex        income  \n",
       "count  30162.000000  30162.000000  30162.000000  \n",
       "mean       2.662290      0.324315      0.248922  \n",
       "std        0.928641      0.468126      0.432396  \n",
       "min        0.000000      0.000000      0.000000  \n",
       "25%        3.000000      0.000000      0.000000  \n",
       "50%        3.000000      0.000000      0.000000  \n",
       "75%        3.000000      1.000000      0.000000  \n",
       "max        4.000000      1.000000      1.000000  "
      ]
     },
     "execution_count": 8,
     "metadata": {},
     "output_type": "execute_result"
    }
   ],
   "source": [
    "# Adult data\n",
    "dataAdult.describe()"
   ]
  },
  {
   "cell_type": "code",
   "execution_count": 9,
   "id": "7fc914be",
   "metadata": {
    "execution": {
     "iopub.execute_input": "2023-10-23T01:05:47.472339Z",
     "iopub.status.busy": "2023-10-23T01:05:47.471978Z",
     "iopub.status.idle": "2023-10-23T01:05:47.551876Z",
     "shell.execute_reply": "2023-10-23T01:05:47.550162Z"
    },
    "papermill": {
     "duration": 0.096153,
     "end_time": "2023-10-23T01:05:47.554590",
     "exception": false,
     "start_time": "2023-10-23T01:05:47.458437",
     "status": "completed"
    },
    "tags": []
   },
   "outputs": [
    {
     "data": {
      "text/html": [
       "<div>\n",
       "<style scoped>\n",
       "    .dataframe tbody tr th:only-of-type {\n",
       "        vertical-align: middle;\n",
       "    }\n",
       "\n",
       "    .dataframe tbody tr th {\n",
       "        vertical-align: top;\n",
       "    }\n",
       "\n",
       "    .dataframe thead th {\n",
       "        text-align: right;\n",
       "    }\n",
       "</style>\n",
       "<table border=\"1\" class=\"dataframe\">\n",
       "  <thead>\n",
       "    <tr style=\"text-align: right;\">\n",
       "      <th></th>\n",
       "      <th>feature1</th>\n",
       "      <th>feature2</th>\n",
       "      <th>feature3</th>\n",
       "      <th>feature4</th>\n",
       "      <th>feature5</th>\n",
       "      <th>feature6</th>\n",
       "      <th>feature7</th>\n",
       "      <th>feature8</th>\n",
       "      <th>feature9</th>\n",
       "      <th>feature10</th>\n",
       "      <th>...</th>\n",
       "      <th>feature26</th>\n",
       "      <th>feature27</th>\n",
       "      <th>feature28</th>\n",
       "      <th>feature29</th>\n",
       "      <th>feature30</th>\n",
       "      <th>feature31</th>\n",
       "      <th>feature32</th>\n",
       "      <th>feature33</th>\n",
       "      <th>feature34</th>\n",
       "      <th>label</th>\n",
       "    </tr>\n",
       "  </thead>\n",
       "  <tbody>\n",
       "    <tr>\n",
       "      <th>count</th>\n",
       "      <td>351.000000</td>\n",
       "      <td>351.0</td>\n",
       "      <td>351.000000</td>\n",
       "      <td>351.000000</td>\n",
       "      <td>351.000000</td>\n",
       "      <td>351.000000</td>\n",
       "      <td>351.000000</td>\n",
       "      <td>351.000000</td>\n",
       "      <td>351.000000</td>\n",
       "      <td>351.000000</td>\n",
       "      <td>...</td>\n",
       "      <td>351.000000</td>\n",
       "      <td>351.000000</td>\n",
       "      <td>351.000000</td>\n",
       "      <td>351.000000</td>\n",
       "      <td>351.000000</td>\n",
       "      <td>351.000000</td>\n",
       "      <td>351.000000</td>\n",
       "      <td>351.000000</td>\n",
       "      <td>351.000000</td>\n",
       "      <td>351.000000</td>\n",
       "    </tr>\n",
       "    <tr>\n",
       "      <th>mean</th>\n",
       "      <td>0.891738</td>\n",
       "      <td>0.0</td>\n",
       "      <td>0.641342</td>\n",
       "      <td>0.044372</td>\n",
       "      <td>0.601068</td>\n",
       "      <td>0.115889</td>\n",
       "      <td>0.550095</td>\n",
       "      <td>0.119360</td>\n",
       "      <td>0.511848</td>\n",
       "      <td>0.181345</td>\n",
       "      <td>...</td>\n",
       "      <td>-0.071187</td>\n",
       "      <td>0.541641</td>\n",
       "      <td>-0.069538</td>\n",
       "      <td>0.378445</td>\n",
       "      <td>-0.027907</td>\n",
       "      <td>0.352514</td>\n",
       "      <td>-0.003794</td>\n",
       "      <td>0.349364</td>\n",
       "      <td>0.014480</td>\n",
       "      <td>0.641026</td>\n",
       "    </tr>\n",
       "    <tr>\n",
       "      <th>std</th>\n",
       "      <td>0.311155</td>\n",
       "      <td>0.0</td>\n",
       "      <td>0.497708</td>\n",
       "      <td>0.441435</td>\n",
       "      <td>0.519862</td>\n",
       "      <td>0.460810</td>\n",
       "      <td>0.492654</td>\n",
       "      <td>0.520750</td>\n",
       "      <td>0.507066</td>\n",
       "      <td>0.483851</td>\n",
       "      <td>...</td>\n",
       "      <td>0.508495</td>\n",
       "      <td>0.516205</td>\n",
       "      <td>0.550025</td>\n",
       "      <td>0.575886</td>\n",
       "      <td>0.507974</td>\n",
       "      <td>0.571483</td>\n",
       "      <td>0.513574</td>\n",
       "      <td>0.522663</td>\n",
       "      <td>0.468337</td>\n",
       "      <td>0.480384</td>\n",
       "    </tr>\n",
       "    <tr>\n",
       "      <th>min</th>\n",
       "      <td>0.000000</td>\n",
       "      <td>0.0</td>\n",
       "      <td>-1.000000</td>\n",
       "      <td>-1.000000</td>\n",
       "      <td>-1.000000</td>\n",
       "      <td>-1.000000</td>\n",
       "      <td>-1.000000</td>\n",
       "      <td>-1.000000</td>\n",
       "      <td>-1.000000</td>\n",
       "      <td>-1.000000</td>\n",
       "      <td>...</td>\n",
       "      <td>-1.000000</td>\n",
       "      <td>-1.000000</td>\n",
       "      <td>-1.000000</td>\n",
       "      <td>-1.000000</td>\n",
       "      <td>-1.000000</td>\n",
       "      <td>-1.000000</td>\n",
       "      <td>-1.000000</td>\n",
       "      <td>-1.000000</td>\n",
       "      <td>-1.000000</td>\n",
       "      <td>0.000000</td>\n",
       "    </tr>\n",
       "    <tr>\n",
       "      <th>25%</th>\n",
       "      <td>1.000000</td>\n",
       "      <td>0.0</td>\n",
       "      <td>0.472135</td>\n",
       "      <td>-0.064735</td>\n",
       "      <td>0.412660</td>\n",
       "      <td>-0.024795</td>\n",
       "      <td>0.211310</td>\n",
       "      <td>-0.054840</td>\n",
       "      <td>0.087110</td>\n",
       "      <td>-0.048075</td>\n",
       "      <td>...</td>\n",
       "      <td>-0.332390</td>\n",
       "      <td>0.286435</td>\n",
       "      <td>-0.443165</td>\n",
       "      <td>0.000000</td>\n",
       "      <td>-0.236885</td>\n",
       "      <td>0.000000</td>\n",
       "      <td>-0.242595</td>\n",
       "      <td>0.000000</td>\n",
       "      <td>-0.165350</td>\n",
       "      <td>0.000000</td>\n",
       "    </tr>\n",
       "    <tr>\n",
       "      <th>50%</th>\n",
       "      <td>1.000000</td>\n",
       "      <td>0.0</td>\n",
       "      <td>0.871110</td>\n",
       "      <td>0.016310</td>\n",
       "      <td>0.809200</td>\n",
       "      <td>0.022800</td>\n",
       "      <td>0.728730</td>\n",
       "      <td>0.014710</td>\n",
       "      <td>0.684210</td>\n",
       "      <td>0.018290</td>\n",
       "      <td>...</td>\n",
       "      <td>-0.015050</td>\n",
       "      <td>0.708240</td>\n",
       "      <td>-0.017690</td>\n",
       "      <td>0.496640</td>\n",
       "      <td>0.000000</td>\n",
       "      <td>0.442770</td>\n",
       "      <td>0.000000</td>\n",
       "      <td>0.409560</td>\n",
       "      <td>0.000000</td>\n",
       "      <td>1.000000</td>\n",
       "    </tr>\n",
       "    <tr>\n",
       "      <th>75%</th>\n",
       "      <td>1.000000</td>\n",
       "      <td>0.0</td>\n",
       "      <td>1.000000</td>\n",
       "      <td>0.194185</td>\n",
       "      <td>1.000000</td>\n",
       "      <td>0.334655</td>\n",
       "      <td>0.969240</td>\n",
       "      <td>0.445675</td>\n",
       "      <td>0.953240</td>\n",
       "      <td>0.534195</td>\n",
       "      <td>...</td>\n",
       "      <td>0.156765</td>\n",
       "      <td>0.999945</td>\n",
       "      <td>0.153535</td>\n",
       "      <td>0.883465</td>\n",
       "      <td>0.154075</td>\n",
       "      <td>0.857620</td>\n",
       "      <td>0.200120</td>\n",
       "      <td>0.813765</td>\n",
       "      <td>0.171660</td>\n",
       "      <td>1.000000</td>\n",
       "    </tr>\n",
       "    <tr>\n",
       "      <th>max</th>\n",
       "      <td>1.000000</td>\n",
       "      <td>0.0</td>\n",
       "      <td>1.000000</td>\n",
       "      <td>1.000000</td>\n",
       "      <td>1.000000</td>\n",
       "      <td>1.000000</td>\n",
       "      <td>1.000000</td>\n",
       "      <td>1.000000</td>\n",
       "      <td>1.000000</td>\n",
       "      <td>1.000000</td>\n",
       "      <td>...</td>\n",
       "      <td>1.000000</td>\n",
       "      <td>1.000000</td>\n",
       "      <td>1.000000</td>\n",
       "      <td>1.000000</td>\n",
       "      <td>1.000000</td>\n",
       "      <td>1.000000</td>\n",
       "      <td>1.000000</td>\n",
       "      <td>1.000000</td>\n",
       "      <td>1.000000</td>\n",
       "      <td>1.000000</td>\n",
       "    </tr>\n",
       "  </tbody>\n",
       "</table>\n",
       "<p>8 rows × 35 columns</p>\n",
       "</div>"
      ],
      "text/plain": [
       "         feature1  feature2    feature3    feature4    feature5    feature6  \\\n",
       "count  351.000000     351.0  351.000000  351.000000  351.000000  351.000000   \n",
       "mean     0.891738       0.0    0.641342    0.044372    0.601068    0.115889   \n",
       "std      0.311155       0.0    0.497708    0.441435    0.519862    0.460810   \n",
       "min      0.000000       0.0   -1.000000   -1.000000   -1.000000   -1.000000   \n",
       "25%      1.000000       0.0    0.472135   -0.064735    0.412660   -0.024795   \n",
       "50%      1.000000       0.0    0.871110    0.016310    0.809200    0.022800   \n",
       "75%      1.000000       0.0    1.000000    0.194185    1.000000    0.334655   \n",
       "max      1.000000       0.0    1.000000    1.000000    1.000000    1.000000   \n",
       "\n",
       "         feature7    feature8    feature9   feature10  ...   feature26  \\\n",
       "count  351.000000  351.000000  351.000000  351.000000  ...  351.000000   \n",
       "mean     0.550095    0.119360    0.511848    0.181345  ...   -0.071187   \n",
       "std      0.492654    0.520750    0.507066    0.483851  ...    0.508495   \n",
       "min     -1.000000   -1.000000   -1.000000   -1.000000  ...   -1.000000   \n",
       "25%      0.211310   -0.054840    0.087110   -0.048075  ...   -0.332390   \n",
       "50%      0.728730    0.014710    0.684210    0.018290  ...   -0.015050   \n",
       "75%      0.969240    0.445675    0.953240    0.534195  ...    0.156765   \n",
       "max      1.000000    1.000000    1.000000    1.000000  ...    1.000000   \n",
       "\n",
       "        feature27   feature28   feature29   feature30   feature31   feature32  \\\n",
       "count  351.000000  351.000000  351.000000  351.000000  351.000000  351.000000   \n",
       "mean     0.541641   -0.069538    0.378445   -0.027907    0.352514   -0.003794   \n",
       "std      0.516205    0.550025    0.575886    0.507974    0.571483    0.513574   \n",
       "min     -1.000000   -1.000000   -1.000000   -1.000000   -1.000000   -1.000000   \n",
       "25%      0.286435   -0.443165    0.000000   -0.236885    0.000000   -0.242595   \n",
       "50%      0.708240   -0.017690    0.496640    0.000000    0.442770    0.000000   \n",
       "75%      0.999945    0.153535    0.883465    0.154075    0.857620    0.200120   \n",
       "max      1.000000    1.000000    1.000000    1.000000    1.000000    1.000000   \n",
       "\n",
       "        feature33   feature34       label  \n",
       "count  351.000000  351.000000  351.000000  \n",
       "mean     0.349364    0.014480    0.641026  \n",
       "std      0.522663    0.468337    0.480384  \n",
       "min     -1.000000   -1.000000    0.000000  \n",
       "25%      0.000000   -0.165350    0.000000  \n",
       "50%      0.409560    0.000000    1.000000  \n",
       "75%      0.813765    0.171660    1.000000  \n",
       "max      1.000000    1.000000    1.000000  \n",
       "\n",
       "[8 rows x 35 columns]"
      ]
     },
     "execution_count": 9,
     "metadata": {},
     "output_type": "execute_result"
    }
   ],
   "source": [
    "# Ionosphere\n",
    "ionosphere.describe()"
   ]
  },
  {
   "cell_type": "code",
   "execution_count": 10,
   "id": "83a7183b",
   "metadata": {
    "execution": {
     "iopub.execute_input": "2023-10-23T01:05:47.581229Z",
     "iopub.status.busy": "2023-10-23T01:05:47.580867Z",
     "iopub.status.idle": "2023-10-23T01:05:47.605421Z",
     "shell.execute_reply": "2023-10-23T01:05:47.603988Z"
    },
    "papermill": {
     "duration": 0.040536,
     "end_time": "2023-10-23T01:05:47.607768",
     "exception": false,
     "start_time": "2023-10-23T01:05:47.567232",
     "status": "completed"
    },
    "tags": []
   },
   "outputs": [
    {
     "data": {
      "text/html": [
       "<div>\n",
       "<style scoped>\n",
       "    .dataframe tbody tr th:only-of-type {\n",
       "        vertical-align: middle;\n",
       "    }\n",
       "\n",
       "    .dataframe tbody tr th {\n",
       "        vertical-align: top;\n",
       "    }\n",
       "\n",
       "    .dataframe thead th {\n",
       "        text-align: right;\n",
       "    }\n",
       "</style>\n",
       "<table border=\"1\" class=\"dataframe\">\n",
       "  <thead>\n",
       "    <tr style=\"text-align: right;\">\n",
       "      <th></th>\n",
       "      <th>SepalLengthCm</th>\n",
       "      <th>SepalWidthCm</th>\n",
       "      <th>PetalLengthCm</th>\n",
       "      <th>PetalWidthCm</th>\n",
       "      <th>Species</th>\n",
       "    </tr>\n",
       "  </thead>\n",
       "  <tbody>\n",
       "    <tr>\n",
       "      <th>count</th>\n",
       "      <td>150.000000</td>\n",
       "      <td>150.000000</td>\n",
       "      <td>150.000000</td>\n",
       "      <td>150.000000</td>\n",
       "      <td>150.000000</td>\n",
       "    </tr>\n",
       "    <tr>\n",
       "      <th>mean</th>\n",
       "      <td>5.843333</td>\n",
       "      <td>3.054000</td>\n",
       "      <td>3.758667</td>\n",
       "      <td>1.198667</td>\n",
       "      <td>2.000000</td>\n",
       "    </tr>\n",
       "    <tr>\n",
       "      <th>std</th>\n",
       "      <td>0.828066</td>\n",
       "      <td>0.433594</td>\n",
       "      <td>1.764420</td>\n",
       "      <td>0.763161</td>\n",
       "      <td>0.819232</td>\n",
       "    </tr>\n",
       "    <tr>\n",
       "      <th>min</th>\n",
       "      <td>4.300000</td>\n",
       "      <td>2.000000</td>\n",
       "      <td>1.000000</td>\n",
       "      <td>0.100000</td>\n",
       "      <td>1.000000</td>\n",
       "    </tr>\n",
       "    <tr>\n",
       "      <th>25%</th>\n",
       "      <td>5.100000</td>\n",
       "      <td>2.800000</td>\n",
       "      <td>1.600000</td>\n",
       "      <td>0.300000</td>\n",
       "      <td>1.000000</td>\n",
       "    </tr>\n",
       "    <tr>\n",
       "      <th>50%</th>\n",
       "      <td>5.800000</td>\n",
       "      <td>3.000000</td>\n",
       "      <td>4.350000</td>\n",
       "      <td>1.300000</td>\n",
       "      <td>2.000000</td>\n",
       "    </tr>\n",
       "    <tr>\n",
       "      <th>75%</th>\n",
       "      <td>6.400000</td>\n",
       "      <td>3.300000</td>\n",
       "      <td>5.100000</td>\n",
       "      <td>1.800000</td>\n",
       "      <td>3.000000</td>\n",
       "    </tr>\n",
       "    <tr>\n",
       "      <th>max</th>\n",
       "      <td>7.900000</td>\n",
       "      <td>4.400000</td>\n",
       "      <td>6.900000</td>\n",
       "      <td>2.500000</td>\n",
       "      <td>3.000000</td>\n",
       "    </tr>\n",
       "  </tbody>\n",
       "</table>\n",
       "</div>"
      ],
      "text/plain": [
       "       SepalLengthCm  SepalWidthCm  PetalLengthCm  PetalWidthCm     Species\n",
       "count     150.000000    150.000000     150.000000    150.000000  150.000000\n",
       "mean        5.843333      3.054000       3.758667      1.198667    2.000000\n",
       "std         0.828066      0.433594       1.764420      0.763161    0.819232\n",
       "min         4.300000      2.000000       1.000000      0.100000    1.000000\n",
       "25%         5.100000      2.800000       1.600000      0.300000    1.000000\n",
       "50%         5.800000      3.000000       4.350000      1.300000    2.000000\n",
       "75%         6.400000      3.300000       5.100000      1.800000    3.000000\n",
       "max         7.900000      4.400000       6.900000      2.500000    3.000000"
      ]
     },
     "execution_count": 10,
     "metadata": {},
     "output_type": "execute_result"
    }
   ],
   "source": [
    "# Iris \n",
    "iris.describe()"
   ]
  },
  {
   "cell_type": "code",
   "execution_count": 11,
   "id": "a88b0cda",
   "metadata": {
    "execution": {
     "iopub.execute_input": "2023-10-23T01:05:47.634999Z",
     "iopub.status.busy": "2023-10-23T01:05:47.634540Z",
     "iopub.status.idle": "2023-10-23T01:05:47.662416Z",
     "shell.execute_reply": "2023-10-23T01:05:47.661034Z"
    },
    "papermill": {
     "duration": 0.044093,
     "end_time": "2023-10-23T01:05:47.664893",
     "exception": false,
     "start_time": "2023-10-23T01:05:47.620800",
     "status": "completed"
    },
    "tags": []
   },
   "outputs": [
    {
     "data": {
      "text/html": [
       "<div>\n",
       "<style scoped>\n",
       "    .dataframe tbody tr th:only-of-type {\n",
       "        vertical-align: middle;\n",
       "    }\n",
       "\n",
       "    .dataframe tbody tr th {\n",
       "        vertical-align: top;\n",
       "    }\n",
       "\n",
       "    .dataframe thead th {\n",
       "        text-align: right;\n",
       "    }\n",
       "</style>\n",
       "<table border=\"1\" class=\"dataframe\">\n",
       "  <thead>\n",
       "    <tr style=\"text-align: right;\">\n",
       "      <th></th>\n",
       "      <th>Unnamed: 0</th>\n",
       "      <th>price</th>\n",
       "      <th>year</th>\n",
       "      <th>mileage</th>\n",
       "      <th>lot</th>\n",
       "    </tr>\n",
       "  </thead>\n",
       "  <tbody>\n",
       "    <tr>\n",
       "      <th>count</th>\n",
       "      <td>2499.000000</td>\n",
       "      <td>2499.000000</td>\n",
       "      <td>2499.000000</td>\n",
       "      <td>2.499000e+03</td>\n",
       "      <td>2.499000e+03</td>\n",
       "    </tr>\n",
       "    <tr>\n",
       "      <th>mean</th>\n",
       "      <td>1249.000000</td>\n",
       "      <td>18767.671469</td>\n",
       "      <td>2016.714286</td>\n",
       "      <td>5.229869e+04</td>\n",
       "      <td>1.676914e+08</td>\n",
       "    </tr>\n",
       "    <tr>\n",
       "      <th>std</th>\n",
       "      <td>721.543484</td>\n",
       "      <td>12116.094936</td>\n",
       "      <td>3.442656</td>\n",
       "      <td>5.970552e+04</td>\n",
       "      <td>2.038772e+05</td>\n",
       "    </tr>\n",
       "    <tr>\n",
       "      <th>min</th>\n",
       "      <td>0.000000</td>\n",
       "      <td>0.000000</td>\n",
       "      <td>1973.000000</td>\n",
       "      <td>0.000000e+00</td>\n",
       "      <td>1.593488e+08</td>\n",
       "    </tr>\n",
       "    <tr>\n",
       "      <th>25%</th>\n",
       "      <td>624.500000</td>\n",
       "      <td>10200.000000</td>\n",
       "      <td>2016.000000</td>\n",
       "      <td>2.146650e+04</td>\n",
       "      <td>1.676253e+08</td>\n",
       "    </tr>\n",
       "    <tr>\n",
       "      <th>50%</th>\n",
       "      <td>1249.000000</td>\n",
       "      <td>16900.000000</td>\n",
       "      <td>2018.000000</td>\n",
       "      <td>3.536500e+04</td>\n",
       "      <td>1.677451e+08</td>\n",
       "    </tr>\n",
       "    <tr>\n",
       "      <th>75%</th>\n",
       "      <td>1873.500000</td>\n",
       "      <td>25555.500000</td>\n",
       "      <td>2019.000000</td>\n",
       "      <td>6.347250e+04</td>\n",
       "      <td>1.677798e+08</td>\n",
       "    </tr>\n",
       "    <tr>\n",
       "      <th>max</th>\n",
       "      <td>2498.000000</td>\n",
       "      <td>84900.000000</td>\n",
       "      <td>2020.000000</td>\n",
       "      <td>1.017936e+06</td>\n",
       "      <td>1.678055e+08</td>\n",
       "    </tr>\n",
       "  </tbody>\n",
       "</table>\n",
       "</div>"
      ],
      "text/plain": [
       "        Unnamed: 0         price         year       mileage           lot\n",
       "count  2499.000000   2499.000000  2499.000000  2.499000e+03  2.499000e+03\n",
       "mean   1249.000000  18767.671469  2016.714286  5.229869e+04  1.676914e+08\n",
       "std     721.543484  12116.094936     3.442656  5.970552e+04  2.038772e+05\n",
       "min       0.000000      0.000000  1973.000000  0.000000e+00  1.593488e+08\n",
       "25%     624.500000  10200.000000  2016.000000  2.146650e+04  1.676253e+08\n",
       "50%    1249.000000  16900.000000  2018.000000  3.536500e+04  1.677451e+08\n",
       "75%    1873.500000  25555.500000  2019.000000  6.347250e+04  1.677798e+08\n",
       "max    2498.000000  84900.000000  2020.000000  1.017936e+06  1.678055e+08"
      ]
     },
     "execution_count": 11,
     "metadata": {},
     "output_type": "execute_result"
    }
   ],
   "source": [
    "# US cars\n",
    "us_cars.describe()"
   ]
  },
  {
   "cell_type": "markdown",
   "id": "d025c46e",
   "metadata": {
    "papermill": {
     "duration": 0.012206,
     "end_time": "2023-10-23T01:05:47.690206",
     "exception": false,
     "start_time": "2023-10-23T01:05:47.678000",
     "status": "completed"
    },
    "tags": []
   },
   "source": [
    "# Task 2"
   ]
  },
  {
   "cell_type": "code",
   "execution_count": 12,
   "id": "5a5a8420",
   "metadata": {
    "execution": {
     "iopub.execute_input": "2023-10-23T01:05:47.716995Z",
     "iopub.status.busy": "2023-10-23T01:05:47.716616Z",
     "iopub.status.idle": "2023-10-23T01:05:47.731666Z",
     "shell.execute_reply": "2023-10-23T01:05:47.730946Z"
    },
    "papermill": {
     "duration": 0.030705,
     "end_time": "2023-10-23T01:05:47.733391",
     "exception": false,
     "start_time": "2023-10-23T01:05:47.702686",
     "status": "completed"
    },
    "tags": []
   },
   "outputs": [],
   "source": [
    "#logistic regression\n",
    "class LogisticRegression:\n",
    "    def __init__(self, learning_rate=0.01, max_iter=1000, tol=1e-4):\n",
    "        self.learning_rate = learning_rate\n",
    "        self.max_iter = max_iter\n",
    "        self.tol = tol\n",
    "        self.theta = None\n",
    "\n",
    "    def sigmoid(self, z):\n",
    "        return 1 / (1 + np.exp(-z))\n",
    "\n",
    "    def cost_function(self, y, y_prediction):\n",
    "        epsilon = 1e-15\n",
    "        return -np.mean(y * np.log(y_prediction + epsilon) + (1 - y) * np.log(1 - y_prediction + epsilon))\n",
    "\n",
    "    def gradient_descent(self, x, y):\n",
    "        n = len(y)\n",
    "        cost_history = []\n",
    "\n",
    "        for i in range(self.max_iter):\n",
    "            y_prediction = self.hypothesis(x)\n",
    "            gradient = np.dot(x.T, (y_prediction - y)) / n\n",
    "            self.theta -= self.learning_rate * gradient\n",
    "            cost = self.cost_function(y, y_prediction)\n",
    "            cost_history.append(cost)\n",
    "\n",
    "            # Check convergence\n",
    "            if len(cost_history) > 1 and abs(cost_history[-1] - cost_history[-2]) < self.tol:\n",
    "                break\n",
    "\n",
    "        return cost_history\n",
    "\n",
    "    def fit(self, x, y):\n",
    "        x_bias = np.hstack((np.ones((x.shape[0], 1)), x))\n",
    "        self.theta = np.zeros(x_bias.shape[1])\n",
    "        cost_history = self.gradient_descent(x_bias, y)\n",
    "        return cost_history\n",
    "\n",
    "    def predict(self, x):\n",
    "        x_bias = np.hstack((np.ones((x.shape[0], 1)), x))\n",
    "        probabilities = self.hypothesis(x_bias)\n",
    "        return [1 if p >= 0.5 else 0 for p in probabilities]\n",
    "\n",
    "    def hypothesis(self, x):\n",
    "        return self.sigmoid(np.dot(x, self.theta))\n",
    "\n",
    "    @staticmethod\n",
    "    def evaluate_acc(y_true, y_pred):\n",
    "        return np.sum(y_true == y_pred) / len(y_true)\n",
    "\n",
    "    #k-fold cross-validation for Logistic regression\n",
    "    @staticmethod\n",
    "    def cross_validate_logistic(X, y, n_splits):\n",
    "        # Shuffle the data\n",
    "        shuffled_data = pd.concat([X, y], axis=1).sample(frac=1).reset_index(drop=True)\n",
    "\n",
    "        # Split the data into k folds\n",
    "        fold_size = len(shuffled_data) // n_splits\n",
    "        accuracies = []\n",
    "\n",
    "        for i in range(n_splits):\n",
    "            # Split the data into training and validation sets for the current fold\n",
    "            start_idx = i * fold_size\n",
    "            end_idx = (i + 1) * fold_size if i != n_splits - 1 else None  # To handle the last fold\n",
    "\n",
    "            val_data = shuffled_data.iloc[start_idx:end_idx]\n",
    "            train_data = shuffled_data.drop(val_data.index)\n",
    "\n",
    "            # Separate the features and labels\n",
    "            X_train = train_data.drop(columns=y.name)\n",
    "            y_train = train_data[y.name]\n",
    "            X_val = val_data.drop(columns=y.name)\n",
    "            y_val = val_data[y.name]\n",
    "\n",
    "            # Train the model and validate\n",
    "            model = LogisticRegression()\n",
    "            model.fit(X_train, y_train)\n",
    "            y_pred = model.predict(X_val)\n",
    "            accuracy = np.mean(y_val == y_pred)\n",
    "            accuracies.append(accuracy)\n",
    "\n",
    "        return np.mean(accuracies)"
   ]
  },
  {
   "cell_type": "code",
   "execution_count": 13,
   "id": "96e10812",
   "metadata": {
    "execution": {
     "iopub.execute_input": "2023-10-23T01:05:47.761852Z",
     "iopub.status.busy": "2023-10-23T01:05:47.761524Z",
     "iopub.status.idle": "2023-10-23T01:05:47.775983Z",
     "shell.execute_reply": "2023-10-23T01:05:47.774460Z"
    },
    "papermill": {
     "duration": 0.031377,
     "end_time": "2023-10-23T01:05:47.778396",
     "exception": false,
     "start_time": "2023-10-23T01:05:47.747019",
     "status": "completed"
    },
    "tags": []
   },
   "outputs": [],
   "source": [
    "# K-Nearest neighbor KNN\n",
    "from collections import Counter\n",
    "\n",
    "class KNN:\n",
    "    # initializing KNN\n",
    "    def __init__(self, k):\n",
    "        self.k = k\n",
    "    \n",
    "    # Fit function to store training data\n",
    "    def fit(self, X_train, y):\n",
    "        self.X_train = X_train\n",
    "        # Check if y is a pandas DataFrame or Series, if so, reset the index\n",
    "        if isinstance(y, (pd.DataFrame, pd.Series)):\n",
    "            self.y_train = y.reset_index(drop=True).values\n",
    "        else:\n",
    "            self.y_train = y\n",
    "\n",
    "    \n",
    "    # Computing the distance between two points using the Euclidean distance function\n",
    "    @staticmethod\n",
    "    def distance(x1, x2):\n",
    "        return np.linalg.norm(x1 - x2, axis=1)\n",
    "    \n",
    "    \"\"\"\n",
    "    Predict function runs a loop for every test data point, each time calculating distance between the test instance and every training instance. \n",
    "    It stores distance and index of the training data together in a 2D list. \n",
    "    Then sorts that list based on distance and then updates the list keeping only the K shortest distances(along with their indices) in the list.\n",
    "    Then pulls out labels corresponding to those K nearest data points and checks which label has the majority using Counter. \n",
    "    That majority label becomes the label of the test data point.\n",
    "    \"\"\"\n",
    "    def predict(self, X_test):\n",
    "        X_test = X_test.values if isinstance(X_test, pd.DataFrame) else X_test\n",
    "        predictions = []\n",
    "        for x in X_test:\n",
    "            distances = self.distance(self.X_train, x)\n",
    "            k_indices = distances.argsort()[:self.k]  # Get the indices of the k smallest distances\n",
    "            k_nearest_labels = self.y_train[k_indices]\n",
    "            most_common = np.bincount(k_nearest_labels).argmax()\n",
    "            predictions.append(most_common)\n",
    "        return predictions\n",
    "        \n",
    "# Function to run k-fold cross-validation for KNN\n",
    "def cross_validation_knn(X,y, k_list, n_splits):\n",
    "    # Check if X and y are pandas DataFrame or Series, if so, convert them to numpy arrays\n",
    "    if isinstance(X, (pd.DataFrame, pd.Series)):\n",
    "        X = X.values\n",
    "    if isinstance(y, (pd.DataFrame, pd.Series)):\n",
    "        y = y.values\n",
    "    fold_size = len(X) // n_splits  # size of each fold\n",
    "    indices = np.arange(len(X))  # create an array\n",
    "    np.random.shuffle(indices)  # shuffle the indices\n",
    "\n",
    "    k_accuracies = {}  # Dictionary to store accuracies for each k\n",
    "\n",
    "    for k in k_list:\n",
    "        accuracies = []\n",
    "\n",
    "        for i in range(n_splits):\n",
    "            # Splitting the data into training and validation based on current fold\n",
    "            test_indices = indices[i * fold_size:(i + 1) * fold_size]\n",
    "            train_indices = np.setdiff1d(indices, test_indices)\n",
    "\n",
    "            X_train, X_val = X[train_indices], X[test_indices]\n",
    "            y_train, y_val = y[train_indices], y[test_indices]\n",
    "\n",
    "            # Initializing KNN and training\n",
    "            knn = KNN(k=k)\n",
    "            knn.fit(X_train, y_train)\n",
    "            y_pred = knn.predict(X_val)\n",
    "\n",
    "            # Evaluating accuracy\n",
    "            accuracy = np.sum(y_val == y_pred) / len(y_val)\n",
    "            accuracies.append(accuracy)\n",
    "\n",
    "        # Storing mean accuracy for the current k value\n",
    "        k_accuracies[k] = np.mean(accuracies)\n",
    "\n",
    "    return k_accuracies\n",
    "# Accuracy function\n",
    "def evaluate_acc_knn(y_true, y_pred):\n",
    "    # check if both have the same length\n",
    "    if len(y_true) != len(y_pred):\n",
    "        print(\"Input arrays must have the same length\")\n",
    "    else:\n",
    "        return np.sum(y_true == y_pred)/len(y_true)"
   ]
  },
  {
   "cell_type": "markdown",
   "id": "e3e0c3e4",
   "metadata": {
    "papermill": {
     "duration": 0.012404,
     "end_time": "2023-10-23T01:05:47.803763",
     "exception": false,
     "start_time": "2023-10-23T01:05:47.791359",
     "status": "completed"
    },
    "tags": []
   },
   "source": [
    "# Task 3"
   ]
  },
  {
   "cell_type": "markdown",
   "id": "6e846c2c",
   "metadata": {
    "papermill": {
     "duration": 0.01222,
     "end_time": "2023-10-23T01:05:47.829901",
     "exception": false,
     "start_time": "2023-10-23T01:05:47.817681",
     "status": "completed"
    },
    "tags": []
   },
   "source": [
    "# Testing Adult Data"
   ]
  },
  {
   "cell_type": "code",
   "execution_count": 14,
   "id": "be36f9d6",
   "metadata": {
    "execution": {
     "iopub.execute_input": "2023-10-23T01:05:47.856792Z",
     "iopub.status.busy": "2023-10-23T01:05:47.855950Z",
     "iopub.status.idle": "2023-10-23T01:05:47.871346Z",
     "shell.execute_reply": "2023-10-23T01:05:47.870225Z"
    },
    "papermill": {
     "duration": 0.031681,
     "end_time": "2023-10-23T01:05:47.874063",
     "exception": false,
     "start_time": "2023-10-23T01:05:47.842382",
     "status": "completed"
    },
    "tags": []
   },
   "outputs": [
    {
     "data": {
      "text/plain": [
       "((24129, 7), (6033, 7), (24129,), (6033,))"
      ]
     },
     "execution_count": 14,
     "metadata": {},
     "output_type": "execute_result"
    }
   ],
   "source": [
    "# Selecting relevant columns for x and y\n",
    "df_x = dataAdult[['relationship','education','race','occupation','sex','marital.status','workclass']]\n",
    "df_y = dataAdult['income']\n",
    "\n",
    "# Splitting the dataset into training and testing sets (80-20 split)\n",
    "np.random.seed(42)\n",
    "shuffled_indices = np.random.permutation(len(df_x))\n",
    "\n",
    "# Determine the split index based on the desired ratio (80-20 split)\n",
    "train_indices = shuffled_indices[:int(0.8 * len(df_x))]\n",
    "test_indices = shuffled_indices[int(0.8 * len(df_x)):]\n",
    "\n",
    "# Split the data based on the shuffled indices\n",
    "x_train = df_x.iloc[train_indices]\n",
    "x_test = df_x.iloc[test_indices]\n",
    "y_train = df_y.iloc[train_indices]\n",
    "y_test = df_y.iloc[test_indices]\n",
    "\n",
    "x_train.shape, x_test.shape, y_train.shape, y_test.shape"
   ]
  },
  {
   "cell_type": "code",
   "execution_count": 15,
   "id": "c7face5b",
   "metadata": {
    "execution": {
     "iopub.execute_input": "2023-10-23T01:05:47.903706Z",
     "iopub.status.busy": "2023-10-23T01:05:47.903303Z",
     "iopub.status.idle": "2023-10-23T01:05:47.925443Z",
     "shell.execute_reply": "2023-10-23T01:05:47.922959Z"
    },
    "papermill": {
     "duration": 0.040004,
     "end_time": "2023-10-23T01:05:47.928067",
     "exception": false,
     "start_time": "2023-10-23T01:05:47.888063",
     "status": "completed"
    },
    "tags": []
   },
   "outputs": [
    {
     "name": "stdout",
     "output_type": "stream",
     "text": [
      "NaN in training: 0\n",
      "NaN in testing: 0\n"
     ]
    },
    {
     "name": "stderr",
     "output_type": "stream",
     "text": [
      "/tmp/ipykernel_20/1969342037.py:1: SettingWithCopyWarning: \n",
      "A value is trying to be set on a copy of a slice from a DataFrame\n",
      "\n",
      "See the caveats in the documentation: https://pandas.pydata.org/pandas-docs/stable/user_guide/indexing.html#returning-a-view-versus-a-copy\n",
      "  x_train.fillna(x_train.mean(), inplace=True)\n",
      "/tmp/ipykernel_20/1969342037.py:2: SettingWithCopyWarning: \n",
      "A value is trying to be set on a copy of a slice from a DataFrame\n",
      "\n",
      "See the caveats in the documentation: https://pandas.pydata.org/pandas-docs/stable/user_guide/indexing.html#returning-a-view-versus-a-copy\n",
      "  x_test.fillna(x_train.mean(), inplace=True)\n"
     ]
    }
   ],
   "source": [
    "x_train.fillna(x_train.mean(), inplace=True)\n",
    "x_test.fillna(x_train.mean(), inplace=True)\n",
    "\n",
    "# Check for NaN or inf values in the training and testing datasets\n",
    "nan_in_train = x_train.isnull().sum().sum()\n",
    "nan_in_test = x_test.isnull().sum().sum()\n",
    "\n",
    "print(\"NaN in training:\", nan_in_train)\n",
    "print(\"NaN in testing:\", nan_in_test)"
   ]
  },
  {
   "cell_type": "markdown",
   "id": "46f5f15a",
   "metadata": {
    "papermill": {
     "duration": 0.01292,
     "end_time": "2023-10-23T01:05:47.954260",
     "exception": false,
     "start_time": "2023-10-23T01:05:47.941340",
     "status": "completed"
    },
    "tags": []
   },
   "source": [
    "**Logistic Regression**"
   ]
  },
  {
   "cell_type": "code",
   "execution_count": 16,
   "id": "8dd20fd6",
   "metadata": {
    "execution": {
     "iopub.execute_input": "2023-10-23T01:05:47.982547Z",
     "iopub.status.busy": "2023-10-23T01:05:47.982190Z",
     "iopub.status.idle": "2023-10-23T01:05:50.081453Z",
     "shell.execute_reply": "2023-10-23T01:05:50.079975Z"
    },
    "papermill": {
     "duration": 2.116944,
     "end_time": "2023-10-23T01:05:50.084591",
     "exception": false,
     "start_time": "2023-10-23T01:05:47.967647",
     "status": "completed"
    },
    "tags": []
   },
   "outputs": [
    {
     "name": "stdout",
     "output_type": "stream",
     "text": [
      "predictions:  [0, 0, 0, 0, 0, 0, 0, 0, 0, 0, 0, 0, 0, 0, 0, 0, 0, 0, 0, 0, 0, 0, 0, 0, 0, 0, 0, 0, 0, 0, 0, 0, 0, 0, 0, 0, 0, 0, 0, 0, 0, 0, 0, 0, 0, 0, 0, 0, 0, 0, 0, 0, 0, 0, 0, 0, 0, 0, 0, 0, 0, 0, 0, 0, 0, 0, 0, 0, 0, 0, 0, 0, 0, 0, 0, 0, 0, 0, 0, 0, 0, 0, 0, 0, 0, 0, 0, 0, 0, 0, 0, 0, 0, 0, 0, 0, 0, 0, 0, 0, 0, 0, 0, 0, 0, 0, 0, 0, 0, 0, 0, 0, 0, 0, 0, 0, 0, 0, 0, 0, 0, 0, 0, 1, 0, 0, 0, 0, 0, 0, 0, 0, 0, 0, 0, 0, 0, 0, 0, 0, 0, 0, 0, 0, 0, 0, 0, 0, 0, 0, 0, 0, 0, 0, 0, 0, 0, 0, 0, 0, 0, 0, 0, 0, 0, 0, 0, 0, 0, 0, 0, 0, 0, 0, 0, 0, 0, 0, 0, 0, 0, 0, 0, 0, 0, 0, 0, 1, 0, 0, 0, 0, 0, 0, 0, 0, 0, 0, 0, 0, 0, 0, 0, 0, 0, 0, 0, 0, 0, 0, 0, 0, 0, 0, 0, 0, 1, 0, 0, 0, 0, 0, 0, 0, 0, 0, 0, 0, 0, 0, 0, 0, 0, 0, 0, 0, 0, 0, 0, 0, 0, 0, 0, 0, 0, 0, 0, 0, 0, 0, 0, 0, 0, 0, 0, 0, 0, 0, 0, 0, 0, 0, 0, 0, 0, 0, 1, 0, 0, 0, 0, 0, 0, 0, 0, 0, 0, 0, 0, 0, 0, 0, 0, 0, 0, 0, 0, 0, 0, 0, 0, 0, 0, 0, 0, 0, 0, 0, 0, 0, 0, 0, 0, 0, 0, 0, 0, 0, 0, 0, 0, 0, 0, 0, 0, 0, 0, 1, 0, 0, 0, 0, 0, 0, 0, 0, 0, 0, 0, 0, 0, 0, 0, 0, 0, 0, 0, 0, 0, 0, 0, 0, 0, 0, 0, 0, 0, 0, 0, 0, 0, 0, 0, 0, 0, 0, 0, 0, 0, 0, 0, 1, 0, 0, 0, 0, 0, 0, 0, 0, 0, 0, 0, 0, 0, 0, 0, 0, 0, 0, 0, 0, 0, 0, 0, 0, 0, 0, 0, 0, 0, 0, 0, 0, 0, 0, 0, 0, 0, 0, 0, 0, 0, 0, 0, 0, 0, 0, 0, 0, 0, 0, 0, 0, 0, 0, 0, 0, 0, 0, 0, 0, 0, 0, 0, 0, 0, 0, 0, 1, 0, 0, 0, 0, 0, 0, 0, 0, 0, 0, 0, 0, 0, 0, 0, 0, 0, 0, 0, 0, 0, 0, 0, 0, 0, 0, 0, 0, 0, 0, 0, 0, 0, 0, 0, 0, 0, 0, 0, 0, 0, 0, 0, 0, 0, 0, 0, 0, 0, 0, 0, 0, 0, 0, 0, 0, 0, 0, 0, 0, 0, 0, 0, 0, 0, 0, 0, 0, 1, 0, 0, 0, 0, 0, 0, 0, 0, 0, 0, 0, 0, 0, 0, 0, 0, 0, 0, 0, 0, 0, 0, 0, 0, 0, 0, 0, 0, 0, 1, 0, 0, 0, 0, 0, 0, 0, 0, 0, 0, 0, 0, 0, 0, 0, 0, 0, 0, 0, 0, 0, 0, 0, 0, 0, 0, 0, 0, 0, 0, 0, 0, 0, 0, 0, 0, 0, 0, 0, 0, 0, 0, 0, 0, 0, 0, 0, 0, 0, 0, 0, 0, 0, 0, 0, 0, 0, 0, 0, 0, 0, 0, 0, 0, 0, 0, 0, 0, 0, 0, 0, 0, 0, 0, 0, 1, 0, 0, 0, 0, 0, 0, 0, 0, 0, 0, 0, 0, 0, 0, 0, 0, 0, 0, 0, 0, 0, 0, 0, 0, 0, 0, 0, 0, 0, 0, 0, 0, 0, 0, 0, 0, 0, 0, 0, 0, 0, 0, 0, 0, 0, 0, 0, 0, 0, 0, 0, 0, 0, 0, 0, 0, 0, 0, 1, 0, 0, 0, 0, 0, 0, 0, 0, 0, 0, 0, 0, 0, 0, 0, 0, 0, 0, 0, 0, 1, 0, 0, 0, 0, 0, 0, 0, 0, 0, 0, 0, 0, 0, 0, 0, 0, 1, 0, 0, 0, 0, 0, 0, 0, 0, 0, 0, 0, 0, 0, 0, 0, 0, 0, 0, 0, 0, 0, 0, 0, 0, 0, 0, 0, 0, 0, 0, 0, 0, 0, 0, 0, 0, 0, 0, 0, 0, 0, 0, 0, 0, 0, 0, 0, 0, 0, 0, 0, 0, 0, 0, 0, 0, 0, 0, 0, 0, 0, 0, 0, 0, 0, 0, 0, 0, 0, 0, 0, 0, 0, 0, 0, 0, 0, 0, 0, 0, 0, 0, 0, 0, 0, 0, 0, 0, 0, 0, 1, 0, 0, 0, 0, 0, 0, 0, 0, 0, 0, 0, 0, 0, 0, 1, 0, 0, 0, 0, 0, 0, 0, 0, 0, 0, 0, 0, 0, 0, 0, 0, 0, 0, 0, 0, 0, 0, 0, 0, 0, 0, 0, 0, 0, 1, 0, 0, 0, 0, 0, 0, 0, 0, 0, 0, 0, 0, 0, 0, 0, 0, 0, 0, 0, 0, 0, 0, 0, 0, 0, 0, 0, 0, 0, 0, 0, 0, 0, 0, 0, 0, 0, 1, 0, 0, 0, 0, 0, 0, 0, 0, 0, 0, 0, 0, 0, 0, 0, 0, 0, 0, 0, 0, 0, 0, 0, 0, 0, 0, 0, 0, 0, 0, 0, 0, 0, 0, 0, 0, 0, 0, 0, 0, 0, 0, 0, 0, 0, 0, 1, 0, 0, 0, 0, 0, 0, 0, 0, 0, 0, 0, 0, 0, 0, 0, 0, 0, 0, 0, 0, 0, 0, 0, 0, 0, 0, 0, 0, 1, 0, 0, 0, 0, 0, 0, 0, 0, 0, 0, 0, 0, 0, 0, 0, 0, 0, 0, 0, 0, 1, 0, 0, 0, 0, 0, 0, 0, 0, 0, 0, 0, 0, 0, 0, 0, 0, 0, 0, 0, 0, 0, 0, 0, 0, 0, 0, 1, 0, 0, 0, 0, 0, 0, 0, 0, 0, 0, 0, 0, 0, 0, 0, 0, 0, 0, 0, 0, 0, 0, 0, 0, 0, 1, 0, 0, 1, 0, 0, 0, 0, 0, 0, 0, 0, 1, 0, 0, 1, 0, 0, 0, 0, 0, 0, 1, 0, 0, 0, 0, 0, 0, 0, 0, 0, 0, 0, 0, 0, 0, 0, 0, 0, 0, 0, 0, 0, 0, 0, 0, 0, 0, 0, 0, 0, 0, 0, 0, 0, 0, 0, 0, 0, 0, 0, 0, 0, 0, 0, 0, 0, 0, 0, 0, 0, 0, 0, 0, 0, 0, 0, 0, 0, 0, 0, 0, 0, 0, 0, 0, 0, 0, 0, 0, 0, 0, 0, 0, 0, 0, 0, 0, 0, 0, 0, 0, 0, 0, 0, 0, 0, 0, 0, 0, 0, 0, 0, 0, 0, 0, 0, 0, 0, 0, 0, 0, 0, 0, 0, 0, 0, 0, 0, 0, 0, 0, 0, 0, 0, 0, 0, 0, 0, 0, 0, 0, 0, 0, 0, 0, 0, 0, 0, 0, 0, 0, 0, 0, 0, 0, 0, 0, 0, 0, 0, 0, 0, 0, 0, 0, 0, 0, 0, 0, 0, 0, 0, 0, 0, 0, 0, 0, 0, 0, 0, 0, 0, 0, 0, 0, 0, 0, 0, 0, 0, 0, 0, 0, 0, 0, 0, 0, 0, 0, 0, 0, 0, 0, 0, 0, 0, 0, 0, 0, 0, 0, 0, 0, 0, 0, 0, 0, 0, 0, 0, 0, 0, 0, 0, 0, 0, 0, 0, 0, 0, 0, 0, 0, 0, 0, 0, 0, 0, 0, 0, 0, 0, 0, 0, 0, 0, 0, 0, 0, 0, 0, 0, 0, 0, 0, 0, 0, 0, 0, 0, 0, 0, 0, 0, 0, 0, 0, 0, 0, 0, 0, 0, 0, 0, 0, 0, 0, 0, 0, 0, 0, 0, 0, 0, 0, 0, 0, 0, 0, 0, 0, 0, 0, 0, 0, 0, 0, 0, 0, 0, 0, 0, 0, 0, 0, 0, 0, 0, 0, 0, 0, 0, 0, 0, 0, 0, 0, 0, 0, 0, 0, 0, 0, 0, 0, 0, 0, 0, 0, 0, 0, 0, 0, 0, 0, 1, 0, 0, 0, 0, 0, 0, 0, 0, 0, 0, 0, 0, 0, 0, 0, 0, 0, 0, 0, 0, 0, 0, 0, 0, 0, 0, 0, 0, 0, 0, 0, 1, 0, 0, 0, 0, 0, 0, 0, 0, 0, 0, 0, 0, 0, 0, 0, 0, 0, 0, 0, 0, 0, 0, 0, 0, 0, 0, 0, 0, 0, 0, 0, 0, 0, 1, 0, 0, 0, 0, 0, 0, 0, 0, 0, 1, 0, 0, 0, 0, 0, 0, 0, 0, 0, 0, 0, 0, 0, 0, 0, 0, 0, 0, 0, 0, 0, 0, 0, 0, 0, 0, 0, 0, 0, 0, 0, 0, 0, 0, 0, 0, 0, 0, 0, 0, 0, 0, 0, 0, 0, 0, 0, 0, 0, 0, 0, 0, 0, 0, 0, 0, 0, 0, 0, 0, 0, 0, 0, 0, 0, 0, 0, 0, 0, 0, 0, 0, 0, 0, 0, 0, 0, 0, 0, 0, 0, 0, 0, 0, 0, 0, 0, 0, 0, 0, 0, 0, 0, 0, 0, 0, 0, 0, 0, 0, 0, 0, 0, 0, 0, 0, 1, 0, 0, 0, 0, 0, 0, 0, 0, 0, 0, 0, 0, 0, 0, 0, 0, 0, 0, 0, 0, 0, 0, 0, 0, 0, 0, 0, 0, 0, 0, 0, 0, 0, 0, 0, 0, 0, 0, 0, 0, 0, 0, 0, 0, 0, 0, 0, 0, 1, 0, 0, 0, 1, 0, 0, 0, 0, 0, 0, 0, 0, 0, 0, 0, 0, 0, 0, 0, 0, 0, 0, 0, 0, 0, 0, 0, 0, 0, 0, 0, 0, 0, 0, 0, 0, 0, 0, 0, 0, 0, 1, 0, 0, 0, 0, 0, 0, 0, 0, 0, 0, 0, 0, 0, 0, 0, 0, 0, 0, 0, 0, 0, 0, 0, 0, 0, 0, 0, 0, 0, 0, 0, 0, 0, 0, 0, 0, 0, 0, 0, 0, 0, 0, 0, 0, 0, 0, 0, 0, 0, 0, 0, 0, 0, 0, 0, 0, 0, 0, 0, 1, 0, 0, 0, 0, 0, 0, 0, 0, 0, 0, 0, 0, 0, 1, 0, 0, 0, 0, 0, 0, 0, 0, 0, 0, 0, 0, 0, 0, 0, 0, 0, 0, 0, 0, 0, 0, 0, 0, 0, 0, 0, 0, 0, 0, 0, 0, 1, 0, 0, 0, 1, 0, 0, 0, 0, 0, 0, 0, 0, 0, 0, 0, 0, 0, 0, 0, 0, 0, 0, 0, 0, 0, 0, 0, 0, 0, 0, 0, 0, 0, 0, 0, 0, 0, 0, 0, 0, 0, 0, 0, 0, 0, 0, 0, 0, 0, 0, 0, 0, 0, 0, 0, 0, 0, 0, 0, 0, 0, 0, 0, 0, 0, 0, 0, 0, 0, 0, 0, 0, 0, 0, 0, 0, 0, 0, 0, 0, 0, 0, 0, 0, 0, 0, 0, 0, 0, 0, 0, 0, 0, 0, 0, 0, 0, 0, 0, 0, 0, 0, 0, 0, 0, 0, 0, 0, 0, 1, 0, 0, 0, 1, 0, 0, 0, 0, 0, 0, 0, 0, 0, 0, 0, 0, 0, 0, 0, 0, 0, 0, 0, 0, 0, 0, 0, 0, 0, 0, 0, 0, 0, 0, 0, 0, 0, 0, 0, 0, 0, 0, 0, 0, 0, 0, 0, 0, 0, 0, 0, 0, 0, 0, 0, 0, 0, 0, 0, 0, 0, 0, 0, 0, 0, 1, 0, 0, 0, 0, 0, 0, 0, 0, 0, 0, 0, 0, 0, 0, 0, 1, 0, 0, 0, 0, 0, 0, 0, 0, 0, 0, 0, 0, 0, 0, 0, 0, 0, 0, 0, 0, 0, 0, 0, 0, 0, 0, 0, 0, 0, 0, 0, 0, 1, 0, 0, 1, 0, 0, 0, 0, 0, 0, 0, 0, 0, 0, 0, 0, 0, 0, 0, 0, 0, 0, 0, 1, 0, 0, 0, 0, 0, 0, 0, 0, 0, 0, 0, 0, 0, 0, 0, 0, 0, 0, 0, 0, 0, 0, 0, 0, 0, 0, 0, 0, 0, 0, 0, 0, 0, 0, 0, 0, 0, 0, 0, 0, 0, 0, 0, 0, 0, 0, 0, 0, 0, 0, 0, 0, 0, 0, 0, 0, 0, 0, 0, 0, 0, 0, 0, 0, 0, 0, 0, 0, 0, 0, 0, 0, 0, 0, 0, 0, 0, 0, 0, 0, 0, 0, 0, 0, 0, 0, 0, 0, 0, 0, 0, 0, 0, 0, 0, 0, 0, 0, 0, 0, 0, 0, 0, 0, 0, 0, 0, 0, 0, 0, 0, 0, 0, 0, 0, 0, 0, 0, 0, 0, 0, 0, 0, 0, 0, 0, 0, 1, 0, 0, 0, 0, 0, 0, 0, 0, 0, 0, 0, 0, 0, 0, 0, 0, 0, 0, 0, 0, 0, 0, 0, 0, 0, 0, 0, 0, 0, 0, 0, 0, 0, 0, 0, 0, 0, 0, 0, 0, 0, 0, 0, 0, 0, 0, 1, 0, 0, 0, 0, 0, 0, 0, 0, 0, 0, 0, 0, 0, 0, 1, 0, 0, 0, 0, 0, 0, 0, 0, 0, 0, 0, 0, 0, 0, 0, 0, 0, 0, 0, 0, 0, 0, 0, 0, 0, 0, 0, 0, 0, 0, 0, 0, 0, 0, 0, 0, 0, 0, 0, 0, 0, 0, 0, 0, 0, 0, 0, 0, 0, 0, 0, 0, 0, 0, 0, 0, 0, 0, 0, 0, 0, 0, 0, 0, 0, 0, 0, 0, 0, 0, 0, 0, 0, 0, 0, 0, 0, 0, 0, 0, 0, 0, 0, 0, 0, 0, 0, 0, 0, 0, 0, 0, 0, 0, 0, 0, 0, 0, 0, 0, 0, 0, 0, 0, 0, 0, 0, 0, 0, 0, 0, 0, 0, 0, 0, 0, 0, 0, 0, 0, 0, 1, 0, 0, 0, 0, 0, 0, 0, 0, 0, 0, 0, 0, 0, 0, 0, 0, 0, 0, 0, 0, 0, 0, 0, 0, 0, 0, 0, 0, 0, 0, 0, 0, 0, 0, 0, 0, 0, 0, 0, 0, 0, 0, 0, 0, 0, 0, 0, 0, 0, 0, 0, 0, 0, 0, 0, 0, 0, 0, 0, 0, 0, 0, 0, 0, 0, 0, 0, 0, 0, 0, 0, 0, 1, 0, 0, 1, 0, 0, 0, 0, 0, 0, 0, 0, 0, 0, 0, 0, 0, 0, 0, 0, 0, 0, 1, 0, 0, 0, 0, 0, 0, 0, 0, 0, 0, 0, 0, 0, 0, 0, 0, 0, 0, 0, 0, 0, 0, 0, 0, 0, 0, 0, 0, 0, 0, 0, 0, 0, 0, 0, 0, 0, 0, 0, 0, 0, 0, 0, 0, 0, 0, 0, 0, 0, 0, 0, 0, 0, 0, 0, 0, 0, 0, 0, 0, 0, 0, 0, 0, 0, 0, 0, 0, 0, 0, 0, 0, 0, 0, 0, 0, 0, 0, 0, 0, 0, 0, 0, 0, 0, 0, 0, 0, 0, 0, 0, 0, 0, 0, 0, 0, 0, 0, 0, 0, 0, 0, 0, 0, 0, 0, 0, 0, 0, 0, 0, 0, 0, 0, 0, 0, 0, 0, 0, 0, 0, 0, 0, 0, 0, 0, 0, 0, 0, 0, 0, 0, 0, 0, 0, 0, 0, 0, 0, 0, 0, 0, 0, 0, 0, 0, 0, 0, 0, 0, 0, 0, 0, 0, 0, 0, 0, 0, 0, 0, 0, 0, 0, 0, 0, 0, 0, 0, 0, 0, 0, 0, 0, 0, 0, 0, 0, 0, 0, 0, 0, 0, 0, 0, 0, 0, 0, 0, 0, 0, 0, 0, 0, 0, 0, 0, 0, 0, 0, 0, 0, 0, 0, 0, 0, 0, 0, 0, 0, 0, 0, 0, 0, 0, 0, 0, 0, 0, 0, 0, 0, 0, 0, 0, 0, 0, 0, 0, 0, 0, 0, 0, 0, 0, 0, 0, 0, 0, 0, 0, 0, 0, 0, 0, 0, 0, 0, 0, 0, 0, 0, 0, 0, 0, 0, 0, 0, 0, 0, 0, 0, 0, 0, 0, 0, 0, 0, 0, 0, 0, 0, 0, 0, 0, 0, 0, 0, 0, 0, 0, 0, 0, 0, 0, 0, 0, 0, 0, 0, 0, 0, 0, 0, 0, 0, 0, 1, 0, 0, 0, 0, 0, 0, 0, 0, 0, 0, 0, 0, 0, 0, 0, 0, 0, 0, 0, 0, 0, 0, 0, 0, 0, 0, 0, 0, 0, 0, 0, 0, 0, 0, 0, 0, 0, 0, 0, 0, 0, 0, 0, 0, 0, 0, 0, 0, 0, 0, 0, 0, 0, 0, 0, 0, 0, 0, 0, 0, 0, 0, 0, 0, 0, 0, 0, 0, 0, 0, 0, 0, 0, 0, 0, 0, 0, 0, 0, 0, 0, 0, 0, 0, 0, 0, 0, 0, 0, 0, 0, 0, 0, 0, 0, 0, 0, 0, 0, 0, 0, 0, 0, 0, 0, 0, 0, 0, 0, 1, 0, 0, 0, 0, 0, 0, 0, 0, 0, 0, 0, 0, 0, 0, 0, 0, 0, 0, 0, 0, 0, 0, 0, 0, 0, 0, 0, 0, 1, 0, 0, 0, 0, 0, 0, 0, 0, 0, 0, 0, 0, 0, 0, 0, 0, 0, 0, 0, 0, 0, 0, 0, 0, 0, 0, 0, 0, 0, 0, 0, 0, 0, 0, 0, 0, 0, 0, 0, 0, 1, 0, 0, 0, 0, 0, 0, 0, 0, 0, 0, 0, 0, 0, 0, 0, 0, 0, 0, 0, 0, 0, 0, 0, 0, 0, 0, 0, 0, 0, 0, 0, 0, 0, 0, 0, 0, 0, 0, 0, 0, 0, 0, 0, 0, 0, 0, 0, 0, 0, 0, 0, 1, 0, 0, 0, 0, 0, 0, 0, 0, 0, 0, 0, 0, 0, 0, 0, 0, 0, 0, 0, 0, 0, 0, 0, 0, 0, 0, 0, 0, 0, 0, 0, 0, 0, 0, 0, 0, 0, 0, 0, 0, 0, 0, 0, 0, 0, 0, 0, 0, 0, 0, 0, 0, 0, 0, 0, 0, 0, 0, 0, 0, 0, 0, 0, 0, 0, 0, 0, 0, 0, 0, 0, 0, 0, 0, 0, 0, 0, 0, 0, 0, 0, 0, 0, 0, 0, 0, 0, 0, 0, 0, 0, 0, 0, 0, 0, 0, 0, 0, 0, 0, 0, 0, 0, 0, 0, 0, 0, 0, 0, 0, 0, 0, 0, 0, 0, 0, 0, 0, 0, 0, 0, 0, 0, 0, 0, 0, 0, 0, 0, 0, 0, 0, 0, 0, 0, 0, 0, 0, 0, 0, 0, 0, 0, 0, 0, 0, 0, 0, 0, 0, 0, 0, 0, 0, 0, 0, 0, 0, 0, 0, 0, 0, 0, 0, 0, 0, 0, 0, 0, 0, 0, 0, 0, 0, 0, 0, 0, 0, 0, 0, 0, 0, 0, 0, 0, 0, 0, 0, 0, 0, 0, 0, 0, 0, 0, 0, 0, 0, 0, 0, 0, 0, 0, 0, 0, 0, 0, 0, 0, 0, 0, 0, 0, 0, 0, 0, 0, 0, 0, 0, 0, 0, 0, 0, 0, 0, 0, 0, 0, 0, 0, 0, 0, 0, 0, 0, 0, 0, 0, 0, 0, 0, 0, 0, 0, 0, 0, 0, 0, 0, 0, 0, 0, 0, 0, 0, 0, 0, 0, 0, 0, 0, 0, 0, 0, 0, 0, 0, 0, 0, 0, 0, 0, 0, 0, 0, 0, 0, 0, 0, 0, 0, 0, 0, 0, 0, 0, 0, 0, 0, 0, 0, 0, 0, 0, 0, 0, 0, 0, 0, 0, 0, 0, 0, 0, 0, 0, 0, 0, 0, 0, 0, 0, 0, 0, 0, 0, 0, 0, 0, 0, 0, 0, 0, 0, 0, 0, 0, 0, 0, 0, 0, 0, 0, 0, 0, 0, 0, 0, 0, 0, 1, 0, 0, 0, 0, 0, 0, 0, 0, 0, 0, 0, 0, 0, 0, 0, 0, 0, 0, 0, 0, 0, 0, 0, 0, 0, 0, 0, 0, 0, 0, 0, 0, 0, 0, 0, 0, 0, 0, 0, 0, 0, 0, 0, 0, 0, 0, 0, 0, 0, 0, 0, 0, 0, 0, 0, 0, 0, 0, 0, 0, 0, 0, 0, 0, 0, 0, 0, 0, 0, 0, 0, 0, 0, 0, 0, 0, 0, 0, 0, 0, 0, 0, 0, 0, 0, 0, 0, 0, 0, 0, 0, 0, 0, 0, 0, 0, 0, 0, 0, 0, 0, 0, 0, 0, 0, 0, 0, 0, 0, 0, 0, 0, 0, 0, 0, 0, 0, 0, 0, 0, 1, 0, 0, 0, 0, 0, 0, 0, 0, 0, 0, 0, 0, 0, 0, 0, 0, 0, 0, 0, 0, 0, 0, 0, 0, 0, 0, 0, 0, 0, 0, 0, 0, 0, 0, 0, 0, 0, 0, 0, 0, 0, 0, 0, 0, 0, 0, 0, 0, 0, 0, 0, 0, 0, 0, 0, 0, 0, 0, 0, 0, 0, 0, 0, 0, 0, 0, 0, 0, 0, 0, 0, 1, 0, 0, 0, 0, 0, 0, 0, 0, 0, 0, 0, 0, 0, 0, 0, 0, 0, 0, 0, 0, 0, 0, 0, 0, 0, 0, 0, 0, 0, 0, 0, 0, 0, 0, 0, 0, 0, 0, 0, 0, 0, 0, 0, 0, 0, 0, 0, 0, 0, 0, 0, 0, 0, 0, 0, 0, 0, 0, 0, 0, 0, 0, 0, 0, 0, 0, 0, 0, 0, 0, 0, 0, 0, 0, 0, 0, 0, 0, 0, 0, 0, 0, 0, 0, 0, 0, 0, 0, 0, 0, 0, 0, 0, 0, 1, 0, 0, 0, 0, 0, 0, 0, 0, 0, 0, 0, 0, 0, 0, 0, 0, 0, 1, 0, 0, 0, 0, 0, 0, 0, 0, 0, 0, 0, 0, 0, 0, 0, 0, 0, 0, 0, 0, 0, 0, 0, 0, 0, 0, 0, 1, 0, 0, 0, 0, 0, 0, 0, 0, 0, 0, 0, 0, 0, 0, 1, 0, 0, 0, 0, 0, 0, 0, 0, 0, 0, 0, 0, 0, 0, 0, 0, 0, 0, 0, 0, 0, 0, 0, 0, 0, 0, 0, 0, 0, 0, 0, 0, 0, 0, 0, 0, 0, 0, 0, 0, 0, 0, 0, 0, 0, 0, 0, 0, 0, 0, 0, 0, 0, 0, 0, 0, 0, 0, 0, 0, 0, 0, 0, 0, 0, 0, 0, 0, 0, 0, 0, 0, 1, 0, 0, 0, 0, 0, 1, 0, 0, 0, 0, 1, 0, 0, 0, 0, 0, 0, 0, 0, 0, 0, 0, 0, 0, 0, 0, 0, 0, 0, 0, 0, 0, 0, 0, 0, 0, 0, 0, 0, 0, 0, 0, 0, 0, 0, 0, 0, 0, 0, 0, 0, 0, 0, 0, 0, 0, 0, 0, 0, 0, 1, 0, 0, 0, 0, 0, 0, 0, 0, 0, 0, 0, 0, 0, 0, 0, 0, 0, 0, 0, 0, 0, 0, 0, 0, 0, 0, 0, 0, 0, 0, 0, 0, 0, 0, 0, 0, 0, 0, 0, 0, 1, 0, 0, 0, 0, 0, 0, 0, 0, 0, 0, 0, 0, 0, 0, 0, 0, 0, 0, 0, 0, 0, 0, 0, 0, 0, 0, 0, 0, 0, 0, 0, 0, 0, 0, 0, 0, 0, 0, 0, 0, 0, 0, 0, 0, 0, 0, 0, 0, 0, 0, 0, 0, 0, 0, 0, 0, 0, 0, 0, 0, 0, 0, 0, 0, 0, 0, 0, 0, 0, 0, 0, 0, 0, 0, 0, 0, 1, 0, 0, 0, 0, 0, 0, 0, 0, 0, 0, 0, 0, 0, 0, 0, 0, 0, 0, 0, 0, 0, 0, 0, 0, 0, 0, 0, 0, 0, 0, 0, 0, 0, 1, 0, 1, 0, 0, 0, 0, 0, 0, 0, 0, 0, 0, 0, 0, 0, 0, 0, 0, 0, 0, 0, 0, 0, 0, 0, 0, 0, 0, 0, 0, 0, 0, 0, 0, 0, 0, 0, 0, 0, 0, 0, 0, 0, 0, 0, 0, 0, 0, 0, 0, 0, 0, 0, 0, 0, 0, 0, 0, 1, 0, 0, 0, 0, 0, 0, 0, 0, 0, 0, 0, 0, 0, 0, 0, 0, 0, 0, 0, 0, 0, 0, 0, 0, 0, 0, 0, 0, 0, 0, 0, 0, 0, 0, 0, 0, 0, 0, 0, 1, 0, 0, 0, 0, 0, 0, 1, 0, 0, 0, 0, 0, 0, 0, 0, 0, 0, 0, 0, 0, 0, 0, 0, 0, 0, 0, 0, 0, 0, 0, 0, 0, 0, 0, 0, 0, 0, 0, 0, 0, 0, 0, 0, 0, 0, 0, 0, 0, 0, 0, 0, 0, 0, 0, 0, 0, 0, 0, 0, 0, 0, 0, 0, 0, 0, 0, 0, 0, 0, 0, 0, 0, 0, 0, 0, 0, 0, 0, 0, 0, 0, 0, 0, 0, 0, 0, 0, 0, 0, 0, 0, 0, 0, 0, 0, 0, 0, 0, 0, 0, 0, 0, 0, 0, 0, 0, 0, 0, 0, 0, 0, 0, 0, 0, 0, 0, 0, 0, 0, 0, 0, 0, 0, 0, 0, 0, 0, 0, 0, 0, 0, 0, 0, 0, 0, 0, 0, 0, 0, 0, 0, 0, 0, 0, 0, 0, 0, 0, 0, 0, 0, 0, 0, 0, 0, 0, 0, 0, 0, 0, 0, 0, 0, 0, 0, 0, 0, 0, 0, 0, 0, 0, 0, 0, 0, 0, 0, 0, 0, 0, 0, 0, 0, 0, 0, 0, 0, 0, 0, 0, 0, 0, 0, 0, 0, 0, 0, 0, 0, 0, 0, 0, 0, 0, 0, 0, 0, 0, 0, 0, 0, 0, 0, 0, 0, 0, 0, 0, 0, 0, 0, 0, 0, 0, 0, 0, 0, 0, 0, 0, 0, 0, 0, 0, 0, 0, 0, 0, 0, 0, 0, 0, 0, 0, 0, 0, 0, 0, 0, 0, 0, 0, 0, 0, 0, 0, 0, 0, 0, 0, 0, 0, 0, 0, 0, 0, 0, 0, 0, 0, 0, 0, 0, 0, 0, 0, 0, 0, 0, 0, 0, 0, 0, 0, 0, 0, 0, 0, 0, 0, 0, 0, 0, 0, 0, 0, 0, 0, 0, 0, 0, 0, 0, 0, 0, 0, 0, 0, 0, 0, 0, 0, 0, 0, 0, 0, 0, 0, 0, 0, 0, 0, 0, 0, 0, 0, 0, 0, 0, 1, 0, 0, 0, 0, 0, 0, 0, 0, 1, 0, 0, 0, 0, 0, 0, 0, 0, 0, 0, 0, 0, 0, 0, 0, 0, 0, 0, 0, 0, 0, 0, 0, 0, 0, 0, 0, 0, 0, 0, 0, 0, 0, 0, 0, 0, 0, 0, 0, 0, 0, 0, 0, 0, 0, 0, 0, 0, 0, 0, 0, 0, 0, 0, 0, 0, 0, 0, 0, 0, 0, 0, 0, 0, 0, 0, 0, 0, 0, 0, 0, 0, 0, 0, 0, 0, 0, 0, 0, 0, 0, 0, 0, 0, 0, 0, 0, 0, 0, 0, 0, 0, 0, 0, 0, 0, 0, 0, 0, 0, 0, 0, 0, 0, 0, 0, 0, 0, 0, 0, 0, 0, 0, 0, 0, 0, 0, 0, 0, 0, 0, 0, 0, 0, 0, 0, 0, 0, 0, 0, 0, 0, 0, 0, 0, 0, 0, 0, 0, 0, 0, 0, 0, 0, 0, 0, 0, 0, 0, 0, 0, 0, 0, 0, 0, 0, 0, 0, 0, 0, 0, 0, 0, 0, 0, 0, 0, 0, 0, 0, 0, 1, 0, 0, 0, 0, 0, 0, 0, 0, 0, 0, 0, 0, 0, 0, 0, 0, 0, 0, 0, 0, 0, 0, 0, 0, 0, 0, 0, 0, 0, 0, 0, 0, 0, 0, 0, 0, 0, 0, 0, 0, 0, 0, 0, 0, 0, 0, 0, 0, 0, 0, 0, 0, 0, 0, 0, 0, 0, 0, 0, 0, 0, 0, 0, 0, 0, 0, 0, 0, 0, 0, 0, 0, 0, 0, 0, 0, 0, 0, 0, 0, 0, 0, 0, 0, 0, 0, 0, 0, 0, 0, 0, 0, 0, 0, 0, 0, 0, 0, 0, 0, 0, 0, 0, 0, 0, 0, 0, 0, 0, 0, 1, 0, 0, 0, 0, 0, 0, 0, 0, 0, 0, 0, 0, 0, 0, 0, 0, 0, 0, 0, 0, 0, 0, 0, 0, 0, 0, 0, 0, 0, 0, 0, 0, 0, 0, 0, 0, 0, 0, 0, 0, 0, 0, 0, 0, 0, 0, 0, 0, 0, 0, 0, 0, 0, 0, 0, 0, 0, 0, 0, 0, 0, 0, 0, 0, 0, 0, 0, 0, 0, 0, 0, 0, 0, 0, 0, 0, 0, 0, 0, 0, 0, 0, 0, 0, 0, 0, 0, 0, 0, 0, 0, 0, 0, 0, 0, 0, 0, 0, 0, 0, 0, 0, 0, 0, 0, 0, 0, 1, 0, 0, 0, 0, 0, 0, 0, 0, 0, 0, 0, 0, 0, 0, 0, 0, 0, 0, 0, 0, 0, 1, 0, 0, 0, 0, 0, 0, 0, 0, 0, 0, 0, 0, 0, 0, 0, 0, 0, 0, 0, 0, 0, 0, 0, 0, 0, 0, 0, 0, 0, 0, 0, 0, 0, 0, 0, 0, 0, 0, 0, 0, 0, 0, 0, 0, 0, 1, 0, 0, 0, 0, 0, 0, 0, 0, 0, 0, 0, 0, 0, 0, 0, 0, 0, 0, 0, 1, 0, 0, 0, 0, 0, 0, 0, 0, 0, 0, 0, 0, 0, 0, 0, 0, 0, 0, 0, 0, 0, 0, 0, 0, 0, 0, 0, 0, 0, 0, 0, 0, 0, 0, 0, 0, 0, 0, 0, 0, 0, 0, 0, 0, 0, 0, 0, 0, 0, 0, 0, 0, 0, 0, 0, 0, 0, 0, 0, 0, 0, 0, 0, 0, 0, 0, 0, 1, 0, 0, 0, 0, 0, 0, 0, 0, 0, 0, 0, 0, 0, 0, 0, 0, 0, 0, 0, 0, 0, 0, 0, 0, 0, 0, 0, 0, 0, 0, 0, 0, 0, 0, 0, 0, 0, 0, 0, 0, 0, 0, 0, 0, 0, 0, 0, 0, 0, 0, 0, 0, 0, 0, 0, 0, 0, 0, 0, 0, 0, 0, 0, 0, 0, 0, 0, 0, 0, 0, 0, 0, 0, 0, 0, 0, 0, 0, 0, 0, 0, 0, 0, 0, 0, 0, 0, 0, 1, 0, 0, 0, 0, 0, 0, 0, 0, 0, 0, 0, 0, 0, 0, 0, 0, 0, 0, 0, 0, 0, 0, 0, 0, 0, 1, 0, 0, 0, 0, 0, 0, 0, 0, 0, 0, 0, 0, 0, 0, 0, 0, 0, 0, 0, 0, 0, 0, 0, 0, 0, 0, 0, 0, 0, 0, 0, 0, 0, 0, 0, 0, 0, 0, 0, 0, 0, 0, 0, 0, 0, 0, 0, 0, 0, 0, 0, 0, 0, 0, 0, 0, 0, 0, 0, 0, 0, 0, 0, 0, 0, 0, 0, 0, 0, 0, 0, 0, 0, 0, 0, 0, 0, 0, 0, 0, 0, 0, 0, 0, 0, 0, 0, 0, 0, 0, 0, 0, 0, 0, 0, 0, 0, 0, 0, 0, 0, 0, 0, 0, 0, 0, 0, 0, 0, 0, 0, 0, 0, 0, 0, 0, 0, 0, 0, 0, 0, 0, 0, 0, 0, 0, 1, 0, 0, 0, 0, 0, 0, 0, 0, 0, 0, 0, 0, 0, 0, 0, 0, 0, 0, 0, 0, 0, 0, 0, 0, 0, 0, 0, 1, 0, 0, 0, 0, 0, 0, 0, 0, 0, 0, 0, 0, 0, 0, 0, 0, 0, 0, 0, 0, 0, 0, 0, 0, 0, 0, 0, 0, 0, 0, 0, 0, 0, 0, 0, 0, 0, 0, 0, 0, 0, 0, 0, 0, 0, 0, 0, 0, 0, 0, 0, 0, 0, 0, 0, 0, 0, 0, 0, 0, 0, 0, 0, 0, 0, 0, 0, 0, 0, 0, 0, 0, 0, 0, 0, 0, 0, 0, 0, 0, 0, 0, 0, 0, 0, 0, 0, 0, 0, 0, 0, 0, 0, 0, 0, 0, 0, 0, 0, 0, 0, 0, 0, 0, 0, 0, 0, 0, 0, 0, 0, 0, 0, 0, 0, 0, 0, 0, 0, 0, 0, 0, 0, 0, 0, 0, 0, 0, 0, 0, 0, 0, 0, 0, 0, 0, 0, 0, 0, 0, 0, 0, 0, 0, 0, 0, 0, 0, 0, 0, 0, 0, 0, 0, 0, 0, 0, 0, 0, 0, 0, 0, 0, 0, 0, 0, 0, 1, 0, 0, 0, 0, 0, 0, 0, 0, 0, 0, 0, 0, 0, 0, 0, 0, 0, 0, 0, 0, 0, 0, 0, 0, 0, 0, 0, 0, 0, 0, 0, 0, 0, 0, 0, 0, 0, 0, 0, 0, 0, 0, 0, 0, 0, 0, 0, 0, 0, 0, 0, 0, 0, 0, 0, 0, 0, 0, 0, 1, 0, 0, 0, 0, 0, 0, 0, 0, 0, 0, 0, 0, 0, 0, 0, 0, 0, 0, 0, 0, 0, 0, 0, 0, 0, 0, 0, 0, 0, 0, 0, 0, 0, 0, 0, 0, 0, 0, 0, 0, 0, 0, 0, 0, 0, 0, 0, 0, 0, 0, 0, 0, 0, 0, 0, 0, 0, 0, 0, 0, 0, 0, 0, 0, 0, 0, 0, 0, 0, 0, 0, 0, 0, 0, 0, 0, 0, 0, 0, 0, 1, 0, 1, 0, 0, 0, 0, 0, 0, 0, 0, 0, 0, 0, 0, 0, 0, 0, 0, 0, 0, 0, 0, 0, 0, 0, 0, 0, 0, 0, 0, 0, 0, 0, 0, 0, 0, 0, 0, 0, 0, 0, 0, 0, 0, 0, 0, 0, 0, 0, 0, 0, 0, 0, 0, 0, 0, 0, 0, 0, 0, 0, 0, 0, 0, 0, 0, 0, 0, 0, 0, 0, 0, 0, 0, 0, 0, 0, 0, 0, 0, 0, 0, 0, 0, 0, 0, 0, 0, 1, 0, 0, 0, 0, 0, 0, 0, 0, 0, 0, 0, 0, 0, 0, 0, 0, 0, 0, 0, 0, 0, 0, 1, 0, 0, 0, 0, 0, 0, 0, 0, 0, 0, 0, 0, 0, 0, 0, 0, 0, 0, 0, 0, 0, 0, 0, 0, 0, 0, 0, 0, 0, 0, 0, 0, 0, 0, 0, 0, 0, 0, 0, 0, 0, 0, 0, 0, 0, 0, 0, 0, 0, 0, 0, 0, 0, 0, 0, 0, 0, 0, 0, 0, 0, 0, 0, 0, 0, 0, 0, 0, 0, 0, 0, 0, 0, 0, 0, 0, 0, 0, 0, 0, 0, 0, 0, 0, 0, 0, 0, 0, 0, 0, 0, 0, 0, 0, 0, 0, 0, 0, 0, 0, 0, 0, 0, 0, 0, 0, 1, 0, 0, 0, 0, 0, 0, 0, 0, 0, 0, 0, 0, 0, 0, 0, 0, 0, 0, 0, 0, 0, 0, 0, 0, 0, 0, 0, 0, 0, 0, 0, 0, 1, 0, 0, 0, 0, 0, 0, 0, 0, 0, 0, 0, 1, 0, 0, 0, 0, 0, 0, 0, 1, 0, 0, 0, 0, 0, 0, 0, 0, 0, 0, 0, 0, 0, 0, 0, 0, 0, 0, 0, 0, 0, 0, 0, 0, 0, 0, 0, 0, 0, 0, 0, 0, 0, 0, 0, 0, 0, 0, 0, 0, 0, 0, 0, 0, 0, 0, 0, 0, 0, 0, 0, 0, 0, 0, 0, 0, 0, 0, 0, 0, 0, 0, 0, 0, 0, 0, 0, 0, 0, 0, 0, 0, 0, 0, 0, 0, 0, 0, 0, 0, 0, 0, 0, 0, 0, 0, 0, 0, 0, 0, 0, 0, 0, 0, 0, 0, 0, 0, 0, 0, 0, 0, 0, 0, 0, 0, 0, 0, 0, 0, 0, 0, 0, 0, 0, 0, 0, 0, 0, 0, 0, 0, 0, 0, 1, 0, 0, 0, 0, 0, 0, 0, 0, 0, 0, 0, 0, 0, 0, 0, 0, 0, 0, 0, 0, 0, 0, 0, 0, 0, 0, 0, 0, 0, 0, 0, 0, 0, 0, 0, 0, 0, 0, 0, 0, 0, 0, 0, 0, 0, 0, 0, 0, 1, 0, 0, 0, 0, 0, 0, 0, 0, 0, 0, 0, 0, 0, 0, 0, 0, 0, 1, 0, 0, 0, 0, 0, 0, 0, 0, 0, 0, 0, 0, 0, 0, 0, 0, 0, 0, 0, 0, 0, 0, 0, 0, 0, 0, 0, 0, 0, 1, 0, 0, 0, 0, 0, 0, 0, 0, 0, 0, 0, 0, 0, 0, 0, 0, 0, 0, 0, 0, 0, 0, 0, 0, 0, 0, 0, 0, 0, 0, 0, 0, 0, 0, 0, 0, 0, 0, 0, 0, 0, 1, 0, 0, 0, 0, 0, 0, 0, 0, 0, 0, 0, 1, 0, 0, 0, 0, 0, 0, 0, 0, 0, 0, 0, 0, 0, 0, 0, 0]\n",
      "Accuracy:  0.7588264545002487\n",
      "The average accuracy from k-fold cross-validation is: 0.7539907274379638\n"
     ]
    }
   ],
   "source": [
    "logisticModel = LogisticRegression()\n",
    "logisticModel.fit(x_train, y_train)\n",
    "\n",
    "predictions = logisticModel.predict(x_test)\n",
    "print(\"predictions: \",predictions)\n",
    "\n",
    "# checking the accuracy of the model\n",
    "accuracy = LogisticRegression.evaluate_acc(y_test, predictions)\n",
    "print(\"Accuracy: \", accuracy)\n",
    "\n",
    "# running the cross-validation function\n",
    "avg_accuracy = LogisticRegression.cross_validate_logistic(x_train, y_train, n_splits=5)\n",
    "print(f\"The average accuracy from k-fold cross-validation is: {avg_accuracy}\")"
   ]
  },
  {
   "cell_type": "markdown",
   "id": "f4c90b40",
   "metadata": {
    "papermill": {
     "duration": 0.016527,
     "end_time": "2023-10-23T01:05:50.119511",
     "exception": false,
     "start_time": "2023-10-23T01:05:50.102984",
     "status": "completed"
    },
    "tags": []
   },
   "source": [
    "The models performance on the validation sets during k-fold cross-validation is quite close to its performance on the test set. This is a good sign as it indicates consistency in the model's performance across different data splits."
   ]
  },
  {
   "cell_type": "code",
   "execution_count": 17,
   "id": "5a4e5577",
   "metadata": {
    "execution": {
     "iopub.execute_input": "2023-10-23T01:05:50.154262Z",
     "iopub.status.busy": "2023-10-23T01:05:50.153741Z",
     "iopub.status.idle": "2023-10-23T01:05:52.068949Z",
     "shell.execute_reply": "2023-10-23T01:05:52.068088Z"
    },
    "papermill": {
     "duration": 1.934749,
     "end_time": "2023-10-23T01:05:52.070768",
     "exception": false,
     "start_time": "2023-10-23T01:05:50.136019",
     "status": "completed"
    },
    "tags": []
   },
   "outputs": [
    {
     "data": {
      "image/png": "[encoded data removed]",
      "text/plain": [
       "<Figure size 1000x600 with 1 Axes>"
      ]
     },
     "metadata": {},
     "output_type": "display_data"
    }
   ],
   "source": [
    "# Testing different learning rates and plotting the cost history\n",
    "learning_rates = [0.00001, 0.0001, 0.001, 0.01]\n",
    "cost_histories = {}\n",
    "\n",
    "for lr in learning_rates:\n",
    "    model = LogisticRegression(learning_rate=lr)\n",
    "    cost_histories[lr] = model.fit(x_train, y_train)\n",
    "\n",
    "# Plotting the cost histories for different learning rates\n",
    "plt.figure(figsize=(10, 6))\n",
    "for lr, history in cost_histories.items():\n",
    "    plt.plot(history, label=f\"Learning Rate: {lr}\")\n",
    "plt.xlabel(\"Iterations\")\n",
    "plt.ylabel(\"Cost\")\n",
    "plt.title(\"Cost History for Different Learning Rates\")\n",
    "plt.legend()\n",
    "plt.grid(True)\n",
    "plt.show()"
   ]
  },
  {
   "cell_type": "markdown",
   "id": "73e7d5ce",
   "metadata": {
    "papermill": {
     "duration": 0.01359,
     "end_time": "2023-10-23T01:05:52.098869",
     "exception": false,
     "start_time": "2023-10-23T01:05:52.085279",
     "status": "completed"
    },
    "tags": []
   },
   "source": [
    "**KNN**"
   ]
  },
  {
   "cell_type": "code",
   "execution_count": 18,
   "id": "fea63315",
   "metadata": {
    "execution": {
     "iopub.execute_input": "2023-10-23T01:05:52.128802Z",
     "iopub.status.busy": "2023-10-23T01:05:52.127834Z",
     "iopub.status.idle": "2023-10-23T01:10:13.792902Z",
     "shell.execute_reply": "2023-10-23T01:10:13.792087Z"
    },
    "papermill": {
     "duration": 261.69593,
     "end_time": "2023-10-23T01:10:13.808439",
     "exception": false,
     "start_time": "2023-10-23T01:05:52.112509",
     "status": "completed"
    },
    "tags": []
   },
   "outputs": [
    {
     "name": "stdout",
     "output_type": "stream",
     "text": [
      "KNN Predictions:  [0, 0, 0, 0, 1, 0, 0, 0, 1, 0, 0, 1, 1, 0, 0, 0, 0, 1, 0, 0, 0, 1, 0, 0, 0, 0, 0, 0, 0, 0, 0, 0, 0, 0, 0, 0, 0, 1, 1, 0, 0, 0, 1, 1, 0, 1, 0, 0, 0, 0, 0, 0, 0, 0, 1, 0, 1, 0, 0, 0, 0, 0, 0, 1, 0, 0, 1, 0, 0, 0, 0, 1, 0, 1, 0, 1, 0, 1, 0, 0, 0, 0, 0, 0, 1, 0, 0, 0, 1, 0, 0, 0, 0, 0, 1, 0, 0, 0, 0, 0, 1, 0, 0, 0, 0, 0, 1, 0, 0, 0, 0, 1, 0, 1, 0, 0, 0, 1, 0, 0, 0, 0, 0, 0, 0, 0, 0, 0, 0, 0, 0, 0, 0, 0, 0, 0, 1, 0, 1, 0, 0, 0, 0, 0, 1, 0, 0, 0, 0, 0, 1, 1, 0, 0, 0, 0, 0, 0, 0, 0, 0, 0, 0, 0, 0, 0, 0, 0, 1, 1, 0, 0, 0, 1, 0, 0, 0, 0, 0, 1, 1, 0, 0, 0, 0, 0, 0, 1, 0, 0, 1, 0, 0, 1, 0, 1, 0, 1, 0, 1, 0, 0, 0, 0, 1, 0, 0, 0, 0, 0, 0, 0, 1, 0, 0, 0, 0, 0, 0, 0, 0, 0, 1, 1, 0, 1, 0, 0, 0, 1, 0, 0, 0, 1, 0, 0, 0, 1, 0, 0, 0, 0, 0, 0, 0, 0, 0, 0, 0, 0, 0, 0, 0, 0, 0, 1, 1, 0, 0, 0, 0, 0, 1, 1, 0, 0, 0, 0, 0, 0, 1, 0, 1, 0, 0, 0, 0, 0, 0, 1, 0, 1, 0, 0, 0, 1, 0, 0, 0, 0, 0, 1, 1, 0, 0, 0, 0, 0, 1, 1, 0, 0, 0, 0, 1, 0, 0, 0, 0, 0, 0, 0, 0, 0, 1, 1, 1, 0, 0, 0, 0, 0, 0, 0, 0, 1, 1, 0, 0, 1, 1, 0, 0, 1, 0, 1, 0, 0, 0, 1, 0, 0, 1, 0, 0, 0, 0, 0, 0, 1, 0, 1, 0, 0, 0, 0, 0, 0, 0, 0, 0, 1, 0, 1, 0, 0, 0, 0, 0, 1, 1, 0, 0, 0, 1, 0, 0, 0, 0, 0, 1, 0, 0, 0, 1, 1, 1, 0, 0, 0, 0, 0, 0, 1, 0, 1, 0, 0, 0, 0, 1, 0, 0, 1, 0, 1, 0, 0, 0, 0, 0, 0, 0, 0, 0, 1, 0, 0, 1, 1, 0, 1, 0, 0, 1, 0, 0, 0, 0, 1, 0, 0, 1, 1, 0, 0, 1, 0, 1, 0, 0, 0, 0, 0, 0, 0, 1, 0, 0, 0, 0, 0, 0, 0, 1, 1, 1, 0, 0, 0, 0, 0, 0, 0, 0, 0, 0, 0, 1, 0, 0, 1, 1, 0, 1, 0, 0, 0, 0, 0, 0, 0, 0, 0, 1, 0, 0, 0, 1, 0, 0, 0, 0, 0, 0, 1, 0, 1, 1, 1, 1, 0, 0, 1, 0, 1, 0, 0, 0, 0, 1, 1, 1, 0, 0, 0, 0, 0, 0, 0, 0, 0, 0, 1, 0, 0, 1, 0, 0, 0, 0, 0, 0, 0, 0, 0, 1, 0, 0, 0, 0, 0, 0, 0, 0, 0, 0, 0, 0, 1, 0, 1, 1, 1, 0, 0, 0, 0, 1, 1, 1, 0, 0, 0, 0, 0, 0, 1, 0, 0, 0, 0, 0, 0, 0, 0, 0, 0, 0, 0, 0, 0, 0, 0, 0, 0, 1, 0, 0, 0, 0, 0, 1, 0, 1, 1, 0, 1, 1, 0, 1, 0, 0, 0, 1, 0, 0, 1, 0, 0, 0, 0, 0, 1, 1, 0, 0, 0, 0, 0, 1, 0, 0, 0, 0, 1, 0, 0, 0, 0, 0, 1, 0, 0, 0, 0, 0, 0, 0, 1, 0, 0, 0, 1, 1, 0, 0, 0, 0, 0, 1, 0, 0, 1, 0, 0, 0, 0, 0, 0, 1, 0, 0, 1, 0, 0, 0, 0, 0, 0, 1, 0, 1, 1, 0, 0, 0, 1, 1, 0, 0, 0, 0, 0, 0, 0, 0, 1, 0, 1, 0, 0, 0, 0, 0, 0, 0, 0, 0, 1, 0, 1, 0, 0, 1, 0, 0, 0, 0, 0, 0, 0, 0, 0, 0, 1, 0, 0, 1, 0, 0, 1, 0, 0, 0, 1, 0, 0, 0, 0, 0, 1, 0, 0, 0, 0, 0, 0, 0, 0, 0, 0, 0, 0, 1, 0, 1, 0, 0, 0, 0, 0, 0, 0, 1, 0, 0, 0, 0, 1, 0, 0, 0, 0, 0, 0, 0, 1, 0, 1, 0, 0, 1, 0, 1, 0, 0, 0, 0, 0, 1, 0, 0, 0, 0, 1, 0, 0, 0, 0, 0, 0, 1, 0, 1, 0, 0, 1, 0, 1, 0, 0, 1, 1, 0, 0, 0, 1, 0, 0, 0, 0, 0, 0, 1, 0, 0, 1, 0, 1, 0, 0, 1, 1, 0, 0, 1, 0, 0, 1, 0, 0, 0, 0, 1, 0, 1, 1, 1, 1, 1, 0, 0, 0, 1, 0, 0, 0, 0, 1, 0, 0, 0, 0, 0, 0, 0, 0, 0, 1, 0, 0, 0, 1, 0, 0, 0, 0, 0, 1, 0, 0, 0, 0, 0, 1, 0, 0, 0, 0, 1, 0, 0, 1, 1, 1, 1, 0, 0, 1, 0, 0, 0, 0, 0, 0, 0, 1, 0, 1, 1, 0, 0, 0, 0, 0, 0, 0, 0, 0, 0, 1, 1, 0, 0, 0, 0, 0, 0, 0, 0, 0, 0, 0, 0, 0, 0, 0, 0, 0, 0, 1, 0, 0, 0, 1, 0, 0, 0, 1, 0, 0, 0, 0, 1, 0, 0, 1, 0, 0, 0, 1, 0, 1, 0, 0, 0, 1, 0, 0, 0, 0, 0, 1, 0, 0, 0, 0, 0, 0, 0, 0, 1, 1, 0, 0, 0, 0, 0, 1, 0, 0, 0, 0, 1, 0, 0, 0, 1, 0, 0, 0, 0, 0, 0, 0, 0, 1, 0, 1, 0, 1, 0, 0, 0, 0, 0, 1, 1, 0, 1, 1, 0, 0, 0, 0, 1, 0, 0, 0, 0, 0, 0, 0, 0, 1, 0, 0, 0, 0, 0, 0, 0, 1, 0, 0, 0, 1, 1, 0, 1, 0, 1, 0, 0, 1, 0, 1, 0, 0, 0, 1, 0, 0, 0, 0, 0, 0, 0, 0, 0, 1, 1, 0, 0, 1, 0, 1, 0, 0, 1, 0, 0, 0, 0, 0, 1, 1, 1, 0, 0, 1, 0, 0, 0, 1, 0, 1, 0, 0, 0, 0, 0, 1, 0, 0, 0, 0, 0, 1, 0, 0, 0, 0, 0, 0, 1, 0, 0, 0, 0, 0, 1, 0, 0, 0, 1, 1, 0, 0, 0, 0, 1, 0, 0, 0, 1, 0, 0, 0, 0, 1, 0, 0, 0, 0, 0, 0, 0, 1, 1, 0, 0, 1, 0, 0, 0, 0, 1, 0, 0, 0, 1, 0, 0, 0, 0, 1, 1, 0, 0, 0, 0, 0, 0, 0, 0, 0, 0, 1, 0, 0, 0, 0, 0, 0, 1, 0, 0, 0, 1, 0, 0, 0, 1, 0, 0, 1, 0, 0, 1, 0, 0, 0, 0, 1, 0, 0, 0, 0, 1, 0, 0, 0, 0, 0, 0, 0, 1, 0, 0, 0, 1, 0, 0, 0, 0, 1, 0, 0, 1, 1, 0, 0, 0, 0, 0, 1, 0, 0, 0, 0, 0, 0, 0, 0, 0, 0, 0, 1, 0, 0, 0, 0, 1, 0, 0, 0, 0, 0, 0, 1, 0, 0, 0, 0, 0, 1, 0, 1, 0, 0, 0, 0, 0, 0, 0, 1, 0, 0, 1, 0, 0, 0, 0, 0, 1, 0, 0, 0, 1, 0, 0, 0, 0, 0, 0, 1, 0, 0, 0, 0, 0, 0, 0, 0, 1, 0, 0, 1, 0, 0, 0, 1, 0, 0, 0, 0, 0, 0, 0, 1, 0, 0, 0, 1, 0, 1, 0, 0, 0, 0, 0, 1, 0, 0, 1, 0, 1, 0, 1, 1, 0, 0, 1, 0, 0, 0, 1, 0, 0, 0, 1, 0, 0, 0, 0, 1, 0, 0, 0, 0, 0, 0, 0, 0, 0, 0, 0, 1, 0, 0, 1, 0, 0, 0, 0, 1, 0, 0, 0, 0, 0, 0, 0, 1, 1, 1, 0, 0, 0, 0, 0, 0, 0, 0, 1, 0, 1, 0, 0, 0, 1, 0, 1, 0, 1, 0, 0, 0, 1, 0, 1, 0, 0, 0, 0, 0, 1, 1, 0, 0, 0, 0, 0, 0, 1, 0, 0, 1, 0, 0, 0, 1, 0, 0, 0, 0, 1, 1, 0, 0, 0, 1, 0, 0, 0, 0, 1, 0, 0, 0, 0, 0, 0, 0, 0, 0, 0, 0, 1, 0, 0, 0, 1, 1, 0, 0, 0, 0, 0, 0, 0, 1, 0, 0, 1, 0, 0, 0, 0, 1, 0, 0, 0, 0, 0, 0, 0, 0, 0, 0, 0, 0, 1, 0, 1, 0, 0, 0, 0, 0, 0, 0, 1, 0, 0, 0, 1, 0, 1, 0, 0, 1, 0, 1, 0, 0, 1, 0, 0, 0, 0, 0, 1, 0, 0, 0, 0, 0, 0, 0, 0, 1, 0, 0, 0, 0, 0, 0, 0, 0, 0, 0, 1, 1, 0, 0, 0, 0, 0, 0, 0, 0, 0, 1, 0, 0, 0, 0, 0, 0, 0, 0, 0, 0, 0, 1, 0, 0, 1, 0, 1, 0, 0, 1, 0, 0, 0, 0, 0, 1, 1, 0, 0, 0, 0, 0, 0, 0, 0, 0, 0, 0, 0, 0, 0, 0, 1, 1, 0, 1, 0, 0, 1, 1, 1, 0, 0, 0, 0, 1, 0, 1, 0, 0, 1, 0, 0, 0, 0, 0, 0, 0, 0, 0, 1, 0, 1, 1, 1, 0, 0, 1, 1, 0, 1, 0, 1, 0, 1, 0, 0, 1, 0, 0, 1, 0, 0, 0, 0, 1, 0, 1, 0, 0, 1, 1, 0, 0, 0, 0, 0, 1, 0, 0, 0, 1, 0, 0, 0, 0, 0, 0, 1, 1, 0, 0, 0, 0, 0, 0, 0, 0, 0, 1, 0, 0, 0, 0, 0, 0, 0, 0, 0, 0, 1, 0, 0, 0, 0, 0, 0, 0, 0, 1, 1, 0, 1, 0, 0, 1, 0, 0, 1, 0, 0, 0, 0, 0, 0, 0, 0, 0, 0, 0, 0, 1, 0, 0, 1, 0, 1, 0, 0, 0, 0, 0, 0, 0, 0, 0, 1, 0, 0, 0, 0, 0, 0, 1, 0, 0, 0, 1, 0, 0, 0, 1, 0, 0, 1, 1, 0, 0, 0, 1, 0, 0, 0, 0, 0, 0, 0, 0, 1, 1, 0, 0, 1, 0, 0, 0, 0, 0, 0, 0, 1, 0, 0, 1, 0, 0, 0, 1, 0, 0, 0, 1, 0, 0, 0, 0, 0, 0, 0, 1, 0, 0, 0, 0, 1, 1, 0, 1, 0, 0, 0, 1, 0, 0, 1, 1, 0, 0, 0, 0, 0, 0, 0, 0, 0, 0, 0, 0, 1, 0, 0, 1, 1, 1, 0, 0, 1, 0, 0, 1, 1, 0, 0, 0, 0, 1, 1, 0, 0, 1, 0, 0, 0, 1, 1, 0, 0, 1, 1, 0, 1, 1, 0, 1, 1, 1, 0, 0, 1, 0, 0, 0, 0, 0, 0, 0, 0, 0, 1, 0, 0, 0, 1, 0, 0, 0, 0, 0, 0, 1, 0, 0, 0, 1, 0, 0, 0, 0, 0, 0, 1, 1, 0, 0, 0, 0, 1, 1, 0, 1, 0, 0, 0, 1, 1, 0, 0, 0, 0, 0, 0, 0, 1, 1, 0, 0, 0, 0, 0, 1, 1, 0, 0, 1, 0, 0, 0, 0, 0, 1, 0, 0, 0, 0, 0, 0, 0, 1, 1, 0, 0, 0, 0, 0, 1, 1, 0, 1, 0, 1, 0, 0, 1, 1, 0, 1, 1, 0, 0, 1, 1, 0, 1, 0, 1, 0, 0, 0, 0, 0, 1, 0, 0, 0, 1, 0, 1, 1, 1, 0, 1, 0, 0, 0, 1, 1, 1, 0, 0, 0, 0, 1, 0, 0, 1, 0, 0, 0, 1, 0, 1, 0, 0, 0, 0, 0, 0, 0, 1, 0, 0, 0, 1, 0, 1, 0, 0, 0, 1, 0, 0, 0, 0, 0, 0, 0, 1, 0, 0, 0, 0, 0, 0, 1, 0, 0, 0, 1, 0, 1, 0, 0, 0, 0, 0, 0, 0, 0, 0, 0, 1, 0, 0, 0, 0, 1, 0, 0, 0, 0, 0, 0, 0, 1, 1, 0, 0, 0, 0, 0, 1, 0, 0, 0, 1, 1, 1, 0, 1, 0, 0, 0, 0, 0, 0, 0, 1, 0, 0, 0, 0, 0, 0, 0, 0, 0, 1, 0, 0, 0, 0, 1, 1, 0, 1, 0, 0, 0, 0, 1, 1, 0, 0, 0, 1, 0, 0, 0, 0, 0, 1, 0, 0, 0, 0, 0, 0, 0, 0, 0, 0, 0, 0, 0, 0, 0, 0, 0, 0, 0, 0, 1, 1, 1, 0, 1, 0, 0, 0, 1, 0, 0, 0, 0, 1, 0, 0, 0, 1, 1, 0, 0, 0, 1, 1, 1, 0, 0, 1, 0, 1, 0, 1, 1, 0, 1, 0, 0, 0, 0, 0, 0, 0, 0, 0, 0, 0, 0, 0, 0, 1, 0, 0, 0, 0, 1, 0, 0, 0, 0, 1, 0, 0, 0, 1, 0, 0, 1, 0, 0, 0, 0, 0, 1, 1, 0, 1, 1, 0, 0, 0, 0, 0, 0, 0, 1, 0, 0, 0, 0, 0, 0, 1, 0, 0, 0, 0, 1, 0, 0, 0, 0, 0, 0, 0, 0, 1, 0, 1, 0, 0, 0, 0, 0, 1, 0, 0, 0, 0, 0, 0, 0, 0, 0, 1, 0, 0, 0, 0, 0, 1, 0, 1, 0, 0, 0, 0, 1, 0, 0, 0, 0, 0, 0, 0, 0, 0, 0, 1, 1, 0, 0, 0, 0, 0, 0, 0, 1, 0, 1, 0, 0, 1, 0, 0, 0, 0, 0, 0, 0, 0, 0, 0, 0, 1, 0, 1, 0, 0, 0, 0, 1, 0, 0, 0, 0, 1, 0, 0, 0, 0, 0, 0, 1, 0, 0, 0, 0, 1, 1, 0, 0, 0, 0, 1, 0, 0, 1, 0, 0, 1, 0, 0, 1, 0, 0, 0, 1, 0, 0, 0, 0, 0, 1, 0, 0, 0, 0, 0, 0, 1, 0, 1, 1, 0, 0, 0, 1, 0, 0, 1, 0, 0, 0, 1, 0, 0, 1, 0, 1, 0, 0, 1, 1, 0, 0, 0, 0, 0, 1, 0, 0, 1, 0, 0, 0, 0, 0, 0, 1, 0, 0, 0, 0, 0, 1, 0, 0, 0, 0, 0, 0, 0, 0, 0, 0, 0, 0, 0, 0, 0, 0, 0, 0, 0, 0, 0, 0, 1, 0, 1, 1, 0, 0, 0, 0, 1, 1, 1, 0, 1, 0, 0, 0, 0, 1, 1, 0, 1, 0, 0, 0, 0, 0, 0, 0, 0, 0, 1, 0, 1, 0, 0, 0, 0, 0, 0, 0, 0, 0, 1, 0, 1, 0, 0, 1, 1, 0, 0, 0, 1, 0, 0, 0, 1, 0, 0, 0, 0, 1, 1, 0, 1, 0, 0, 1, 0, 1, 0, 0, 1, 1, 0, 0, 0, 0, 0, 0, 0, 0, 0, 0, 0, 1, 0, 0, 1, 1, 0, 0, 0, 1, 0, 0, 0, 1, 0, 0, 0, 0, 1, 1, 0, 0, 0, 1, 1, 0, 1, 0, 1, 0, 1, 1, 0, 1, 0, 0, 0, 0, 1, 0, 0, 0, 0, 0, 0, 0, 1, 0, 0, 1, 0, 1, 0, 0, 1, 0, 0, 0, 0, 0, 0, 1, 1, 0, 1, 0, 0, 0, 1, 0, 1, 0, 0, 0, 0, 0, 0, 0, 1, 0, 0, 0, 0, 0, 0, 0, 0, 0, 0, 1, 0, 0, 0, 1, 0, 0, 0, 1, 1, 1, 0, 0, 0, 0, 0, 0, 0, 0, 0, 0, 0, 0, 0, 1, 0, 0, 0, 0, 1, 1, 1, 0, 1, 0, 0, 1, 0, 0, 1, 1, 0, 1, 0, 0, 0, 0, 0, 1, 0, 0, 0, 0, 0, 0, 0, 0, 0, 0, 1, 0, 1, 1, 0, 0, 0, 0, 1, 0, 0, 1, 0, 0, 0, 0, 0, 0, 0, 1, 1, 0, 0, 1, 0, 0, 0, 0, 0, 1, 0, 0, 0, 0, 1, 0, 1, 0, 1, 0, 1, 0, 1, 0, 1, 0, 0, 0, 0, 0, 0, 0, 0, 0, 0, 1, 0, 1, 0, 0, 1, 0, 0, 0, 0, 0, 0, 0, 0, 0, 0, 0, 0, 0, 0, 0, 0, 0, 0, 0, 0, 1, 0, 0, 0, 0, 0, 0, 0, 0, 1, 0, 0, 0, 0, 0, 0, 1, 0, 0, 0, 1, 1, 0, 1, 0, 1, 0, 0, 0, 1, 0, 0, 1, 1, 0, 0, 0, 0, 1, 0, 0, 1, 0, 0, 0, 0, 0, 0, 1, 0, 0, 0, 0, 0, 0, 1, 1, 0, 1, 0, 0, 0, 0, 0, 0, 0, 1, 0, 1, 0, 0, 1, 0, 0, 0, 0, 1, 0, 1, 0, 0, 0, 0, 1, 0, 0, 0, 0, 0, 0, 0, 0, 1, 0, 1, 0, 0, 0, 0, 0, 0, 0, 1, 0, 0, 1, 0, 0, 0, 1, 0, 0, 0, 0, 0, 0, 0, 0, 1, 0, 1, 0, 0, 0, 1, 1, 0, 0, 1, 0, 0, 1, 0, 0, 0, 0, 1, 0, 0, 0, 0, 0, 0, 0, 0, 0, 1, 0, 0, 0, 0, 0, 0, 0, 0, 0, 0, 1, 0, 1, 0, 0, 0, 1, 0, 0, 0, 1, 0, 0, 1, 0, 1, 0, 0, 0, 0, 0, 0, 1, 1, 1, 1, 0, 0, 0, 1, 0, 0, 0, 0, 0, 0, 1, 1, 1, 0, 0, 0, 0, 0, 0, 0, 1, 0, 0, 1, 0, 0, 0, 0, 0, 0, 1, 1, 0, 0, 0, 0, 0, 0, 1, 0, 1, 0, 0, 0, 0, 0, 0, 0, 0, 0, 0, 0, 0, 1, 0, 1, 0, 1, 0, 1, 0, 1, 0, 0, 1, 0, 0, 0, 0, 0, 0, 0, 0, 0, 0, 0, 0, 0, 0, 0, 0, 1, 0, 0, 0, 0, 0, 0, 1, 0, 1, 0, 0, 0, 0, 0, 1, 1, 1, 0, 0, 0, 1, 1, 0, 1, 0, 1, 0, 0, 0, 0, 0, 0, 0, 0, 0, 1, 0, 0, 0, 0, 0, 0, 0, 0, 0, 0, 0, 0, 0, 0, 0, 0, 0, 0, 1, 0, 0, 0, 0, 1, 0, 0, 0, 0, 0, 0, 0, 0, 0, 1, 1, 0, 0, 0, 0, 0, 0, 0, 0, 0, 0, 1, 1, 0, 0, 0, 0, 0, 0, 0, 1, 0, 0, 0, 0, 0, 0, 0, 1, 0, 0, 0, 0, 0, 0, 0, 0, 0, 0, 0, 0, 0, 0, 0, 0, 0, 0, 0, 0, 0, 0, 0, 0, 0, 0, 1, 0, 1, 1, 0, 1, 0, 0, 1, 1, 0, 1, 0, 1, 0, 0, 0, 0, 0, 0, 0, 0, 1, 1, 0, 1, 1, 1, 0, 1, 1, 0, 1, 0, 0, 1, 0, 1, 1, 0, 1, 0, 0, 0, 0, 1, 0, 0, 0, 0, 0, 0, 0, 0, 0, 1, 0, 0, 0, 0, 0, 0, 0, 0, 1, 1, 0, 0, 0, 0, 0, 0, 0, 1, 0, 0, 0, 0, 1, 0, 0, 0, 0, 0, 0, 1, 0, 0, 1, 0, 1, 0, 1, 0, 0, 0, 0, 0, 0, 0, 0, 0, 0, 0, 0, 0, 0, 0, 0, 0, 0, 1, 0, 0, 0, 0, 0, 0, 0, 0, 0, 0, 1, 0, 1, 0, 1, 0, 0, 0, 0, 0, 0, 0, 0, 0, 1, 0, 0, 0, 1, 0, 1, 0, 0, 0, 0, 0, 0, 0, 0, 0, 1, 0, 0, 0, 0, 1, 0, 0, 1, 0, 0, 0, 0, 1, 0, 0, 1, 0, 0, 0, 0, 0, 0, 1, 1, 1, 0, 1, 0, 0, 1, 1, 0, 0, 0, 1, 0, 1, 0, 0, 1, 0, 0, 0, 0, 0, 0, 0, 0, 1, 0, 0, 1, 0, 0, 0, 1, 0, 0, 0, 0, 0, 1, 0, 0, 0, 1, 0, 0, 0, 0, 0, 0, 0, 1, 0, 0, 0, 0, 1, 0, 0, 0, 0, 0, 0, 1, 0, 0, 0, 0, 0, 1, 0, 0, 0, 0, 0, 1, 0, 1, 0, 1, 0, 0, 0, 0, 0, 0, 0, 0, 1, 1, 0, 0, 0, 0, 0, 1, 0, 0, 1, 0, 0, 0, 0, 0, 1, 1, 0, 0, 0, 0, 0, 0, 0, 0, 0, 0, 1, 0, 0, 0, 0, 0, 0, 0, 0, 0, 0, 0, 0, 0, 0, 0, 1, 0, 0, 0, 0, 1, 1, 0, 1, 1, 1, 0, 0, 0, 0, 0, 0, 0, 0, 0, 0, 1, 0, 1, 0, 0, 0, 0, 0, 0, 0, 1, 0, 0, 0, 1, 0, 0, 1, 1, 0, 0, 0, 0, 0, 0, 0, 0, 0, 0, 0, 0, 0, 0, 1, 1, 0, 1, 0, 1, 1, 0, 0, 0, 0, 1, 1, 0, 0, 0, 0, 0, 0, 0, 0, 0, 0, 1, 0, 1, 0, 1, 0, 0, 1, 0, 0, 0, 0, 1, 0, 1, 0, 1, 0, 0, 1, 0, 0, 0, 0, 0, 0, 1, 0, 1, 0, 0, 1, 0, 0, 0, 1, 0, 0, 0, 0, 0, 0, 0, 1, 1, 1, 1, 0, 0, 0, 0, 0, 0, 0, 1, 0, 0, 0, 0, 0, 0, 0, 0, 0, 1, 0, 0, 0, 0, 1, 1, 0, 0, 0, 0, 1, 1, 0, 0, 0, 0, 0, 0, 0, 1, 0, 1, 1, 0, 0, 0, 1, 0, 1, 0, 0, 0, 0, 0, 1, 0, 0, 0, 1, 0, 1, 0, 0, 0, 0, 1, 1, 0, 1, 1, 0, 0, 1, 1, 0, 0, 1, 0, 0, 0, 0, 0, 1, 0, 0, 0, 0, 0, 0, 0, 0, 0, 0, 1, 0, 0, 0, 0, 1, 0, 1, 0, 1, 0, 0, 0, 0, 0, 0, 1, 0, 1, 1, 0, 1, 1, 0, 0, 0, 0, 0, 1, 0, 1, 0, 0, 0, 0, 1, 1, 0, 0, 0, 0, 1, 0, 0, 1, 0, 0, 1, 0, 1, 1, 0, 0, 1, 0, 0, 0, 0, 1, 0, 1, 1, 0, 1, 0, 1, 0, 1, 1, 0, 0, 0, 0, 0, 0, 0, 1, 0, 1, 0, 0, 0, 0, 1, 0, 0, 0, 1, 0, 0, 0, 0, 0, 0, 0, 0, 0, 0, 0, 0, 1, 1, 0, 0, 0, 0, 0, 0, 1, 0, 0, 0, 0, 0, 0, 1, 0, 0, 0, 1, 0, 0, 0, 0, 0, 0, 0, 0, 0, 0, 0, 0, 0, 0, 0, 0, 0, 0, 0, 0, 0, 0, 0, 1, 0, 0, 1, 0, 1, 1, 0, 0, 0, 1, 1, 1, 1, 1, 0, 0, 0, 0, 0, 0, 0, 0, 0, 0, 1, 0, 0, 0, 1, 0, 1, 0, 0, 0, 1, 1, 0, 1, 1, 0, 0, 0, 0, 1, 0, 0, 1, 0, 0, 1, 1, 1, 0, 1, 0, 0, 0, 1, 0, 0, 1, 0, 1, 0, 0, 0, 1, 1, 0, 0, 0, 0, 1, 0, 1, 0, 0, 1, 0, 0, 0, 0, 1, 0, 0, 0, 0, 0, 0, 0, 1, 1, 0, 0, 0, 0, 1, 1, 0, 0, 1, 0, 1, 0, 0, 1, 0, 0, 0, 0, 0, 0, 0, 0, 0, 0, 0, 1, 1, 0, 1, 0, 0, 1, 1, 0, 1, 1, 0, 1, 1, 0, 0, 0, 0, 1, 0, 0, 0, 0, 0, 1, 0, 0, 1, 0, 0, 0, 0, 0, 1, 1, 0, 0, 0, 1, 0, 1, 0, 0, 0, 1, 0, 1, 0, 0, 0, 0, 0, 0, 0, 1, 1, 0, 0, 0, 0, 0, 0, 0, 0, 1, 0, 0, 0, 1, 0, 0, 1, 0, 1, 0, 0, 0, 0, 0, 0, 1, 0, 0, 1, 1, 1, 0, 0, 1, 0, 0, 1, 0, 0, 0, 1, 1, 0, 0, 0, 0, 0, 0, 0, 0, 0, 0, 0, 1, 0, 0, 1, 0, 0, 0, 0, 0, 1, 0, 0, 0, 0, 0, 0, 0, 0, 0, 0, 0, 0, 0, 0, 0, 1, 0, 0, 1, 0, 1, 1, 0, 0, 0, 0, 0, 0, 0, 0, 0, 1, 1, 1, 1, 1, 0, 1, 0, 1, 0, 0, 1, 0, 0, 0, 0, 0, 1, 0, 0, 1, 1, 0, 0, 0, 0, 0, 0, 0, 0, 0, 0, 1, 0, 0, 1, 0, 0, 0, 0, 0, 1, 0, 0, 0, 0, 0, 0, 1, 0, 0, 0, 0, 0, 0, 0, 0, 0, 0, 0, 0, 1, 0, 0, 1, 0, 1, 0, 0, 1, 1, 0, 0, 0, 0, 0, 0, 1, 0, 1, 0, 1, 0, 0, 0, 0, 0, 1, 1, 0, 0, 0, 0, 0, 0, 0, 0, 0, 1, 0, 1, 1, 0, 0, 0, 0, 0, 0, 0, 0, 1, 1, 1, 0, 0, 0, 0, 0, 0, 0, 1, 0, 1, 0, 0, 1, 1, 0, 0, 0, 0, 1, 0, 0, 0, 0, 0, 0, 0, 0, 0, 0, 0, 1, 0, 0, 0, 0, 1, 0, 0, 0, 1, 0, 0, 0, 0, 1, 1, 1, 0, 0, 1, 0, 1, 0, 0, 0, 0, 1, 0, 0, 1, 1, 0, 0, 0, 0, 1, 0, 0, 0, 0, 0, 1, 0, 0, 0, 0, 0, 0, 0, 0, 1, 0, 0, 1, 0, 0, 0, 1, 0, 0, 1, 0, 0, 0, 0, 0, 0, 0, 0, 1, 0, 0, 0, 1, 0, 0, 1, 0, 0, 1, 0, 0, 0, 0, 0, 0, 0, 0, 0, 0, 0, 0, 0, 1, 0, 0, 1, 1, 0, 0, 0, 0, 0, 0, 1, 0, 0, 0, 0, 0, 0, 0, 0, 1, 0, 0, 1, 1, 1, 0, 1, 1, 0, 0, 0, 1, 0, 0, 0, 0, 1, 0, 1, 0, 0, 0, 0, 0, 0, 0, 0, 1, 1, 0, 0, 0, 0, 0, 0, 0, 0, 0, 0, 0, 1, 0, 1, 1, 1, 0, 0, 0, 0, 1, 0, 0, 0, 1, 0, 1, 1, 1, 1, 1, 0, 0, 0, 0, 0, 0, 0, 0, 0, 0, 0, 1, 1, 0, 0, 0, 0, 0, 0, 0, 0, 1, 0, 0, 0, 0, 1, 1, 0, 0, 0, 0, 0, 0, 0, 0, 0, 0, 1, 1, 0, 0, 0, 0, 0, 0, 0, 0, 1, 0, 0, 0, 0, 0, 1, 0, 0, 1, 0, 1, 0, 0, 0, 0, 0, 0, 0, 0, 0, 0, 1, 0, 0, 0, 1, 0, 0, 0, 1, 0, 0, 1, 0, 0, 0, 0, 1, 0, 1, 1, 0, 0, 1, 0, 1, 0, 0, 0, 0, 1, 1, 0, 0, 0, 1, 1, 0, 0, 1, 0, 0, 1, 1, 0, 0, 0, 0, 0, 1, 1, 0, 0, 1, 0, 1, 0, 0, 0, 0, 1, 0, 1, 0, 0, 1, 0, 1, 1, 0, 0, 1, 0, 0, 0, 0, 0, 1, 0, 1, 0, 0, 0, 0, 1, 0, 0, 0, 0, 0, 0, 0, 1, 0, 0, 0, 0, 0, 0, 0, 0, 0, 0, 0, 0, 0, 0, 1, 0, 0, 0, 0, 0, 1, 0, 0, 1, 0, 0, 0, 0, 1, 0, 0, 1, 0, 0, 0, 1, 1, 0, 0, 1, 1, 0, 0, 1, 0, 1, 0, 0, 1, 0, 0, 0, 0, 0, 0, 0, 0, 1, 0, 1, 0, 0, 0, 0, 0, 1, 1, 1, 1, 1, 1, 0, 0, 0, 1, 1, 0, 0, 0, 1, 0, 1, 0, 1, 0, 0, 0, 0, 0, 1, 0, 1, 0, 0, 0, 0, 1, 0, 0, 0, 1, 0, 0, 0, 1, 0, 0, 0, 0, 1, 0, 0, 0, 0, 0, 0, 0, 1, 0, 0, 0, 0, 0, 0, 1, 0, 0, 0, 0, 1, 0, 0, 1, 1, 0, 0, 0, 0, 0, 0, 0, 1, 0, 0, 0, 0, 0, 0, 0, 1, 0, 1, 0, 1, 0, 1, 0, 0, 0, 0, 0, 0, 0, 0, 0, 1, 0, 0, 0, 0, 1, 0, 1, 0, 0, 1, 0, 0, 0, 0, 0, 0, 0, 0, 0, 1, 1, 0, 0, 0, 0, 0, 0, 0, 1, 0, 0, 1, 0, 0, 0, 0, 0, 0, 0, 1, 0, 0, 0, 0, 0, 0, 0, 0, 1, 0, 0, 0, 0, 0, 0, 0, 0, 0, 0, 0, 0, 0, 1, 0, 0, 0, 0, 0, 0, 0, 0, 0, 0, 0, 1, 0, 0, 0, 1, 0, 0, 0, 0, 1, 0, 0, 0, 0, 1, 0, 0, 0, 0, 1, 0, 1, 1, 0, 0, 1, 0, 0, 0, 0, 1, 0, 0, 1, 0, 0, 0, 0, 0, 0, 0, 0, 0, 1, 1, 0, 1, 0, 1, 0, 0, 0, 0, 0, 0, 0, 0, 0, 0, 0, 0, 0, 0, 0, 0, 0, 0, 0, 1, 0, 0, 0, 0, 0, 0, 0, 1, 0, 0, 0, 0, 1, 0, 1, 0, 0, 0, 0, 0, 1, 1, 1, 1, 0, 0, 0, 1, 1, 0, 0, 1, 0, 0, 0, 0, 0, 0, 0, 0, 0, 1, 0, 0, 0, 0, 0, 0, 0, 0, 0, 0, 0, 0, 0, 0, 0, 0, 0, 0, 0, 1, 0, 0, 0, 0, 0, 0, 1, 0, 0, 0, 0, 0, 0, 0, 0, 0, 0, 1, 0, 1, 0, 1, 0, 0, 0, 0, 0, 0, 0, 0, 0, 0, 0, 0, 1, 0, 0, 0, 0, 0, 1, 0, 1, 0, 0, 1, 0, 0, 0, 1, 1, 0, 1, 0, 0, 1, 0, 0, 1, 1, 0, 0, 0, 0, 0, 0, 1, 0, 0, 0, 0, 0, 0, 0, 0, 1, 0, 0, 0, 0, 0, 0, 0, 0, 0, 0, 0, 0, 0, 0, 0, 0, 0, 0, 0, 0, 0, 1, 1, 1, 1, 0, 0, 0, 1, 1, 1, 1, 0, 0, 0, 0, 0, 0, 0, 0, 0, 0, 0, 0, 1, 0, 0, 0, 0, 0, 0, 0, 1, 1, 0, 0, 0, 0, 0, 0, 0, 0, 0, 1, 0, 0, 0, 0, 1, 0, 0, 0, 0, 0, 0, 0, 0, 1, 0, 0, 1, 0, 1, 0, 0, 0, 0, 0, 0, 0, 0, 0, 0, 1, 0, 0, 0, 1, 0, 0, 0, 0, 0, 1, 0, 0, 0, 0, 1, 1, 0, 1, 0, 0, 0, 0, 1, 0, 0, 1, 0, 0, 0, 0, 0, 0, 1, 0, 0, 0, 0, 0, 0, 0, 0, 0, 0, 0, 0, 0, 0, 0, 0, 0, 0, 0, 0, 0, 0, 0, 0, 0, 0, 0, 1, 0, 0, 1, 0, 1, 0, 0, 1, 0, 1, 1, 0, 0, 0, 0, 0, 0, 0, 0, 1, 0, 1, 0, 0, 0, 0, 0, 0, 0, 0, 0, 0, 0, 0, 0, 0, 0, 0, 1, 0, 0, 1, 0, 0, 1, 1, 0, 0, 0, 1, 0, 0, 0, 0, 1, 1, 0, 0, 0, 1, 0, 0, 0, 0, 0, 0, 0, 1, 1, 0, 0, 0, 1, 0, 0, 0, 0, 0, 0, 0, 0, 1, 0, 0, 0, 0, 0, 0, 0, 0, 0, 1, 0, 0, 0, 0, 0, 0, 1, 0, 0, 0, 0, 1, 0, 0, 0, 0, 1, 1, 0, 1, 0, 0, 0, 0, 0, 1, 1, 0, 0, 0, 0, 0, 1, 0, 0, 1, 0, 1, 0, 0, 0, 0, 0, 1, 0, 0, 1, 0, 0, 0, 0, 0, 0, 0, 0, 1, 0, 0, 0, 0, 0, 0, 0, 0, 0, 1, 1, 0, 1, 0, 0, 0, 0, 0, 0, 1, 0, 0, 0, 0, 0, 1, 0, 0, 0, 0, 0, 0, 0, 0, 0, 0, 0, 1, 0, 0, 0, 0, 0, 0, 1, 0, 0, 0, 0, 0, 1, 0, 0, 0, 1, 0, 0, 0, 0, 1, 0, 0, 1, 0, 0, 0, 1, 1, 0, 0, 0, 1, 0, 0, 0, 0, 0, 0, 0, 1, 1, 0, 0, 0, 1, 0, 0, 0, 1, 0, 0, 1, 0, 0, 0, 0, 0, 0, 0, 0, 0, 1, 0, 0, 0, 0, 0, 1, 1, 0, 0, 1, 1, 1, 0, 0, 0, 0, 0, 0, 0, 0, 0, 0, 0, 0, 0, 0, 0, 1, 0, 0, 0, 0, 1, 1, 0, 0, 0, 1, 1, 0, 0, 0, 0, 0, 0, 0, 0, 0, 0, 0, 0, 1, 0, 0, 0, 0, 0, 0, 0, 0, 1, 0, 0, 0, 0, 0, 0, 0, 0, 0, 0, 0, 1, 1, 0, 0, 0, 0, 0, 0, 1, 0, 1, 0, 1, 0, 1, 0, 0, 0, 0, 0, 0, 0, 0, 0, 0, 0, 1, 0, 0, 0, 1, 0, 0, 0, 0, 0, 0, 0, 1, 0, 0, 0, 1, 1, 0, 1, 0, 0, 1, 1, 0, 1, 0, 0, 1, 0, 0, 0, 0, 0, 1, 1, 0, 0, 0, 1, 0, 0, 0, 0, 0, 0, 1, 0, 0, 1, 0, 1, 0, 1, 1, 0, 0, 0, 1, 0, 0, 0, 1, 1, 0, 0, 0, 0, 0, 0, 0, 0, 0, 0, 0, 0, 0, 0, 0, 0, 1, 1, 0, 0, 0, 0, 0, 0, 1, 0, 1, 0, 0, 0, 0, 0, 0, 0, 0, 0, 0, 0, 0, 0, 1, 0, 0, 0, 0, 1, 1, 0, 1, 0, 0, 0, 1, 0, 0, 1, 1, 0, 0, 0, 0, 0, 1, 0, 0, 0, 0, 1, 0, 0, 1, 0, 0, 1, 0, 1, 1, 0, 0, 1, 0, 0, 1, 0, 0, 0, 0, 1, 0, 0, 0, 0, 0, 0, 0, 0, 0, 0, 1, 0, 0, 0, 1, 1, 0, 0, 0, 0, 0, 0, 0, 0, 0, 0, 0, 1, 0, 0, 0, 0, 0, 0, 1, 0, 1, 0, 1, 0, 0, 0, 0, 0, 0, 1, 0, 1, 0, 0, 1, 1, 0, 0, 1, 0, 1, 1, 1, 0, 0, 0, 0, 0, 1, 0, 0, 0, 0, 0, 0, 1, 1, 0, 0, 1, 0, 0, 1, 0, 0, 0, 1, 0, 0, 1, 1, 0, 0, 0, 1, 0, 0, 0, 0, 1, 0, 0, 0, 0, 0, 0, 0, 0, 0, 1, 1, 0, 0, 0, 0, 0, 0, 0, 0, 0, 0, 1, 0, 0, 0, 0, 0, 0, 0, 0, 0, 1, 1, 0, 0, 0, 1, 1, 0, 0, 0, 0, 0, 0, 0, 0, 0, 0, 1, 0, 0, 1, 1, 0, 1, 0, 0, 0, 0, 0, 0, 1, 0, 0, 1, 0, 0, 1, 0, 0, 0, 0, 0, 0, 0, 0, 1, 1, 0, 0, 1, 0, 0, 1, 0, 0, 0, 0, 0, 0, 0, 0, 0, 0, 0, 0, 0, 1, 1, 0, 1, 1, 0, 0, 0, 0, 0, 1, 1, 1, 0, 0, 0, 0, 0, 0, 0, 0, 0, 0, 0, 1, 1, 0, 0, 1, 1, 0, 0, 0, 0, 0, 0, 0, 0, 0, 0, 0, 0, 0, 1, 1, 0, 0, 0, 1, 0, 0, 0, 0, 0, 0, 1, 1, 1, 0, 0, 0, 1, 0, 0, 0, 0, 0, 1, 0, 0, 0, 0, 0, 1, 0, 1, 0, 0, 0, 1, 0, 0, 1, 0, 0, 1, 0, 1, 0, 0, 0, 0, 0, 0, 0, 0, 1, 0, 0, 1, 0, 0, 0, 0, 1, 0, 0, 0, 0, 1, 1, 0, 0, 0, 0, 0, 0, 0, 0, 1, 0, 1, 0, 1, 0, 0, 0, 0, 0, 1, 1, 0, 1, 1, 0, 0, 0, 0, 1, 1, 0, 0, 0, 0, 0, 1, 0, 0, 0, 0, 1, 1, 0, 0, 0, 1, 0, 0, 0, 0, 1, 0, 1, 1, 0, 0, 0, 0, 0, 0, 0, 0, 0, 0, 0, 0, 0, 0, 0, 0]\n",
      "KNN Accuracy:  0.8005967180507211\n",
      "CV Accuracy for k=1: 0.7582176165803108\n",
      "CV Accuracy for k=2: 0.785119170984456\n",
      "CV Accuracy for k=3: 0.7887668393782383\n",
      "CV Accuracy for k=4: 0.7952331606217616\n",
      "CV Accuracy for k=5: 0.7985906735751296\n"
     ]
    }
   ],
   "source": [
    "KNearNeighbor = KNN(k=5)  # Using k=5\n",
    "KNearNeighbor.fit(x_train, y_train)\n",
    "\n",
    "# Predict the labels for the test data\n",
    "knn_predictions = KNearNeighbor.predict(x_test)\n",
    "print(\"KNN Predictions: \", knn_predictions)\n",
    "\n",
    "# Evaluate the accuracy of the KNN model using the test data\n",
    "knn_accuracy = evaluate_acc_knn(y_test, knn_predictions)\n",
    "print(\"KNN Accuracy: \", knn_accuracy)\n",
    "\n",
    "# Run k-fold cross-validation for the KNN model\n",
    "k_list = list(range(1,6))  # You can modify this list to test different values of k, in this case its 1-5\n",
    "k_accuracies = cross_validation_knn(x_train, y_train, k_list, n_splits=5)\n",
    "\n",
    "# Print the accuracies for different values of k\n",
    "for k, acc in k_accuracies.items():\n",
    "    print(f\"CV Accuracy for k={k}: {acc}\")"
   ]
  },
  {
   "cell_type": "markdown",
   "id": "d6c6f5cc",
   "metadata": {
    "papermill": {
     "duration": 0.014686,
     "end_time": "2023-10-23T01:10:13.837214",
     "exception": false,
     "start_time": "2023-10-23T01:10:13.822528",
     "status": "completed"
    },
    "tags": []
   },
   "source": [
    "Accuracy of approximately 80.06% for the KNN algorithm"
   ]
  },
  {
   "cell_type": "code",
   "execution_count": 19,
   "id": "081d0006",
   "metadata": {
    "execution": {
     "iopub.execute_input": "2023-10-23T01:10:13.867592Z",
     "iopub.status.busy": "2023-10-23T01:10:13.867227Z",
     "iopub.status.idle": "2023-10-23T01:15:26.211718Z",
     "shell.execute_reply": "2023-10-23T01:15:26.210774Z"
    },
    "papermill": {
     "duration": 312.374165,
     "end_time": "2023-10-23T01:15:26.225279",
     "exception": false,
     "start_time": "2023-10-23T01:10:13.851114",
     "status": "completed"
    },
    "tags": []
   },
   "outputs": [
    {
     "data": {
      "image/png": "[encoded data removed]",
      "text/plain": [
       "<Figure size 1000x600 with 1 Axes>"
      ]
     },
     "metadata": {},
     "output_type": "display_data"
    }
   ],
   "source": [
    "k_values = list(range(1, 21))  # Testing k from 1 to 20\n",
    "accuracies = []\n",
    "\n",
    "# For each k value, train the KNN model and evaluate its accuracy\n",
    "for k in k_values:\n",
    "    knnModelTemp = KNN(k=k)\n",
    "    knnModelTemp.fit(x_train, y_train)\n",
    "    knn_predictions_temp = knnModelTemp.predict(x_test)\n",
    "    accuracy = evaluate_acc_knn(y_test, knn_predictions_temp)\n",
    "    accuracies.append(accuracy)\n",
    "\n",
    "# Plot k values against accuracies\n",
    "plt.figure(figsize=(10, 6))\n",
    "plt.plot(k_values, accuracies, marker='o', linestyle='-')\n",
    "plt.xlabel('k Value')\n",
    "plt.ylabel('Accuracy')\n",
    "plt.title('Accuracy vs. k Value for KNN')\n",
    "plt.grid(True)\n",
    "plt.show()"
   ]
  },
  {
   "cell_type": "markdown",
   "id": "e511c68e",
   "metadata": {
    "papermill": {
     "duration": 0.014199,
     "end_time": "2023-10-23T01:15:26.254484",
     "exception": false,
     "start_time": "2023-10-23T01:15:26.240285",
     "status": "completed"
    },
    "tags": []
   },
   "source": [
    "The accuracy seems to be increasing steadily until the 9th k-value and then from there it dips approximately 1-2% until the 15th k-value and then increases from there on. While increasing k initially leads to a more stable model by reducing sensitivity to noise, there's a tipping point beyond which the model starts losing accuracy. It appears this tipping point is around the 9th k-value."
   ]
  },
  {
   "cell_type": "markdown",
   "id": "de3ba4d7",
   "metadata": {
    "papermill": {
     "duration": 0.014005,
     "end_time": "2023-10-23T01:15:26.282845",
     "exception": false,
     "start_time": "2023-10-23T01:15:26.268840",
     "status": "completed"
    },
    "tags": []
   },
   "source": [
    "# Testing Ionosphere Data"
   ]
  },
  {
   "cell_type": "code",
   "execution_count": 20,
   "id": "592c7149",
   "metadata": {
    "execution": {
     "iopub.execute_input": "2023-10-23T01:15:26.314773Z",
     "iopub.status.busy": "2023-10-23T01:15:26.314119Z",
     "iopub.status.idle": "2023-10-23T01:15:26.322820Z",
     "shell.execute_reply": "2023-10-23T01:15:26.321490Z"
    },
    "papermill": {
     "duration": 0.028305,
     "end_time": "2023-10-23T01:15:26.325462",
     "exception": false,
     "start_time": "2023-10-23T01:15:26.297157",
     "status": "completed"
    },
    "tags": []
   },
   "outputs": [],
   "source": [
    "#Train-test split\n",
    "X_iono = ionosphere[['feature1', 'feature2', 'feature3', 'feature4', 'feature5', 'feature6',\n",
    "       'feature7', 'feature8', 'feature9', 'feature10', 'feature11',\n",
    "       'feature12', 'feature13', 'feature14', 'feature15', 'feature16',\n",
    "       'feature17', 'feature18', 'feature19', 'feature20', 'feature21',\n",
    "       'feature22', 'feature23', 'feature24', 'feature25', 'feature26',\n",
    "       'feature27', 'feature28', 'feature29', 'feature30', 'feature31',\n",
    "       'feature32', 'feature33', 'feature34']]\n",
    "y_iono = ionosphere['label']\n",
    "\n",
    "#80-20 ratio\n",
    "train_size = int(0.8 * len(ionosphere))\n",
    "x_train_iono, x_test_iono = X_iono[:train_size], X_iono[train_size:]\n",
    "y_train_iono, y_test_iono = y_iono[:train_size], y_iono[train_size:]"
   ]
  },
  {
   "cell_type": "markdown",
   "id": "126ea736",
   "metadata": {
    "papermill": {
     "duration": 0.01416,
     "end_time": "2023-10-23T01:15:26.354743",
     "exception": false,
     "start_time": "2023-10-23T01:15:26.340583",
     "status": "completed"
    },
    "tags": []
   },
   "source": [
    "**Logistic Regression**"
   ]
  },
  {
   "cell_type": "code",
   "execution_count": 21,
   "id": "e8958000",
   "metadata": {
    "execution": {
     "iopub.execute_input": "2023-10-23T01:15:26.385474Z",
     "iopub.status.busy": "2023-10-23T01:15:26.384539Z",
     "iopub.status.idle": "2023-10-23T01:15:29.191494Z",
     "shell.execute_reply": "2023-10-23T01:15:29.189865Z"
    },
    "papermill": {
     "duration": 2.825732,
     "end_time": "2023-10-23T01:15:29.194649",
     "exception": false,
     "start_time": "2023-10-23T01:15:26.368917",
     "status": "completed"
    },
    "tags": []
   },
   "outputs": [
    {
     "name": "stdout",
     "output_type": "stream",
     "text": [
      "cost history:  [0.6931471805599434, 0.6910522755117757, 0.6890146207755399, 0.6870323519559483, 0.6851036610139141, 0.6832267951660993, 0.6814000557460611, 0.67962179703404, 0.6778904250618686, 0.6762043963989419, 0.6745622169246799, 0.6729624405924269, 0.6714036681892713, 0.6698845460958363, 0.6684037650496892, 0.6669600589156319, 0.665552203465782, 0.6641790151720239, 0.6628393500131011, 0.661532102298338, 0.660256203509718, 0.659010621163801, 0.6577943576947465, 0.6566064493595009, 0.6554459651660263, 0.6543120058252786, 0.6532037027274881, 0.6521202169431606, 0.65106073824909, 0.6500244841795618, 0.6490106991028239, 0.6480186533228188, 0.6470476422060795, 0.6460969853336329, 0.6451660256776843, 0.6442541288028034, 0.6433606820912896, 0.6424850939923451, 0.6416267932946583, 0.6407852284219623, 0.6399598667511146, 0.6391501939522197, 0.6383557133503008, 0.6375759453080156, 0.6368104266289011, 0.6360587099806195, 0.6353203633376855, 0.6345949694431403, 0.6338821252886453, 0.6331814416124705, 0.6324925424148493, 0.6318150644901863, 0.6311486569756011, 0.6304929809153054, 0.6298477088403136, 0.6292125243629987, 0.6285871217860146, 0.6279712057251138, 0.6273644907454005, 0.6267667010105734, 0.6261775699447149, 0.6255968399062052, 0.6250242618733421, 0.6244595951412638, 0.6239026070297795, 0.6233530726017289, 0.6228107743914986, 0.6222755021433349, 0.6217470525591058, 0.6212252290551762, 0.6207098415280652, 0.6202007061285737, 0.619697645044075, 0.6192004862886707, 0.6187090635009285, 0.618223215748925, 0.6177427873423268, 0.6172676276512509, 0.6167975909316593, 0.6163325361570448, 0.6158723268561767, 0.6154168309566872, 0.6149659206342779, 0.6145194721673434, 0.6140773657968097, 0.6136394855909951, 0.613205719315311, 0.6127759583066174, 0.6123500973520681, 0.6119280345722761, 0.6115096713086381, 0.6110949120146675, 0.6106836641511884, 0.6102758380852418, 0.6098713469925756, 0.6094701067635804, 0.609072035912544, 0.608677055490108, 0.6082850889987997, 0.6078960623115355, 0.6075099035929794, 0.6071265432236557, 0.6067459137267139, 0.6063679496972486, 0.60599258773408, 0.6056197663739075, 0.605249426027747, 0.6048815089195714, 0.6045159590270703, 0.6041527220244579, 0.6037917452272467, 0.6034329775389241, 0.6030763693994573, 0.6027218727355623, 0.6023694409126733, 0.6020190286885526, 0.6016705921684786, 0.6013240887619594, 0.6009794771409142, 0.600636717199271, 0.6002957700139315, 0.5999565978070508, 0.5996191639095899, 0.5992834327260916, 0.5989493697006386, 0.5986169412839519, 0.598286114901588, 0.5979568589231982, 0.5976291426328091, 0.5973029362000941, 0.596978210652594, 0.5966549378488604, 0.5963330904524842, 0.5960126419069823, 0.5956935664115097, 0.5953758388973704, 0.5950594350052983, 0.5947443310634823, 0.5944305040663078, 0.5941179316537939, 0.5938065920916975, 0.5934964642522663, 0.5931875275956136, 0.5928797621516977, 0.5925731485028832, 0.5922676677670645, 0.5919633015813336, 0.5916600320861712, 0.591357841910147, 0.5910567141551076, 0.5907566323818411, 0.590457580596196, 0.5901595432356446, 0.5898625051562719, 0.5895664516201796, 0.5892713682832877, 0.5889772411835221, 0.5886840567293772, 0.5883918016888356, 0.5881004631786412, 0.5878100286539044, 0.5875204858980378, 0.5872318230130047, 0.5869440284098727, 0.5866570907996632, 0.5863709991844852, 0.5860857428489457, 0.5858013113518258, 0.5855176945180174, 0.5852348824307061, 0.5849528654238, 0.584671634074588, 0.5843911791966274, 0.58411149183285, 0.583832563248879, 0.583554384926551, 0.5832769485576382, 0.5830002460377608, 0.5827242694604862, 0.5824490111116077, 0.5821744634635987, 0.5819006191702336, 0.581627471061374, 0.5813550121379122, 0.5810832355668668, 0.5808121346766288, 0.5805417029523496, 0.5802719340314685, 0.5800028216993749, 0.5797343598852014, 0.5794665426577423, 0.5791993642214955, 0.5789328189128226, 0.5786669011962232, 0.5784016056607216, 0.5781369270163602, 0.5778728600907987, 0.577609399826013, 0.5773465412750932, 0.5770842795991363, 0.576822610064231, 0.5765615280385319, 0.5763010289894196, 0.5760411084807462, 0.5757817621701595, 0.5755229858065086, 0.5752647752273247, 0.5750071263563749, 0.5747500352012901, 0.5744934978512601, 0.574237510474798, 0.5739820693175686, 0.573727170700281, 0.5734728110166433, 0.5732189867313741, 0.5729656943782763, 0.5727129305583624, 0.5724606919380377, 0.5722089752473344, 0.5719577772781964, 0.571707094882816, 0.5714569249720163, 0.5712072645136813, 0.5709581105312319, 0.5707094601021444, 0.5704613103565129, 0.5702136584756522, 0.569966501690741, 0.5697198372815047, 0.5694736625749349, 0.5692279749440459, 0.5689827718066671, 0.5687380506242701, 0.5684938089008276, 0.5682500441817074, 0.5680067540525956, 0.5677639361384516, 0.5675215881024922, 0.5672797076452053, 0.5670382925033912, 0.5667973404492302, 0.5665568492893779, 0.5663168168640851, 0.5660772410463433, 0.5658381197410532, 0.5655994508842184, 0.5653612324421593, 0.565123462410752, 0.5648861388146853, 0.5646492597067423, 0.5644128231670981, 0.5641768273026408, 0.5639412702463088, 0.563706150156448, 0.5634714652161866, 0.5632372136328273, 0.5630033936372568, 0.5627700034833698, 0.5625370414475128, 0.5623045058279394, 0.5620723949442832, 0.5618407071370434, 0.5616094407670872, 0.5613785942151633, 0.5611481658814305, 0.560918154184998, 0.56068855756348, 0.5604593744725616, 0.5602306033855754, 0.5600022427930926, 0.5597742912025231, 0.5595467471377263, 0.5593196091386351, 0.5590928757608865, 0.5588665455754661, 0.5586406171683584, 0.558415089140211, 0.5581899601060032, 0.5579652286947278, 0.557740893549078, 0.5575169533251466, 0.5572934066921289, 0.5570702523320373, 0.556847488939422, 0.5566251152210994, 0.5564031298958871, 0.5561815316943485, 0.5559603193585405, 0.5557394916417716, 0.5555190473083638, 0.5552989851334222, 0.5550793039026112, 0.5548600024119348, 0.5546410794675245, 0.5544225338854322, 0.5542043644914285, 0.5539865701208063, 0.5537691496181901, 0.55355210183735, 0.55333542564102, 0.5531191199007223, 0.5529031834965953, 0.5526876153172267, 0.55247241425949, 0.552257579228387, 0.5520431091368926, 0.5518290029058044, 0.5516152594635965, 0.551401877746277, 0.5511888566972488, 0.5509761952671741, 0.5507638924138427, 0.5505519471020435, 0.5503403583034394, 0.5501291249964453, 0.5499182461661091, 0.549707720803996, 0.5494975479080763, 0.5492877264826143, 0.5490782555380618, 0.548869134090954, 0.5486603611638072, 0.5484519357850193, 0.5482438569887735, 0.5480361238149448, 0.5478287353090062, 0.5476216905219408, 0.5474149885101534, 0.5472086283353856, 0.5470026090646333, 0.5467969297700644, 0.546591589528941, 0.5463865874235415, 0.5461819225410859, 0.545977593973662, 0.5457736008181547, 0.545569942176175, 0.5453666171539928, 0.54516362486247, 0.5449609644169963, 0.5447586349374247, 0.544556635548011, 0.5443549653773526, 0.5441536235583305, 0.5439526092280508, 0.5437519215277896, 0.5435515596029376, 0.5433515226029471, 0.5431518096812793, 0.5429524199953536, 0.5427533527064978, 0.5425546069798995, 0.5423561819845583, 0.5421580768932397, 0.5419602908824294, 0.5417628231322892, 0.5415656728266138, 0.5413688391527887, 0.5411723213017473, 0.5409761184679327, 0.5407802298492566, 0.5405846546470613, 0.5403893920660815, 0.5401944413144076, 0.53999980160345, 0.5398054721479024, 0.5396114521657085, 0.5394177408780282, 0.5392243375092032, 0.539031241286726, 0.5388384514412076, 0.538645967206346, 0.5384537878188973, 0.5382619125186443, 0.5380703405483684, 0.5378790711538205, 0.5376881035836941, 0.5374974370895965, 0.5373070709260233, 0.5371170043503316, 0.5369272366227147, 0.5367377670061757, 0.5365485947665046, 0.536359719172253, 0.5361711394947105, 0.535982855007882, 0.535794864988464, 0.5356071687158228, 0.5354197654719732, 0.5352326545415558, 0.5350458352118165, 0.534859306772586, 0.5346730685162592, 0.5344871197377752, 0.5343014597345984, 0.5341160878066985, 0.5339310032565318, 0.5337462053890228, 0.533561693511547, 0.5333774669339113, 0.5331935249683374, 0.5330098669294447, 0.5328264921342334, 0.5326433999020671, 0.5324605895546575, 0.5322780604160475, 0.5320958118125962, 0.5319138430729623, 0.5317321535280899, 0.5315507425111927, 0.5313696093577401, 0.5311887534054415, 0.5310081739942326, 0.5308278704662619, 0.5306478421658757, 0.5304680884396055, 0.5302886086361535, 0.5301094021063806, 0.5299304682032924, 0.5297518062820268, 0.5295734156998415, 0.529395295816101, 0.5292174459922652, 0.5290398655918762, 0.5288625539805476, 0.5286855105259518, 0.5285087345978089, 0.5283322255678751, 0.5281559828099317, 0.5279800056997735, 0.5278042936151985, 0.5276288459359968, 0.5274536620439394, 0.5272787413227686, 0.5271040831581874, 0.5269296869378484, 0.5267555520513448, 0.5265816778901998, 0.5264080638478571, 0.5262347093196703, 0.526061613702895, 0.5258887763966767, 0.5257161968020445, 0.5255438743218991, 0.5253718083610052, 0.5251999983259816, 0.5250284436252936, 0.5248571436692416, 0.5246860978699555, 0.5245153056413834, 0.5243447663992843, 0.5241744795612195, 0.5240044445465444, 0.5238346607763992, 0.5236651276737018, 0.5234958446631394, 0.5233268111711603, 0.5231580266259659, 0.5229894904575029, 0.5228212020974555, 0.5226531609792378, 0.522485366537986, 0.5223178182105511, 0.522150515435491, 0.5219834576530632, 0.5218166443052176, 0.5216500748355892, 0.5214837486894905, 0.5213176653139052, 0.52115182415748, 0.5209862246705186, 0.5208208663049736, 0.520655748514441, 0.520490870754152, 0.5203262324809674, 0.5201618331533697, 0.5199976722314574, 0.5198337491769377, 0.5196700634531206, 0.5195066145249116, 0.5193434018588058, 0.5191804249228813, 0.5190176831867932, 0.5188551761217665, 0.5186929032005902, 0.5185308638976119, 0.5183690576887304, 0.5182074840513899, 0.5180461424645746, 0.5178850324088019, 0.5177241533661169, 0.5175635048200858, 0.5174030862557909, 0.5172428971598243, 0.5170829370202816, 0.516923205326757, 0.5167637015703371, 0.516604425243595, 0.5164453758405849, 0.5162865528568368, 0.51612795578935, 0.5159695841365887, 0.5158114373984753, 0.5156535150763857, 0.5154958166731439, 0.5153383416930161, 0.5151810896417055, 0.5150240600263472, 0.5148672523555025, 0.5147106661391538, 0.5145543008886997, 0.5143981561169493, 0.5142422313381166, 0.5140865260678169, 0.51393103982306, 0.5137757721222458, 0.5136207224851594, 0.5134658904329661, 0.5133112754882058, 0.5131568771747883, 0.5130026950179889, 0.5128487285444427, 0.5126949772821402, 0.5125414407604221, 0.5123881185099743, 0.5122350100628241, 0.5120821149523344, 0.5119294327131985, 0.5117769628814374, 0.5116247049943926, 0.5114726585907233, 0.5113208232104006, 0.5111691983947035, 0.5110177836862141, 0.5108665786288125, 0.5107155827676729, 0.5105647956492592, 0.5104142168213195, 0.5102638458328825, 0.5101136822342529, 0.5099637255770063, 0.5098139754139854, 0.5096644312992956, 0.5095150927883001, 0.5093659594376158, 0.5092170308051092, 0.5090683064498916, 0.5089197859323156, 0.5087714688139693, 0.5086233546576736, 0.508475443027477, 0.5083277334886522, 0.5081802256076907, 0.5080329189522997, 0.5078858130913971, 0.5077389075951084, 0.5075922020347613, 0.5074456959828825, 0.5072993890131929, 0.5071532807006045, 0.5070073706212154, 0.5068616583523063, 0.506716143472336, 0.506570825560938, 0.5064257041989157, 0.5062807789682398, 0.5061360494520423, 0.5059915152346147, 0.5058471759014026, 0.5057030310390025, 0.5055590802351576, 0.5054153230787539, 0.5052717591598171, 0.5051283880695073, 0.5049852094001165, 0.5048422227450645, 0.5046994276988945, 0.5045568238572701, 0.5044144108169709, 0.5042721881758896, 0.504130155533027, 0.5039883124884895, 0.5038466586434851, 0.5037051936003191, 0.5035639169623912, 0.5034228283341915, 0.5032819273212966, 0.5031412135303669, 0.5030006865691421, 0.5028603460464376, 0.5027201915721415, 0.502580222757211, 0.5024404392136682, 0.5023008405545971, 0.5021614263941404, 0.5020221963474949, 0.501883150030909, 0.5017442870616791, 0.5016056070581454, 0.5014671096396898, 0.501328794426731, 0.501190661040722, 0.5010527091041461, 0.5009149382405147, 0.5007773480743622, 0.5006399382312441, 0.5005027083377325, 0.5003656580214136, 0.5002287869108841, 0.500092094635748, 0.4999555808266131, 0.4998192451150874, 0.49968308713377657, 0.49954710651628054, 0.49941130289718966, 0.4992756759120819, 0.4991402251975196, 0.49900495039104636, 0.49886985113118365, 0.49873492705742756, 0.49860017781024585, 0.49846560303107473, 0.49833120236231543, 0.49819697544733166, 0.49806292193044593, 0.49792904145693645, 0.49779533367303463, 0.49766179822592127, 0.4975284347637236, 0.49739524293551296, 0.49726222239130075, 0.4971293727820359, 0.4969966937596015, 0.4968641849768127, 0.49673184608741233, 0.49659967674606903, 0.4964676766083738, 0.49633584533083686, 0.49620418257088494, 0.49607268798685816, 0.4959413612380079, 0.4958102019844923, 0.49567920988737485, 0.4955483846086201, 0.49541772581109234, 0.49528723315855144, 0.4951569063156506, 0.49502674494793286, 0.49489674872182954, 0.4947669173046557, 0.49463725036460865, 0.49450774757076427, 0.494378408593075, 0.4942492331023662, 0.49412022077033385, 0.49399137126954196, 0.49386268427341906, 0.4937341594562562, 0.4936057964932036, 0.4934775950602688, 0.49334955483431253, 0.4932216754930475, 0.49309395671503464, 0.49296639817968063, 0.4928389995672354, 0.49271176055878974, 0.49258468083627177, 0.492457760082445, 0.49233099798090557, 0.492204394216079, 0.49207794847321873, 0.49195166043840227, 0.4918255297985296, 0.49169955624131956, 0.49157373945530825, 0.491448079129846, 0.49132257495509446, 0.4911972266220244, 0.4910720338224136, 0.4909469962488434, 0.4908221135946966, 0.4906973855541552, 0.49057281182219725, 0.4904483920945952, 0.4903241260679124, 0.4902000134395012, 0.49007605390750064, 0.4899522471708335, 0.48982859292920417, 0.48970509088309605, 0.4895817407337689, 0.48945854218325713, 0.4893354949343664, 0.4892125986906719, 0.4890898531565157, 0.4889672580370044, 0.4888448130380065, 0.48872251786615045, 0.4886003722288221, 0.4884783758341619, 0.48835652839106325, 0.4882348296091698, 0.48811327919887304, 0.48799187687130985, 0.48787062233836087, 0.48774951531264704, 0.48762855550752887, 0.48750774263710195, 0.4873870764161972, 0.4872665565603764, 0.4871461827859311, 0.4870259548098803, 0.4869058723499675, 0.48678593512465956, 0.48666614285314314, 0.48654649525532373, 0.4864269920518221, 0.4863076329639735, 0.48618841771382443, 0.486069346024131, 0.4859504176183561, 0.4858316322206678, 0.48571298955593717, 0.48559448934973587, 0.4854761313283337, 0.4853579152186972, 0.4852398407484867, 0.485121907646055, 0.4850041156404443, 0.48488646446138506, 0.48476895383929297, 0.4846515835052675, 0.4845343531910896, 0.48441726262921936, 0.48430031155279424, 0.48418349969562685, 0.484066826792203, 0.48395029257767924, 0.48383389678788163, 0.48371763915930227, 0.48360151942909935, 0.48348553733509275, 0.4833696926157638, 0.48325398501025235, 0.4831384142583553, 0.4830229801005239, 0.4829076822778626, 0.48279252053212646, 0.4826774946057189, 0.4825626042416909, 0.48244784918373784, 0.4823332291761976, 0.48221874396404973, 0.48210439329291227, 0.4819901769090401, 0.48187609455932384, 0.4817621459912863, 0.4816483309530822, 0.4815346491934954, 0.48142110046193687, 0.48130768450844325, 0.4811944010836748, 0.48108124993891344, 0.4809682308260607, 0.48085534349763626, 0.4807425877067755, 0.4806299632072284, 0.480517469753357, 0.48040510710013395, 0.48029287500314005, 0.4801807732185637, 0.48006880150319753, 0.4799569596144374, 0.4798452473102811, 0.4797336643493249, 0.4796222104907636, 0.47951088549438725, 0.47939968912058045, 0.47928862113031984, 0.4791776812851725, 0.4790668693472945, 0.4789561850794288, 0.478845628244903, 0.47873519860762925, 0.4786248959321002, 0.4785147199833893, 0.47840467052714786, 0.47829474732960353, 0.4781849501575591, 0.4780752787783896, 0.47796573296004247, 0.4778563124710337, 0.4777470170804478, 0.4776378465579354, 0.47752880067371106, 0.47741987919855305, 0.47731108190379995, 0.47720240856135043, 0.47709385894366035, 0.4769854328237423, 0.4768771299751628, 0.4767689501720416, 0.4766608931890492, 0.4765529588014059, 0.47644514678488, 0.47633745691578583, 0.47622988897098223, 0.4761224427278715, 0.47601511796439694, 0.4759079144590418, 0.4758008319908277, 0.4756938703393126, 0.47558702928458946, 0.47548030860728485, 0.47537370808855733, 0.4752672275100951, 0.47516086665411594, 0.4750546253033639, 0.4749485032411092, 0.47484250025114594, 0.4747366161177908, 0.47463085062588106, 0.47452520356077366, 0.47441967470834356, 0.4743142638549819, 0.4742089707875943, 0.47410379529360025, 0.4739987371609309, 0.4738937961780275, 0.4737889721338403, 0.47368426481782655, 0.47357967401994977, 0.4734751995306774, 0.47337084114097994, 0.47326659864232923, 0.47316247182669674, 0.47305846048655287, 0.47295456441486455, 0.4728507834050945, 0.4727471172511995, 0.4726435657476287, 0.47254012868932266, 0.47243680587171166, 0.4723335970907144, 0.4722305021427359, 0.4721275208246676, 0.4720246529338841, 0.47192189826824327, 0.4718192566260839, 0.47171672780622464, 0.47161431160796274, 0.4715120078310724, 0.47140981627580325, 0.4713077367428796, 0.47120576903349853, 0.47110391294932824, 0.4710021682925078, 0.4709005348656446, 0.4707990124718135, 0.4706976009145554, 0.4705962999978763, 0.4704951095262452, 0.47039402930459295, 0.4702930591383118, 0.4701921988332527, 0.47009144819572496, 0.4699908070324947, 0.46989027515078313, 0.46978985235826576, 0.46968953846307065, 0.4695893332737776, 0.4694892365994166, 0.46938924824946643]\n",
      "predictions:  [1, 1, 1, 1, 1, 1, 1, 1, 1, 1, 1, 1, 1, 1, 1, 1, 1, 1, 1, 1, 1, 1, 1, 1, 1, 1, 1, 1, 1, 1, 1, 1, 1, 1, 1, 1, 1, 1, 1, 1, 1, 1, 1, 1, 1, 1, 1, 1, 1, 1, 1, 1, 1, 1, 1, 1, 1, 1, 1, 1, 0, 1, 1, 1, 1, 1, 1, 1, 1, 1, 1]\n",
      "Accuracy:  0.9859154929577465\n",
      "The average accuracy from k-fold cross-validation is: 0.8148148148148149\n"
     ]
    }
   ],
   "source": [
    "logisticModel = LogisticRegression()\n",
    "logisticModel.fit(x_train_iono, y_train_iono)\n",
    "\n",
    "cost_history = logisticModel.fit(x_train_iono, y_train_iono)\n",
    "print(\"cost history: \",cost_history)\n",
    "\n",
    "predictions = logisticModel.predict(x_test_iono)\n",
    "print(\"predictions: \",predictions)\n",
    "\n",
    "# checking the accuracy of the model\n",
    "accuracy = logisticModel.evaluate_acc(y_test_iono, predictions)\n",
    "print(\"Accuracy: \", accuracy)\n",
    "\n",
    "# running the cross-validation function\n",
    "avg_accuracy = LogisticRegression.cross_validate_logistic(X_iono, y_iono, 3)\n",
    "print(f\"The average accuracy from k-fold cross-validation is: {avg_accuracy}\")"
   ]
  },
  {
   "cell_type": "code",
   "execution_count": 22,
   "id": "c8dcd1c9",
   "metadata": {
    "execution": {
     "iopub.execute_input": "2023-10-23T01:15:29.228699Z",
     "iopub.status.busy": "2023-10-23T01:15:29.228363Z",
     "iopub.status.idle": "2023-10-23T01:15:32.363294Z",
     "shell.execute_reply": "2023-10-23T01:15:32.362016Z"
    },
    "papermill": {
     "duration": 3.154572,
     "end_time": "2023-10-23T01:15:32.365857",
     "exception": false,
     "start_time": "2023-10-23T01:15:29.211285",
     "status": "completed"
    },
    "tags": []
   },
   "outputs": [
    {
     "data": {
      "image/png": "[encoded data removed]",
      "text/plain": [
       "<Figure size 1000x600 with 1 Axes>"
      ]
     },
     "metadata": {},
     "output_type": "display_data"
    }
   ],
   "source": [
    "# Testing different learning rates and plotting the cost history\n",
    "learning_rates = [0.01, 0.05, 0.1, 0.5, 1]\n",
    "cost_histories = {}\n",
    "\n",
    "for lr in learning_rates:\n",
    "    model = LogisticRegression(learning_rate=lr)\n",
    "    cost_histories[lr] = model.fit(x_train_iono, y_train_iono)\n",
    "\n",
    "# Plotting the cost histories for different learning rates\n",
    "plt.figure(figsize=(10, 6))\n",
    "for lr, history in cost_histories.items():\n",
    "    plt.plot(history, label=f\"Learning Rate: {lr}\")\n",
    "plt.xlabel(\"Iterations\")\n",
    "plt.ylabel(\"Cost\")\n",
    "plt.title(\"Cost History for Different Learning Rates\")\n",
    "plt.legend()\n",
    "plt.grid(True)\n",
    "plt.show()"
   ]
  },
  {
   "cell_type": "markdown",
   "id": "d662fd41",
   "metadata": {
    "papermill": {
     "duration": 0.016401,
     "end_time": "2023-10-23T01:15:32.398692",
     "exception": false,
     "start_time": "2023-10-23T01:15:32.382291",
     "status": "completed"
    },
    "tags": []
   },
   "source": [
    "**KNN**"
   ]
  },
  {
   "cell_type": "code",
   "execution_count": 23,
   "id": "40ad80d6",
   "metadata": {
    "execution": {
     "iopub.execute_input": "2023-10-23T01:15:32.432680Z",
     "iopub.status.busy": "2023-10-23T01:15:32.432316Z",
     "iopub.status.idle": "2023-10-23T01:15:32.529225Z",
     "shell.execute_reply": "2023-10-23T01:15:32.527887Z"
    },
    "papermill": {
     "duration": 0.116663,
     "end_time": "2023-10-23T01:15:32.531766",
     "exception": false,
     "start_time": "2023-10-23T01:15:32.415103",
     "status": "completed"
    },
    "tags": []
   },
   "outputs": [
    {
     "name": "stdout",
     "output_type": "stream",
     "text": [
      "KNN Predictions:  [1, 1, 1, 1, 0, 1, 1, 1, 1, 1, 1, 1, 1, 1, 1, 1, 1, 1, 1, 1, 1, 1, 1, 1, 1, 1, 1, 1, 1, 1, 1, 1, 1, 1, 1, 1, 1, 1, 1, 1, 1, 1, 1, 1, 1, 1, 1, 1, 1, 1, 1, 1, 1, 1, 1, 1, 1, 1, 1, 1, 0, 1, 1, 1, 1, 1, 1, 1, 1, 1, 1]\n",
      "KNN Accuracy:  0.971830985915493\n",
      "CV Accuracy for k=1: 0.8678571428571429\n",
      "CV Accuracy for k=2: 0.9\n",
      "CV Accuracy for k=3: 0.8321428571428571\n",
      "CV Accuracy for k=4: 0.8607142857142858\n",
      "CV Accuracy for k=5: 0.8142857142857143\n"
     ]
    }
   ],
   "source": [
    "KNearNeighbor = KNN(k=5)  # Using k=5\n",
    "KNearNeighbor.fit(x_train_iono, y_train_iono)\n",
    "\n",
    "# Predict the labels for the test data\n",
    "knn_predictions = KNearNeighbor.predict(x_test_iono)\n",
    "print(\"KNN Predictions: \", knn_predictions)\n",
    "\n",
    "# Evaluate the accuracy of the KNN model using the test data\n",
    "knn_accuracy = evaluate_acc_knn(y_test_iono, knn_predictions)\n",
    "print(\"KNN Accuracy: \", knn_accuracy)\n",
    "\n",
    "# Run k-fold cross-validation for the KNN model\n",
    "k_list = list(range(1,6))  # You can modify this list to test different values of k, in this case its 1-5\n",
    "k_accuracies = cross_validation_knn(x_train_iono, y_train_iono, k_list, n_splits=5)\n",
    "\n",
    "# Print the accuracies for different values of k\n",
    "for k, acc in k_accuracies.items():\n",
    "    print(f\"CV Accuracy for k={k}: {acc}\")"
   ]
  },
  {
   "cell_type": "code",
   "execution_count": 24,
   "id": "57c625a4",
   "metadata": {
    "execution": {
     "iopub.execute_input": "2023-10-23T01:15:32.566251Z",
     "iopub.status.busy": "2023-10-23T01:15:32.565658Z",
     "iopub.status.idle": "2023-10-23T01:15:33.342510Z",
     "shell.execute_reply": "2023-10-23T01:15:33.341191Z"
    },
    "papermill": {
     "duration": 0.797384,
     "end_time": "2023-10-23T01:15:33.344967",
     "exception": false,
     "start_time": "2023-10-23T01:15:32.547583",
     "status": "completed"
    },
    "tags": []
   },
   "outputs": [
    {
     "data": {
      "image/png": "[encoded data removed]",
      "text/plain": [
       "<Figure size 1000x600 with 1 Axes>"
      ]
     },
     "metadata": {},
     "output_type": "display_data"
    }
   ],
   "source": [
    "k_values = list(range(1, 21))  # Testing k from 1 to 20\n",
    "accuracies = []\n",
    "\n",
    "# For each k value, train the KNN model and evaluate its accuracy\n",
    "for k in k_values:\n",
    "    knnModelTemp = KNN(k=k)\n",
    "    knnModelTemp.fit(x_train_iono, y_train_iono)\n",
    "    knn_predictions_temp = knnModelTemp.predict(x_test_iono)\n",
    "    accuracy = evaluate_acc_knn(y_test_iono, knn_predictions_temp)\n",
    "    accuracies.append(accuracy)\n",
    "\n",
    "# Plot k values against accuracies\n",
    "plt.figure(figsize=(10, 6))\n",
    "plt.plot(k_values, accuracies, marker='o', linestyle='-')\n",
    "plt.xlabel('k Value')\n",
    "plt.ylabel('Accuracy')\n",
    "plt.title('Accuracy vs. k Value for KNN')\n",
    "plt.grid(True)\n",
    "plt.show()"
   ]
  },
  {
   "cell_type": "markdown",
   "id": "0a9eece7",
   "metadata": {
    "papermill": {
     "duration": 0.015651,
     "end_time": "2023-10-23T01:15:33.376536",
     "exception": false,
     "start_time": "2023-10-23T01:15:33.360885",
     "status": "completed"
    },
    "tags": []
   },
   "source": [
    "# Testing Iris Data"
   ]
  },
  {
   "cell_type": "code",
   "execution_count": 25,
   "id": "290681a2",
   "metadata": {
    "execution": {
     "iopub.execute_input": "2023-10-23T01:15:33.411013Z",
     "iopub.status.busy": "2023-10-23T01:15:33.410626Z",
     "iopub.status.idle": "2023-10-23T01:15:33.428642Z",
     "shell.execute_reply": "2023-10-23T01:15:33.427644Z"
    },
    "papermill": {
     "duration": 0.038378,
     "end_time": "2023-10-23T01:15:33.431222",
     "exception": false,
     "start_time": "2023-10-23T01:15:33.392844",
     "status": "completed"
    },
    "tags": []
   },
   "outputs": [
    {
     "data": {
      "text/html": [
       "<div>\n",
       "<style scoped>\n",
       "    .dataframe tbody tr th:only-of-type {\n",
       "        vertical-align: middle;\n",
       "    }\n",
       "\n",
       "    .dataframe tbody tr th {\n",
       "        vertical-align: top;\n",
       "    }\n",
       "\n",
       "    .dataframe thead th {\n",
       "        text-align: right;\n",
       "    }\n",
       "</style>\n",
       "<table border=\"1\" class=\"dataframe\">\n",
       "  <thead>\n",
       "    <tr style=\"text-align: right;\">\n",
       "      <th></th>\n",
       "      <th>SepalLengthCm</th>\n",
       "      <th>SepalWidthCm</th>\n",
       "      <th>PetalLengthCm</th>\n",
       "      <th>PetalWidthCm</th>\n",
       "      <th>Species</th>\n",
       "    </tr>\n",
       "  </thead>\n",
       "  <tbody>\n",
       "    <tr>\n",
       "      <th>0</th>\n",
       "      <td>5.1</td>\n",
       "      <td>3.5</td>\n",
       "      <td>1.4</td>\n",
       "      <td>0.2</td>\n",
       "      <td>1</td>\n",
       "    </tr>\n",
       "    <tr>\n",
       "      <th>1</th>\n",
       "      <td>4.9</td>\n",
       "      <td>3.0</td>\n",
       "      <td>1.4</td>\n",
       "      <td>0.2</td>\n",
       "      <td>1</td>\n",
       "    </tr>\n",
       "    <tr>\n",
       "      <th>2</th>\n",
       "      <td>4.7</td>\n",
       "      <td>3.2</td>\n",
       "      <td>1.3</td>\n",
       "      <td>0.2</td>\n",
       "      <td>1</td>\n",
       "    </tr>\n",
       "    <tr>\n",
       "      <th>3</th>\n",
       "      <td>4.6</td>\n",
       "      <td>3.1</td>\n",
       "      <td>1.5</td>\n",
       "      <td>0.2</td>\n",
       "      <td>1</td>\n",
       "    </tr>\n",
       "    <tr>\n",
       "      <th>4</th>\n",
       "      <td>5.0</td>\n",
       "      <td>3.6</td>\n",
       "      <td>1.4</td>\n",
       "      <td>0.2</td>\n",
       "      <td>1</td>\n",
       "    </tr>\n",
       "    <tr>\n",
       "      <th>...</th>\n",
       "      <td>...</td>\n",
       "      <td>...</td>\n",
       "      <td>...</td>\n",
       "      <td>...</td>\n",
       "      <td>...</td>\n",
       "    </tr>\n",
       "    <tr>\n",
       "      <th>145</th>\n",
       "      <td>6.7</td>\n",
       "      <td>3.0</td>\n",
       "      <td>5.2</td>\n",
       "      <td>2.3</td>\n",
       "      <td>3</td>\n",
       "    </tr>\n",
       "    <tr>\n",
       "      <th>146</th>\n",
       "      <td>6.3</td>\n",
       "      <td>2.5</td>\n",
       "      <td>5.0</td>\n",
       "      <td>1.9</td>\n",
       "      <td>3</td>\n",
       "    </tr>\n",
       "    <tr>\n",
       "      <th>147</th>\n",
       "      <td>6.5</td>\n",
       "      <td>3.0</td>\n",
       "      <td>5.2</td>\n",
       "      <td>2.0</td>\n",
       "      <td>3</td>\n",
       "    </tr>\n",
       "    <tr>\n",
       "      <th>148</th>\n",
       "      <td>6.2</td>\n",
       "      <td>3.4</td>\n",
       "      <td>5.4</td>\n",
       "      <td>2.3</td>\n",
       "      <td>3</td>\n",
       "    </tr>\n",
       "    <tr>\n",
       "      <th>149</th>\n",
       "      <td>5.9</td>\n",
       "      <td>3.0</td>\n",
       "      <td>5.1</td>\n",
       "      <td>1.8</td>\n",
       "      <td>3</td>\n",
       "    </tr>\n",
       "  </tbody>\n",
       "</table>\n",
       "<p>150 rows × 5 columns</p>\n",
       "</div>"
      ],
      "text/plain": [
       "     SepalLengthCm  SepalWidthCm  PetalLengthCm  PetalWidthCm  Species\n",
       "0              5.1           3.5            1.4           0.2        1\n",
       "1              4.9           3.0            1.4           0.2        1\n",
       "2              4.7           3.2            1.3           0.2        1\n",
       "3              4.6           3.1            1.5           0.2        1\n",
       "4              5.0           3.6            1.4           0.2        1\n",
       "..             ...           ...            ...           ...      ...\n",
       "145            6.7           3.0            5.2           2.3        3\n",
       "146            6.3           2.5            5.0           1.9        3\n",
       "147            6.5           3.0            5.2           2.0        3\n",
       "148            6.2           3.4            5.4           2.3        3\n",
       "149            5.9           3.0            5.1           1.8        3\n",
       "\n",
       "[150 rows x 5 columns]"
      ]
     },
     "execution_count": 25,
     "metadata": {},
     "output_type": "execute_result"
    }
   ],
   "source": [
    "X_iris = iris.iloc[:,0:4]\n",
    "Y_iris = iris[\"Species\"]\n",
    "\n",
    "train_size = int(0.8 * len(iris))\n",
    "x_train_iris, x_test_iris = X_iris[:train_size], X_iris[train_size:]\n",
    "y_train_iris, y_test_iris = Y_iris[:train_size], Y_iris[train_size:]\n",
    "\n",
    "iris"
   ]
  },
  {
   "cell_type": "markdown",
   "id": "e5e33204",
   "metadata": {
    "papermill": {
     "duration": 0.016279,
     "end_time": "2023-10-23T01:15:33.464297",
     "exception": false,
     "start_time": "2023-10-23T01:15:33.448018",
     "status": "completed"
    },
    "tags": []
   },
   "source": [
    "**Logistic Regression**"
   ]
  },
  {
   "cell_type": "code",
   "execution_count": 26,
   "id": "69bbd6e7",
   "metadata": {
    "execution": {
     "iopub.execute_input": "2023-10-23T01:15:33.498872Z",
     "iopub.status.busy": "2023-10-23T01:15:33.498445Z",
     "iopub.status.idle": "2023-10-23T01:15:34.721186Z",
     "shell.execute_reply": "2023-10-23T01:15:34.719918Z"
    },
    "papermill": {
     "duration": 1.243,
     "end_time": "2023-10-23T01:15:34.723603",
     "exception": false,
     "start_time": "2023-10-23T01:15:33.480603",
     "status": "completed"
    },
    "tags": []
   },
   "outputs": [
    {
     "name": "stdout",
     "output_type": "stream",
     "text": [
      "cost history:  [0.6931471805599435, 0.5915201599797876, 0.492714348010015, 0.3966400136276161, 0.30320244404186575, 0.21230329587564362, 0.1238418525691535, 0.03771616736705889, -0.04617592085074083, -0.12793590463066715, -0.2076638577859678, -0.285457813309505, -0.36141326129242235, -0.4356227565469324, -0.5081756243599721, -0.5791577523144903, -0.6486514562244184, -0.7167354087704931, -0.7834846202525714, -0.8489704618717561, -0.9132607230304965, -0.9764196952226866, -1.0385082761308968, -1.0995840885232253, -1.1597016094297374, -1.2189123058698066, -1.2772647740954512, -1.3348048799153343, -1.3915758981757358, -1.4476186499065193, -1.5029716360004965, -1.557671166592552, -1.6117514855487116, -1.6652448896729373, -1.71818184239788, -1.7705910818513964, -1.822499723288862, -1.8739333559569666, -1.9249161345117913, -1.9754708651560478, -2.025619086690232, -2.075381146692615, -2.124776273055392, -2.173822641110659, -2.2225374365814665, -2.270936914591228, -2.31903645496, -2.366850614009428, -2.414393173090036, -2.4616771840353833, -2.5087150117379564, -2.5555183740316223, -2.602098379055383, -2.648465560263109, -2.6946299092341377, -2.7406009064300414, -2.786387550033706, -2.8319983829980524, -2.8774415184234017, -2.9227246633745154, -2.967855141240917, -3.0128399127370225, -3.0576855956320212, -3.1023984832932467, -3.1469845621210335, -3.1914495279475963, -3.235798801467475, -3.280037542762396, -3.3241706649790568, -3.3682028472141923, -3.4121385466576823, -3.455982010040778, -3.499737284433417, -3.543408227431483, -3.5869985167721343, -3.630511659412706, -3.673951000106222, -3.717319729504459, -3.760620891817278, -3.80385739205507, -3.847032002879457, -3.890147371085543, -3.9332060237377133, -3.976210373979308, -4.019162726535302, -4.062065282925948, -4.104920146407929, -4.147729326658888, -4.190494744219849, -4.233218234709255, -4.275901552821641, -4.318546376122879, -4.3611543086533215, -4.403726884349657, -4.446265570295138, -4.488771769807988, -4.531246825376278, -4.573692021448053, -4.616108587084187, -4.658497698481455, -4.700860481372527, -4.7431980133097476, -4.785511325838252, -4.82780140656492, -4.870069201127853, -4.912315615072212, -4.954541515636381, -4.996747733454275, -5.038935064176625, -5.08110427001652, -5.123256081222579, -5.1653911974830695, -5.207510289265184, -5.249613999091805, -5.291702942759893, -5.333777710502074, -5.375838868095808, -5.417886957921005, -5.459922499969917, -5.5019459928113434, -5.543957914510327, -5.585958723507618, -5.627948859457861, -5.669928744032073, -5.7118987816820015, -5.753859360373188, -5.795810852281687, -5.8377536144639395, -5.879687989493375, -5.921614306071755, -5.963532879610782, -6.005444012791427, -6.047347996095914, -6.0892451083172725, -6.131135617047651, -6.173019779144635, -6.214897841176009, -6.256770039848453, -6.2986366024148674, -6.3404977470644175, -6.382353683297864, -6.424204612283817, -6.46605072720281, -6.507892213574716, -6.549729249571171, -6.591562006318345, -6.63339064818275, -6.675215333048855, -6.71703621258086, -6.758853432476733, -6.800667132709443, -6.842477447759605, -6.884284506839024, -6.926088434097689, -6.967889348837093, -7.00968736569828, -7.051482594850176, -7.093275142172485, -7.1350651094234685, -7.176852594408181, -7.218637691136807, -7.260420489970039, -7.302201077774782, -7.343979538054597, -7.38575595108537, -7.427530394048371, -7.469302941142712, -7.5110736637184505, -7.552842630375031, -7.594609907073731, -7.636375557249107, -7.678139641899055, -7.7199022196860785, -7.761663347026511, -7.80342307818001, -7.845181465336542, -7.886938558685449, -7.928694406515508, -7.970449055269017, -8.012202549628666, -8.053954932563821, -8.095706245418032, -8.13745652798151, -8.179205818521353, -8.220954153851325, -8.262701569405415, -8.304448099271982, -8.346193776246885, -8.387938631908366, -8.429682696612154, -8.471425999607199, -8.51316856899945, -8.554910431881133, -8.59665161429972, -8.638392141334498, -8.680132037121469, -8.721871324885845, -8.763610026994687, -8.80534816497741, -8.847085759544639, -8.888822830682283, -8.93055939750853, -8.972295478569656, -9.014031091685013, -9.05576625391, -9.097500981827057, -9.139235291255682, -9.18096919754503, -9.222702715373815, -9.264435858889035, -9.30616864183409, -9.347901077280879, -9.389633177982253, -9.431364955962104, -9.473096423137338, -9.514827590783593, -9.556558469662573, -9.59828907040823, -9.640019403088347, -9.681749477388964, -9.723479302660087, -9.765208888055925, -9.806938242172524, -9.848667373238204, -9.890396289653923, -9.932124998871073, -9.973853508663728, -10.015581826061782, -10.057309958003474, -10.099037911294813, -10.140765692311751, -10.182493307188752, -10.224220761992934, -10.26594806271934, -10.307675214451809, -10.349402223069202, -10.391129093057764, -10.432855829961763, -10.474582438602654, -10.516308922939986, -10.558035288166112, -10.599761538153523, -10.641487677438246, -10.683213709090209, -10.724939638031536, -10.766665467583627, -10.808391200326442, -10.850116841795218, -10.891842393109014, -10.933567858784608, -10.975293241887675, -11.017018544249769, -11.058743770124579, -11.10046892068541, -11.14219399954743, -11.183919010682128, -11.225643954235716, -11.267368832823921, -11.309093650385922, -11.35081840755752, -11.392543108274287, -11.434267751612719, -11.475992342035712, -11.517716879918993, -11.559441369393763, -11.601165808376887, -11.642890202004246, -11.684614550986733, -11.726338854856094, -11.76806311986799, -11.8097873445052, -11.851511527906135, -11.893235674499387, -11.934959784919462, -11.97668386256311, -12.018407903789226, -12.060131912109231, -12.101855891816665, -12.14357984113755, -12.185303755961408, -12.227027644071011, -12.268751508203291, -12.310475349685447, -12.352199154420259, -12.393922943885782, -12.43564670339716, -12.477370443041714, -12.51909415835863, -12.56081784826875, -12.602541534675693, -12.644265184041355, -12.68598882093146, -12.727712427737456, -12.769436024108845, -12.811159614238317, -12.85288316673655, -12.894606717346793, -12.936330249328536, -12.978053751283534, -13.019777265775568, -13.061500757554763, -13.103224211502704, -13.144947673042038, -13.186671098620574, -13.228394538223485, -13.270117956405393, -13.311841342329524, -13.353564743303439, -13.395288118772081, -13.437011475518222, -13.478734819835092, -13.520458190510785, -13.562181472905843, -13.603904801016693, -13.645628130635869, -13.687351442053911, -13.729074719046988, -13.770797974685285, -13.812521170830092, -13.854244448246371, -13.895967681282093, -13.937690965308006, -13.979414103729747, -14.021137353967132, -14.062860458159758, -14.10458371733705, -14.146306919494537, -14.188030002641948, -14.229753072771329, -14.27147621590893, -14.313199342767213, -14.354922447347663, -14.396645515275479, -14.438368453202305, -14.480091452088129, -14.521814607969251, -14.563537446483593, -14.605260430219467, -14.646983515349204, -14.688706444280056, -14.730429475494127, -14.772152252620986, -14.813875254249012, -14.85559803893943, -14.897320624736107, -14.939043572262896, -14.980766533933986, -15.022489200595574, -15.064211745414722, -15.105934763120791, -15.147656610581434, -15.189379387600685, -15.231101919602724, -15.272824275342932, -15.314546834002742, -15.356268446244083, -15.397991185328378, -15.439713007113037, -15.481434521160924, -15.523158114741262, -15.564879126650396, -15.606601367979449, -15.648323012208404, -15.690044762175773, -15.731766697445133, -15.77348849134206, -15.815208803253647, -15.856930596459186, -15.89864992783934, -15.940370633417018, -15.982093568357731, -16.02381380479682, -16.06553507011189, -16.107256321467244, -16.14897226948271, -16.190691969332818, -16.232410991119085, -16.274128340627705, -16.315849378435775, -16.35756912948937, -16.399287487637164, -16.441003242892364, -16.48272048122074, -16.524439952652887, -16.56616314059774, -16.607874116872875, -16.64958597955159, -16.69130408639943, -16.73301744744416, -16.77472651357765, -16.81643634333313, -16.858151244783944, -16.899873285021577, -16.941583223412486, -16.983282381349028, -17.024997700565148, -17.066700125620894, -17.108415377108894, -17.150102458553317, -17.191811944303552, -17.233520501209213, -17.27522182992955, -17.316925413019707, -17.358629882543422, -17.400307985572628, -17.44202195377108, -17.483710708911943, -17.52538966540612, -17.567114127942226, -17.608799592041194, -17.650488373546683, -17.692138158357952, -17.73377869573583, -17.775522570732782, -17.817164816604283, -17.858808637309878, -17.900529146340457, -17.942144461113678, -17.98377155954537, -18.025433418410906, -18.067079125126483, -18.108721228718384, -18.150379525672438, -18.19200534403144, -18.23352667125989, -18.275223977378722, -18.316899533990824, -18.358496046642927, -18.40001706776222, -18.44145811948893, -18.48311220145262, -18.524807927193887, -18.56631302320384, -18.607809634200883, -18.649265716374895, -18.6908543814748, -18.732346992868823, -18.77386497003606, -18.815464803016845, -18.856686010275634, -18.89786561352886, -18.939675853833897, -18.981024959838123, -19.022455954312264, -19.063423421194294, -19.104734252394508, -19.146516050600017, -19.18751819327162, -19.22842376581389, -19.26917876497474, -19.311313273494594, -19.352304342265196, -19.3933415692262, -19.434387066778974, -19.474576377949184, -19.516103186920677, -19.557324702755174, -19.598067779625943, -19.63814850895983, -19.679897528693512, -19.72131063000768, -19.76053220004986, -19.802160054342053, -19.84163120266992, -19.88175688101641, -19.92309627831493, -19.963503285106928, -20.003432213230145, -20.04407970055008, -20.08411885994899, -20.124443698964573, -20.16516349217452, -20.20453897584805, -20.243471539152548, -20.283981835263013, -20.32266767027948, -20.363249783989357, -20.403466377831283, -20.44176197549651, -20.482666705721613, -20.520166749986522, -20.559175523783328, -20.596684364840872, -20.640514695882526, -20.67838084996073, -20.715780809094287, -20.75568457568384, -20.79207628953859, -20.83208763030855, -20.86979021835648, -20.908279139315898, -20.946185778415465, -20.98258933651301, -21.020596471186227, -21.057098425258847, -21.10059403890227, -21.137451275568544, -21.174204883776788, -21.21461624152346, -21.249703988786102, -21.28880232343244, -21.324119568023285, -21.363624394120773, -21.39885261796878, -21.43744069246699, -21.47313007836902, -21.509895083503533, -21.545541104705645, -21.58065558307604, -21.62019364574399, -21.65493020011818, -21.693536897522524, -21.72937245981638, -21.765426723353126, -21.800808146513795, -21.83510260615322, -21.87023020891455, -21.90763366123871, -21.9487122705627, -21.982495662085267, -22.016741981237207, -22.052483446886765, -22.08611268223169, -22.119715222726654, -22.155684742263894, -22.188375029908403, -22.224706664432507, -22.258800115892548, -22.295079959933837, -22.327222868980055, -22.361003304072078, -22.395347621221262, -22.427118526625787, -22.466000658159732, -22.498529320850306, -22.532685910438534, -22.563691195976542, -22.597577117842903, -22.631737104343088, -22.661837348113455, -22.695562739307253, -22.729640695595307, -22.76480667483475, -22.797170145603655, -22.830318145404586, -22.860889663287534, -22.891311301299613, -22.92526768787349, -22.95602677414848, -22.98569486739784, -23.018208848419455, -23.048293104452423, -23.075299390074953, -23.111809771244317, -23.1406714002923, -23.16902238106639, -23.20021251788822, -23.230525829700483, -23.26185571608952, -23.291868480853378, -23.32355398501057, -23.35380065183029, -23.382586970564713, -23.409121254278677, -23.437645032217972, -23.465016022731668, -23.492230981773634, -23.52447160940526, -23.552591189777612, -23.576552096108692, -23.607482516865034, -23.63443273709549, -23.659287680206877, -23.685971767700206, -23.71386327717473, -23.740084708600566, -23.765938051465568, -23.79493530377636, -23.81801442520747, -23.84525715205114, -23.87146352247533, -23.89247857900729, -23.918279003750662, -23.946423140720142, -23.974225333136967, -24.000098695254177, -24.02643988401565, -24.050506005306342, -24.07409224460217, -24.095115827892368, -24.118717343066137, -24.140000865759323, -24.171007194622575, -24.193058461119502, -24.21565385115867, -24.23530456604351, -24.260038967831427, -24.27982607786797, -24.301622545347875, -24.319462992724183, -24.3400484759685, -24.363860190483084, -24.386861692595456, -24.405100608218557, -24.4306320107245, -24.45255951364961, -24.470880688030682, -24.49286306568548, -24.512223693959754, -24.53160639450474, -24.555844133796253, -24.575584698108916, -24.595999487246413, -24.61470481987157, -24.634343187377972, -24.649950173154178, -24.66679462890024, -24.6854732511757, -24.702471872217213, -24.72276136860984, -24.742216807377645, -24.757594084529575, -24.77796956144159, -24.793447980979007, -24.808878695821228, -24.82675854979137, -24.843911756366364, -24.86275719282875, -24.877979695814293, -24.891338438700735, -24.905007925417188, -24.92306996895286, -24.93596758531029, -24.953880262827933, -24.969195398633975, -24.98177883904727, -24.993764113718157, -25.01178941645772, -25.022131375315606, -25.03724395906109, -25.051201904915366, -25.065957454776587, -25.0781240399784, -25.090900459455945, -25.10623698112945, -25.119262432386464, -25.132276214358765, -25.149306457738394, -25.161591943648773, -25.17061452893107, -25.18417854262371, -25.1958693930112, -25.20522201089823, -25.220580329169085, -25.23266745357556, -25.245716314003307, -25.2556236955481, -25.26844107770685, -25.279556261253838, -25.28905209054187, -25.298392295103913, -25.309728503528945, -25.319317118325944, -25.33000597707262, -25.342323149274726, -25.35341936070993, -25.364562308670187, -25.372766868279086, -25.38017955947128, -25.389478001294993, -25.398625372345787, -25.408799110105466, -25.417376165286623, -25.4243948752998, -25.43488431745437, -25.443248983246562, -25.45559095979225, -25.46299179519247, -25.47302479411571, -25.48075482375624, -25.487898352167583, -25.498173045458792, -25.506294625718073, -25.512333767206396, -25.52127197485837, -25.53085440919652, -25.536447578891764, -25.541369487062767, -25.5478448865322, -25.553446249151076, -25.559251461272407, -25.565577887209958, -25.574456776833685, -25.579827314267504, -25.5871019761293, -25.592037996762148, -25.59913547755756, -25.605626784137254, -25.608902162982016, -25.614652925220977, -25.62245127191846, -25.625682060841974, -25.635185302012918, -25.640894607556742, -25.646590369165622, -25.648450608745033, -25.65493381695387, -25.66036367955307, -25.6658246346125, -25.667642150477096, -25.67534689055228, -25.679834679615638, -25.682316527344003, -25.6877709776525, -25.692246732085998, -25.699962845204645, -25.703313940646574, -25.704629844198717, -25.707400428807993, -25.70958908685749, -25.716731575610492, -25.71803794002422, -25.723442461883845, -25.725499149492936, -25.731180823465554, -25.732603760120515, -25.73817307389332, -25.740712025840548, -25.74449970649558, -25.748463104636222, -25.754079376592934, -25.757793933343244, -25.760247862570044, -25.767690143051677, -25.76996782298848, -25.77139771952558, -25.773785819457363, -25.776514904802266, -25.780590062710413, -25.785472472343614, -25.78666623397111, -25.787996909057743, -25.789411189511142, -25.790619553523456, -25.792152419756512, -25.793332636923278, -25.79458038831061, -25.79857832031972, -25.799905586567753, -25.801149730278233, -25.805225058419204, -25.806529861538834, -25.807743681802624, -25.808992578857133, -25.811982619875206, -25.81295277033163, -25.81791391125245, -25.818939330406554, -25.821610048065804, -25.823000837111167, -25.824149378353354, -25.830135592870864, -25.831615885542284, -25.83266392575283, -25.833746204586696, -25.835162662165505, -25.836283444842966, -25.837491832450944, -25.83874596705855, -25.839687153921847, -25.841027635709978, -25.844095647203496, -25.845191778638902, -25.847558472310535, -25.850421818949744, -25.852021164810683, -25.8523834840207, -25.854080557718575, -25.854519172361922, -25.85586922781695, -25.857239129389978, -25.859431059781823, -25.860880793773365, -25.861899411248753, -25.86242029696011, -25.864061496780476, -25.86461712479887, -25.86573334867534, -25.866969851139842, -25.867525479158235, -25.868166643457617, -25.869502445886795, -25.870097784051918, -25.870792422181726, -25.87288607442256, -25.87288607442257]\n",
      "predictions:  [1, 1, 1, 1, 1, 1, 1, 1, 1, 1, 1, 1, 1, 1, 1, 1, 1, 1, 1, 1, 1, 1, 1, 1, 1, 1, 1, 1, 1, 1]\n",
      "Accuracy:  0.0\n",
      "The average accuracy from k-fold cross-validation is: 0.33333333333333337\n"
     ]
    }
   ],
   "source": [
    "logisticModel = LogisticRegression(learning_rate = 0.001)\n",
    "logisticModel.fit(x_train_iris, y_train_iris)\n",
    "\n",
    "cost_history = logisticModel.fit(x_train_iris, y_train_iris)\n",
    "print(\"cost history: \",cost_history)\n",
    "\n",
    "predictions = logisticModel.predict(x_test_iris)\n",
    "print(\"predictions: \",predictions)\n",
    "\n",
    "# checking the accuracy of the model\n",
    "accuracy = logisticModel.evaluate_acc(y_test_iris, predictions)\n",
    "print(\"Accuracy: \", accuracy)\n",
    "\n",
    "# running the cross-validation function\n",
    "avg_accuracy = LogisticRegression.cross_validate_logistic(X_iris, Y_iris, 5)\n",
    "print(f\"The average accuracy from k-fold cross-validation is: {avg_accuracy}\")"
   ]
  },
  {
   "cell_type": "code",
   "execution_count": 27,
   "id": "1ed9637e",
   "metadata": {
    "execution": {
     "iopub.execute_input": "2023-10-23T01:15:34.759353Z",
     "iopub.status.busy": "2023-10-23T01:15:34.758973Z",
     "iopub.status.idle": "2023-10-23T01:15:37.233242Z",
     "shell.execute_reply": "2023-10-23T01:15:37.232236Z"
    },
    "papermill": {
     "duration": 2.496297,
     "end_time": "2023-10-23T01:15:37.237096",
     "exception": false,
     "start_time": "2023-10-23T01:15:34.740799",
     "status": "completed"
    },
    "tags": []
   },
   "outputs": [
    {
     "data": {
      "image/png": "[encoded data removed]",
      "text/plain": [
       "<Figure size 1000x600 with 1 Axes>"
      ]
     },
     "metadata": {},
     "output_type": "display_data"
    }
   ],
   "source": [
    "# Testing different learning rates and plotting the cost history\n",
    "learning_rates = [0.000001, 0.00001, 0.0001, 0.001]\n",
    "cost_histories = {}\n",
    "\n",
    "for lr in learning_rates:\n",
    "    model = LogisticRegression(learning_rate=lr)\n",
    "    cost_histories[lr] = model.fit(x_train_iris, y_train_iris)\n",
    "\n",
    "# Plotting the cost histories for different learning rates\n",
    "plt.figure(figsize=(10, 6))\n",
    "for lr, history in cost_histories.items():\n",
    "    plt.plot(history, label=f\"Learning Rate: {lr}\")\n",
    "plt.xlabel(\"Iterations\")\n",
    "plt.ylabel(\"Cost\")\n",
    "plt.title(\"Cost History for Different Learning Rates\")\n",
    "plt.legend()\n",
    "plt.grid(True)\n",
    "plt.show()"
   ]
  },
  {
   "cell_type": "markdown",
   "id": "585e5beb",
   "metadata": {
    "papermill": {
     "duration": 0.016731,
     "end_time": "2023-10-23T01:15:37.271764",
     "exception": false,
     "start_time": "2023-10-23T01:15:37.255033",
     "status": "completed"
    },
    "tags": []
   },
   "source": [
    "**KNN**"
   ]
  },
  {
   "cell_type": "code",
   "execution_count": 28,
   "id": "25a9f612",
   "metadata": {
    "execution": {
     "iopub.execute_input": "2023-10-23T01:15:37.308213Z",
     "iopub.status.busy": "2023-10-23T01:15:37.307810Z",
     "iopub.status.idle": "2023-10-23T01:15:37.343763Z",
     "shell.execute_reply": "2023-10-23T01:15:37.342446Z"
    },
    "papermill": {
     "duration": 0.057436,
     "end_time": "2023-10-23T01:15:37.346645",
     "exception": false,
     "start_time": "2023-10-23T01:15:37.289209",
     "status": "completed"
    },
    "tags": []
   },
   "outputs": [
    {
     "name": "stdout",
     "output_type": "stream",
     "text": [
      "KNN Predictions:  [3, 3, 3, 2, 3, 3, 2, 2, 3, 3, 3, 3, 3, 2, 3, 3, 3, 3, 2, 3, 3, 3, 3, 3, 3, 3, 3, 3, 3, 2]\n",
      "KNN Accuracy:  0.8\n",
      "CV Accuracy for k=1: 0.975\n",
      "CV Accuracy for k=2: 0.9666666666666666\n",
      "CV Accuracy for k=3: 0.975\n",
      "CV Accuracy for k=4: 0.95\n",
      "CV Accuracy for k=5: 0.9666666666666668\n"
     ]
    }
   ],
   "source": [
    "KNearNeighbor = KNN(k=5)  # Using k=5\n",
    "KNearNeighbor.fit(x_train_iris, y_train_iris)\n",
    "\n",
    "# Predict the labels for the test data\n",
    "x_test_iris = x_test_iris.astype(float)\n",
    "knn_predictions = KNearNeighbor.predict(x_test_iris)\n",
    "print(\"KNN Predictions: \", knn_predictions)\n",
    "\n",
    "# Evaluate the accuracy of the KNN model using the test data\n",
    "knn_accuracy = evaluate_acc_knn(y_test_iris, knn_predictions)\n",
    "print(\"KNN Accuracy: \", knn_accuracy)\n",
    "\n",
    "# Run k-fold cross-validation for the KNN model\n",
    "k_list = list(range(1,6))  # You can modify this list to test different values of k, in this case its 1-5\n",
    "k_accuracies = cross_validation_knn(x_train_iris, y_train_iris, k_list, n_splits=5)\n",
    "\n",
    "# Print the accuracies for different values of k\n",
    "for k, acc in k_accuracies.items():\n",
    "    print(f\"CV Accuracy for k={k}: {acc}\")"
   ]
  },
  {
   "cell_type": "code",
   "execution_count": 29,
   "id": "d36cc2f1",
   "metadata": {
    "execution": {
     "iopub.execute_input": "2023-10-23T01:15:37.383400Z",
     "iopub.status.busy": "2023-10-23T01:15:37.383058Z",
     "iopub.status.idle": "2023-10-23T01:15:37.822817Z",
     "shell.execute_reply": "2023-10-23T01:15:37.822015Z"
    },
    "papermill": {
     "duration": 0.460361,
     "end_time": "2023-10-23T01:15:37.824665",
     "exception": false,
     "start_time": "2023-10-23T01:15:37.364304",
     "status": "completed"
    },
    "tags": []
   },
   "outputs": [
    {
     "data": {
      "image/png": "[encoded data removed]",
      "text/plain": [
       "<Figure size 1000x600 with 1 Axes>"
      ]
     },
     "metadata": {},
     "output_type": "display_data"
    }
   ],
   "source": [
    "k_values = list(range(1, 21))  # Testing k from 1 to 20\n",
    "accuracies = []\n",
    "\n",
    "# For each k value, train the KNN model and evaluate its accuracy\n",
    "for k in k_values:\n",
    "    knnModelTemp = KNN(k=k)\n",
    "    knnModelTemp.fit(x_train_iris, y_train_iris)\n",
    "    knn_predictions_temp = knnModelTemp.predict(x_test_iris)\n",
    "    accuracy = evaluate_acc_knn(y_test_iris, knn_predictions_temp)\n",
    "    accuracies.append(accuracy)\n",
    "\n",
    "# Plot k values against accuracies\n",
    "plt.figure(figsize=(10, 6))\n",
    "plt.plot(k_values, accuracies, marker='o', linestyle='-')\n",
    "plt.xlabel('k Value')\n",
    "plt.ylabel('Accuracy')\n",
    "plt.title('Accuracy vs. k Value for KNN for Iris dataset')\n",
    "plt.grid(True)\n",
    "plt.show()"
   ]
  },
  {
   "cell_type": "markdown",
   "id": "b1278181",
   "metadata": {
    "papermill": {
     "duration": 0.017676,
     "end_time": "2023-10-23T01:15:37.860889",
     "exception": false,
     "start_time": "2023-10-23T01:15:37.843213",
     "status": "completed"
    },
    "tags": []
   },
   "source": [
    "# Testing US Cars Data"
   ]
  },
  {
   "cell_type": "code",
   "execution_count": 30,
   "id": "e2967384",
   "metadata": {
    "execution": {
     "iopub.execute_input": "2023-10-23T01:15:37.898685Z",
     "iopub.status.busy": "2023-10-23T01:15:37.897793Z",
     "iopub.status.idle": "2023-10-23T01:15:37.910809Z",
     "shell.execute_reply": "2023-10-23T01:15:37.910040Z"
    },
    "papermill": {
     "duration": 0.034981,
     "end_time": "2023-10-23T01:15:37.913673",
     "exception": false,
     "start_time": "2023-10-23T01:15:37.878692",
     "status": "completed"
    },
    "tags": []
   },
   "outputs": [],
   "source": [
    "# Clean the data and drop some irrelavant columns\n",
    "cars_df = pd.DataFrame(us_cars)\n",
    "cars_df = cars_df.drop('Unnamed: 0', axis = 1)\n",
    "cars_df.drop(columns=['vin', 'lot', 'country'], inplace = True)\n",
    "cars_df.drop(columns=['brand', 'model', 'color', 'state', 'condition'], inplace=True)\n",
    "\n",
    "\n",
    "# Make sure the mileage is the right datatype\n",
    "cars_df['mileage'] = cars_df ['mileage'].astype(int)\n",
    "title_status = (cars_df.pop('title_status'))\n",
    "cars_df.insert(3, 'title_status', title_status)\n",
    "\n",
    "cars_df['title_status'] = cars_df['title_status'].replace({'clean vehicle': 1, 'salvage insurance': 0})\n",
    "\n",
    "#80-20 ratio\n",
    "y_cars = cars_df['title_status']\n",
    "X_cars = cars_df[['year', 'mileage', 'price']]\n",
    "\n",
    "train_size = int(0.8 * len(cars_df))\n",
    "x_train_cars, x_test_cars = X_cars[:train_size], X_cars[train_size:]\n",
    "y_train_cars, y_test_cars = y_cars[:train_size], y_cars[train_size:]"
   ]
  },
  {
   "cell_type": "markdown",
   "id": "14d481f8",
   "metadata": {
    "papermill": {
     "duration": 0.017767,
     "end_time": "2023-10-23T01:15:37.950791",
     "exception": false,
     "start_time": "2023-10-23T01:15:37.933024",
     "status": "completed"
    },
    "tags": []
   },
   "source": [
    "**Logistic Regression**"
   ]
  },
  {
   "cell_type": "code",
   "execution_count": 31,
   "id": "9ffa5638",
   "metadata": {
    "execution": {
     "iopub.execute_input": "2023-10-23T01:15:37.990509Z",
     "iopub.status.busy": "2023-10-23T01:15:37.989479Z",
     "iopub.status.idle": "2023-10-23T01:15:38.044364Z",
     "shell.execute_reply": "2023-10-23T01:15:38.041588Z"
    },
    "papermill": {
     "duration": 0.077836,
     "end_time": "2023-10-23T01:15:38.047232",
     "exception": false,
     "start_time": "2023-10-23T01:15:37.969396",
     "status": "completed"
    },
    "tags": []
   },
   "outputs": [
    {
     "name": "stdout",
     "output_type": "stream",
     "text": [
      "cost history:  [0.6931471805599434, 2.389289451209393, 2.3835762917566146, 17.826329632277854, 2.415330276518873, 2.4112541066285935, 2.407045797156262, 9.878698137916347, 2.4181576676853207, 2.4151406486060654, 3.953893412732411, 2.41658097882221, 2.0268232890645654, 16.434181076447814, 2.4189238095485215, 2.4189238095485215]\n",
      "predictions:  [1, 1, 1, 1, 1, 1, 1, 1, 1, 1, 1, 1, 1, 1, 1, 1, 1, 1, 1, 1, 1, 1, 1, 1, 1, 1, 1, 1, 1, 1, 1, 1, 1, 1, 1, 1, 1, 1, 1, 1, 1, 1, 1, 1, 1, 1, 1, 1, 1, 1, 1, 1, 1, 1, 1, 1, 1, 1, 1, 1, 1, 1, 1, 1, 1, 1, 1, 1, 1, 1, 1, 1, 1, 1, 1, 1, 1, 1, 1, 1, 1, 1, 1, 1, 1, 1, 1, 1, 1, 1, 1, 1, 1, 1, 1, 1, 1, 1, 1, 1, 1, 1, 1, 1, 1, 1, 1, 1, 1, 1, 1, 1, 1, 1, 1, 1, 1, 1, 1, 1, 1, 1, 1, 1, 1, 1, 1, 1, 1, 1, 1, 1, 1, 1, 1, 1, 1, 1, 1, 1, 1, 1, 1, 1, 1, 1, 1, 1, 1, 1, 1, 1, 1, 1, 1, 1, 1, 1, 1, 1, 1, 1, 1, 1, 1, 1, 1, 1, 1, 1, 1, 1, 1, 1, 1, 1, 1, 1, 1, 1, 1, 1, 1, 1, 1, 1, 1, 1, 1, 1, 1, 1, 1, 1, 1, 1, 1, 1, 1, 1, 1, 1, 1, 1, 1, 1, 1, 1, 1, 1, 1, 1, 1, 1, 1, 1, 1, 1, 1, 1, 1, 1, 1, 1, 1, 1, 1, 1, 1, 1, 1, 1, 1, 1, 1, 1, 1, 1, 1, 1, 1, 1, 1, 1, 1, 1, 1, 1, 1, 1, 1, 1, 1, 1, 1, 1, 1, 1, 1, 1, 1, 1, 1, 1, 1, 1, 1, 1, 1, 1, 1, 1, 1, 1, 1, 1, 1, 1, 1, 1, 1, 1, 1, 1, 1, 1, 1, 1, 1, 1, 1, 1, 1, 1, 1, 1, 1, 1, 1, 1, 1, 1, 1, 1, 1, 1, 1, 1, 1, 1, 1, 1, 1, 1, 1, 1, 1, 1, 1, 1, 1, 1, 1, 1, 1, 1, 1, 1, 1, 1, 1, 1, 1, 1, 1, 1, 1, 1, 1, 1, 1, 1, 1, 1, 1, 1, 1, 1, 1, 1, 1, 1, 1, 1, 1, 1, 1, 1, 1, 1, 1, 1, 1, 1, 1, 1, 1, 1, 1, 1, 1, 1, 1, 1, 1, 1, 1, 1, 1, 1, 1, 1, 1, 1, 1, 1, 1, 1, 1, 1, 1, 1, 1, 1, 1, 1, 1, 1, 1, 1, 1, 1, 1, 1, 1, 1, 1, 1, 1, 1, 1, 1, 1, 1, 1, 1, 1, 1, 1, 1, 1, 1, 1, 1, 1, 1, 1, 1, 1, 1, 1, 1, 1, 1, 1, 1, 1, 1, 1, 1, 1, 1, 1, 1, 1, 1, 1, 1, 1, 1, 1, 1, 1, 1, 1, 1, 1, 1, 1, 1, 1, 1, 1, 1, 1, 1, 1, 1, 1, 1, 1, 1, 1, 1, 1, 1, 1, 1, 1, 1, 1, 1, 1, 1, 1, 1, 1, 1, 1, 1, 1, 1, 1, 1, 1, 1, 1, 1, 1, 1]\n",
      "Accuracy:  95.39999999999999%\n",
      "The average accuracy from k-fold cross-validation is: 63.10524209683873%\n"
     ]
    },
    {
     "name": "stderr",
     "output_type": "stream",
     "text": [
      "/tmp/ipykernel_20/2068660570.py:10: RuntimeWarning: overflow encountered in exp\n",
      "  return 1 / (1 + np.exp(-z))\n",
      "/tmp/ipykernel_20/2068660570.py:10: RuntimeWarning: overflow encountered in exp\n",
      "  return 1 / (1 + np.exp(-z))\n",
      "/tmp/ipykernel_20/2068660570.py:10: RuntimeWarning: overflow encountered in exp\n",
      "  return 1 / (1 + np.exp(-z))\n",
      "/tmp/ipykernel_20/2068660570.py:10: RuntimeWarning: overflow encountered in exp\n",
      "  return 1 / (1 + np.exp(-z))\n",
      "/tmp/ipykernel_20/2068660570.py:10: RuntimeWarning: overflow encountered in exp\n",
      "  return 1 / (1 + np.exp(-z))\n",
      "/tmp/ipykernel_20/2068660570.py:10: RuntimeWarning: overflow encountered in exp\n",
      "  return 1 / (1 + np.exp(-z))\n",
      "/tmp/ipykernel_20/2068660570.py:10: RuntimeWarning: overflow encountered in exp\n",
      "  return 1 / (1 + np.exp(-z))\n",
      "/tmp/ipykernel_20/2068660570.py:10: RuntimeWarning: overflow encountered in exp\n",
      "  return 1 / (1 + np.exp(-z))\n",
      "/tmp/ipykernel_20/2068660570.py:10: RuntimeWarning: overflow encountered in exp\n",
      "  return 1 / (1 + np.exp(-z))\n",
      "/tmp/ipykernel_20/2068660570.py:10: RuntimeWarning: overflow encountered in exp\n",
      "  return 1 / (1 + np.exp(-z))\n",
      "/tmp/ipykernel_20/2068660570.py:10: RuntimeWarning: overflow encountered in exp\n",
      "  return 1 / (1 + np.exp(-z))\n"
     ]
    }
   ],
   "source": [
    "# # cars_df\n",
    "logisticModel = LogisticRegression(learning_rate = 0.00001)\n",
    "logisticModel.fit(x_train_cars, y_train_cars)\n",
    "\n",
    "cost_history = logisticModel.fit(x_train_cars, y_train_cars)\n",
    "print(\"cost history: \",cost_history)\n",
    "\n",
    "predictions = logisticModel.predict(x_test_cars)\n",
    "print(\"predictions: \",predictions)\n",
    "\n",
    "# # checking the accuracy of the model\n",
    "accuracy = logisticModel.evaluate_acc(y_test_cars, predictions)\n",
    "print(\"Accuracy: \", str(accuracy *100) + \"%\")\n",
    "\n",
    "avg_accuracy = LogisticRegression.cross_validate_logistic(X_cars, y_cars, 3)\n",
    "print(f\"The average accuracy from k-fold cross-validation is: \" + str(avg_accuracy*100) + \"%\")"
   ]
  },
  {
   "cell_type": "code",
   "execution_count": 32,
   "id": "ae426aae",
   "metadata": {
    "execution": {
     "iopub.execute_input": "2023-10-23T01:15:38.086289Z",
     "iopub.status.busy": "2023-10-23T01:15:38.085871Z",
     "iopub.status.idle": "2023-10-23T01:15:38.394944Z",
     "shell.execute_reply": "2023-10-23T01:15:38.393732Z"
    },
    "papermill": {
     "duration": 0.330363,
     "end_time": "2023-10-23T01:15:38.396880",
     "exception": false,
     "start_time": "2023-10-23T01:15:38.066517",
     "status": "completed"
    },
    "tags": []
   },
   "outputs": [
    {
     "name": "stderr",
     "output_type": "stream",
     "text": [
      "/tmp/ipykernel_20/2068660570.py:10: RuntimeWarning: overflow encountered in exp\n",
      "  return 1 / (1 + np.exp(-z))\n",
      "/tmp/ipykernel_20/2068660570.py:10: RuntimeWarning: overflow encountered in exp\n",
      "  return 1 / (1 + np.exp(-z))\n",
      "/tmp/ipykernel_20/2068660570.py:10: RuntimeWarning: overflow encountered in exp\n",
      "  return 1 / (1 + np.exp(-z))\n",
      "/tmp/ipykernel_20/2068660570.py:10: RuntimeWarning: overflow encountered in exp\n",
      "  return 1 / (1 + np.exp(-z))\n"
     ]
    },
    {
     "data": {
      "image/png": "[encoded data removed]",
      "text/plain": [
       "<Figure size 1000x600 with 1 Axes>"
      ]
     },
     "metadata": {},
     "output_type": "display_data"
    }
   ],
   "source": [
    "# Testing different learning rates and plotting the cost history\n",
    "learning_rates = [0.00001, 0.0001, 0.001, 0.01]\n",
    "cost_histories = {}\n",
    "\n",
    "for lr in learning_rates:\n",
    "    model = LogisticRegression(learning_rate=lr)\n",
    "    cost_histories[lr] = model.fit(x_train_cars, y_train_cars)\n",
    "\n",
    "# Plotting the cost histories for different learning rates\n",
    "plt.figure(figsize=(10, 6))\n",
    "for lr, history in cost_histories.items():\n",
    "    plt.plot(history, label=f\"Learning Rate: {lr}\")\n",
    "plt.xlabel(\"Iterations\")\n",
    "plt.ylabel(\"Cost\")\n",
    "plt.title(\"Cost History for Different Learning Rates\")\n",
    "plt.legend()\n",
    "plt.grid(True)\n",
    "plt.show()"
   ]
  },
  {
   "cell_type": "markdown",
   "id": "af64e3e9",
   "metadata": {
    "papermill": {
     "duration": 0.018296,
     "end_time": "2023-10-23T01:15:38.433909",
     "exception": false,
     "start_time": "2023-10-23T01:15:38.415613",
     "status": "completed"
    },
    "tags": []
   },
   "source": [
    "**KNN**"
   ]
  },
  {
   "cell_type": "code",
   "execution_count": 33,
   "id": "f3b06f0e",
   "metadata": {
    "execution": {
     "iopub.execute_input": "2023-10-23T01:15:38.472628Z",
     "iopub.status.busy": "2023-10-23T01:15:38.472312Z",
     "iopub.status.idle": "2023-10-23T01:15:41.456644Z",
     "shell.execute_reply": "2023-10-23T01:15:41.454827Z"
    },
    "papermill": {
     "duration": 3.007043,
     "end_time": "2023-10-23T01:15:41.459583",
     "exception": false,
     "start_time": "2023-10-23T01:15:38.452540",
     "status": "completed"
    },
    "tags": []
   },
   "outputs": [
    {
     "name": "stdout",
     "output_type": "stream",
     "text": [
      "KNN Predictions:  [1, 1, 1, 1, 1, 1, 1, 1, 1, 1, 1, 1, 1, 1, 1, 1, 0, 1, 1, 1, 1, 1, 1, 1, 1, 1, 1, 1, 1, 1, 1, 1, 1, 1, 1, 1, 1, 1, 1, 1, 1, 1, 1, 1, 1, 1, 1, 1, 1, 1, 1, 1, 1, 1, 1, 1, 1, 1, 1, 1, 1, 1, 1, 1, 1, 1, 1, 1, 1, 1, 1, 1, 1, 1, 1, 1, 1, 1, 1, 1, 1, 1, 1, 1, 1, 1, 1, 1, 1, 1, 1, 1, 1, 1, 1, 1, 1, 1, 1, 1, 1, 1, 1, 1, 1, 1, 1, 1, 1, 0, 1, 1, 1, 1, 1, 1, 1, 1, 1, 1, 1, 1, 1, 1, 1, 1, 1, 1, 1, 1, 1, 1, 1, 1, 1, 1, 1, 1, 1, 1, 1, 1, 1, 1, 1, 1, 1, 1, 1, 1, 1, 1, 1, 1, 1, 1, 1, 1, 1, 1, 1, 1, 1, 1, 1, 1, 1, 1, 1, 1, 1, 1, 1, 1, 1, 1, 1, 1, 1, 1, 1, 1, 1, 1, 1, 1, 1, 1, 1, 1, 1, 1, 1, 1, 1, 1, 1, 1, 1, 1, 1, 1, 1, 1, 1, 1, 1, 1, 1, 1, 1, 1, 1, 1, 1, 1, 1, 1, 1, 1, 1, 1, 1, 1, 1, 1, 1, 1, 1, 1, 1, 1, 1, 1, 1, 1, 1, 1, 1, 1, 1, 1, 1, 1, 1, 1, 1, 1, 1, 1, 1, 1, 1, 1, 1, 1, 1, 1, 1, 1, 1, 1, 1, 1, 1, 1, 1, 1, 1, 1, 1, 1, 1, 1, 0, 1, 1, 1, 1, 1, 1, 1, 0, 1, 1, 0, 1, 1, 1, 0, 1, 1, 1, 1, 1, 0, 1, 1, 1, 1, 1, 1, 1, 1, 1, 1, 1, 1, 1, 1, 1, 1, 1, 1, 1, 1, 1, 1, 1, 1, 1, 1, 1, 1, 1, 1, 1, 1, 1, 1, 1, 1, 1, 1, 1, 1, 1, 1, 1, 1, 1, 1, 1, 1, 1, 1, 1, 1, 1, 1, 1, 1, 1, 1, 1, 1, 1, 1, 1, 1, 1, 1, 1, 1, 1, 1, 1, 1, 1, 1, 1, 1, 1, 1, 1, 1, 1, 1, 1, 1, 1, 1, 1, 1, 1, 1, 1, 1, 1, 1, 1, 1, 1, 1, 1, 1, 1, 1, 1, 1, 1, 1, 1, 1, 1, 1, 1, 1, 1, 1, 1, 0, 1, 1, 1, 0, 0, 1, 0, 0, 1, 0, 1, 1, 1, 1, 1, 1, 1, 1, 1, 1, 1, 1, 1, 1, 1, 1, 1, 1, 1, 1, 1, 1, 1, 1, 1, 1, 1, 1, 1, 1, 1, 1, 1, 1, 1, 1, 1, 1, 1, 1, 1, 1, 1, 1, 1, 1, 1, 1, 1, 0, 1, 1, 1, 1, 1, 1, 1, 1, 1, 1, 1, 1, 1, 1, 1, 1, 1, 1, 1, 1, 1, 1, 1, 1, 1, 1, 1, 1]\n",
      "KNN Accuracy: 97.39999999999999%\n",
      "Accuracy for k=1: 0.9531812725090036\n",
      "Accuracy for k=3: 0.9571828731492596\n",
      "Accuracy for k=5: 0.9559823929571829\n",
      "Accuracy for k=7: 0.9575830332132854\n",
      "Accuracy for k=9: 0.9579831932773111\n",
      "Accuracy for k=11: 0.9535814325730292\n"
     ]
    }
   ],
   "source": [
    "KNearNeighbor = KNN(k=3)  # Using k=3 as default = KNN(k=3)  # Using k=3 as default\n",
    "KNearNeighbor.fit(x_train_cars, y_train_cars)\n",
    "\n",
    "# 2. Predict the labels for the test data\n",
    "knn_predictions = KNearNeighbor.predict(x_test_cars)\n",
    "print(\"KNN Predictions: \", knn_predictions)\n",
    "\n",
    "# 3. Evaluate the accuracy of the KNN model using the test data\n",
    "knn_accuracy = evaluate_acc_knn(y_test_cars, knn_predictions)\n",
    "print(\"KNN Accuracy: \" + str(knn_accuracy*100) + \"%\")\n",
    "\n",
    "# 4. Run k-fold cross-validation for the KNN model\n",
    "k_list = [1, 3, 5, 7, 9, 11]  # You can modify this list to test different values of k\n",
    "k_accuracies = cross_validation_knn(X_cars, y_cars, k_list, 3)\n",
    "\n",
    "# Print the accuracies for different values of k\n",
    "for k, acc in k_accuracies.items():\n",
    "    print(f\"Accuracy for k={k}: {acc}\")"
   ]
  },
  {
   "cell_type": "code",
   "execution_count": 34,
   "id": "c31115bb",
   "metadata": {
    "execution": {
     "iopub.execute_input": "2023-10-23T01:15:41.499352Z",
     "iopub.status.busy": "2023-10-23T01:15:41.498981Z",
     "iopub.status.idle": "2023-10-23T01:15:46.847174Z",
     "shell.execute_reply": "2023-10-23T01:15:46.845529Z"
    },
    "papermill": {
     "duration": 5.371192,
     "end_time": "2023-10-23T01:15:46.849716",
     "exception": false,
     "start_time": "2023-10-23T01:15:41.478524",
     "status": "completed"
    },
    "tags": []
   },
   "outputs": [
    {
     "data": {
      "image/png": "[encoded data removed]",
      "text/plain": [
       "<Figure size 1000x600 with 1 Axes>"
      ]
     },
     "metadata": {},
     "output_type": "display_data"
    }
   ],
   "source": [
    "k_values = list(range(1, 21))  # Testing k from 1 to 20\n",
    "accuracies = []\n",
    "\n",
    "# For each k value, train the KNN model and evaluate its accuracy\n",
    "for k in k_values:\n",
    "    knnModelTemp = KNN(k=k)\n",
    "    knnModelTemp.fit(x_train_cars, y_train_cars)\n",
    "    knn_predictions_temp = knnModelTemp.predict(x_test_cars)\n",
    "    accuracy = evaluate_acc_knn(y_test_cars, knn_predictions_temp)\n",
    "    accuracies.append(accuracy)\n",
    "\n",
    "# Plot k values against accuracies\n",
    "plt.figure(figsize=(10, 6))\n",
    "plt.plot(k_values, accuracies, marker='o', linestyle='-')\n",
    "plt.xlabel('k Value')\n",
    "plt.ylabel('Accuracy')\n",
    "plt.title('Accuracy vs. k Value for KNN')\n",
    "plt.grid(True)\n",
    "plt.show()"
   ]
  }
 ],
 "metadata": {
  "kernelspec": {
   "display_name": "Python 3",
   "language": "python",
   "name": "python3"
  },
  "language_info": {
   "codemirror_mode": {
    "name": "ipython",
    "version": 3
   },
   "file_extension": ".py",
   "mimetype": "text/x-python",
   "name": "python",
   "nbconvert_exporter": "python",
   "pygments_lexer": "ipython3",
   "version": "3.10.12"
  },
  "papermill": {
   "default_parameters": {},
   "duration": 605.690258,
   "end_time": "2023-10-23T01:15:47.491709",
   "environment_variables": {},
   "exception": null,
   "input_path": "__notebook__.ipynb",
   "output_path": "__notebook__.ipynb",
   "parameters": {},
   "start_time": "2023-10-23T01:05:41.801451",
   "version": "2.4.0"
  }
 },
 "nbformat": 4,
 "nbformat_minor": 5
}
